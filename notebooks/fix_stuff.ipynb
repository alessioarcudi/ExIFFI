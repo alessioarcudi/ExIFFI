{
 "cells": [
  {
   "cell_type": "markdown",
   "metadata": {},
   "source": [
    "## Fix `feature_selection` plots"
   ]
  },
  {
   "cell_type": "code",
   "execution_count": 1,
   "metadata": {},
   "outputs": [],
   "source": [
    "import os\n",
    "import sys\n",
    "sys.path.append('../')\n",
    "from model_reboot.EIF_reboot import ExtendedTree, ExtendedIsolationForest,IsolationForest\n",
    "import numpy as np\n",
    "import pandas as pd\n",
    "from utils_reboot.datasets import Dataset\n",
    "from utils_reboot.utils import *\n",
    "from utils_reboot.experiments import *\n",
    "from utils_reboot.plots import *\n",
    "from sklearn.preprocessing import StandardScaler,MinMaxScaler\n",
    "import pyod"
   ]
  },
  {
   "cell_type": "code",
   "execution_count": 2,
   "metadata": {},
   "outputs": [],
   "source": [
    "data_syn_path='/home/davidefrizzo/Desktop/PHD/ExIFFI/data/syn/'\n",
    "data_real_path='/home/davidefrizzo/Desktop/PHD/ExIFFI/data/real/'\n",
    "experiment_path='/home/davidefrizzo/Desktop/PHD/ExIFFI/experiments/results'\n",
    "dataset = Dataset('moodify', path = data_real_path)"
   ]
  },
  {
   "cell_type": "code",
   "execution_count": 3,
   "metadata": {},
   "outputs": [
    {
     "data": {
      "text/plain": [
       "'moodify'"
      ]
     },
     "execution_count": 3,
     "metadata": {},
     "output_type": "execute_result"
    }
   ],
   "source": [
    "dataset.name"
   ]
  },
  {
   "cell_type": "code",
   "execution_count": 10,
   "metadata": {},
   "outputs": [],
   "source": [
    "def fix_feat_sel_plot(dataset,model,interpretation,scenario,save=True,box_loc=None,rotation=False):\n",
    "    path=os.path.join(experiment_path,dataset.name,'experiments','feature_selection',model,interpretation,f'scenario_{str(scenario)}')\n",
    "    file_path=get_most_recent_file(path)\n",
    "    path_plots=os.path.join(experiment_path,dataset.name,'plots_new')\n",
    "    plot_feature_selection(file_path,plot_path=path_plots,model=model,interpretation=interpretation,scenario=scenario,save_image=save,plot_image=True,box_loc=box_loc,rotation=rotation)"
   ]
  },
  {
   "cell_type": "code",
   "execution_count": null,
   "metadata": {},
   "outputs": [],
   "source": [
    "fix_feat_sel_plot(dataset,'EIF+','EXIFFI',2,save=False)"
   ]
  },
  {
   "cell_type": "markdown",
   "metadata": {},
   "source": [
    "## Fix `AUC_FS` box"
   ]
  },
  {
   "cell_type": "code",
   "execution_count": 1,
   "metadata": {},
   "outputs": [],
   "source": [
    "import os\n",
    "import sys\n",
    "sys.path.append('../')\n",
    "from model_reboot.EIF_reboot import ExtendedTree, ExtendedIsolationForest,IsolationForest\n",
    "import numpy as np\n",
    "import pandas as pd\n",
    "from utils_reboot.datasets import Dataset\n",
    "from utils_reboot.utils import *\n",
    "from utils_reboot.experiments import *\n",
    "from utils_reboot.plots import *\n",
    "from sklearn.preprocessing import StandardScaler,MinMaxScaler\n",
    "from collections import namedtuple"
   ]
  },
  {
   "cell_type": "code",
   "execution_count": 2,
   "metadata": {},
   "outputs": [],
   "source": [
    "os.chdir('../experiments/results')\n",
    "models=['EIF','IF','EIF+']\n",
    "interpretations=['RandomForest']\n",
    "scenarios=[1,2]\n",
    "dataset_names_syn=['Xaxis','Yaxis','bisect','bisect_3d','bisect_6d']\n",
    "data_syn_path='/home/davidefrizzo/Desktop/PHD/ExIFFI/data/syn/'\n",
    "dataset_names_real=['moodify']\n",
    "data_real_path='/home/davidefrizzo/Desktop/PHD/ExIFFI/data/real/'"
   ]
  },
  {
   "cell_type": "markdown",
   "metadata": {},
   "source": [
    "Synthetic Datasets"
   ]
  },
  {
   "cell_type": "code",
   "execution_count": 3,
   "metadata": {},
   "outputs": [],
   "source": [
    "for data in dataset_names_syn:\n",
    "    dataset = Dataset(data, path = data_syn_path)\n",
    "    for model in models:\n",
    "        for interpretation in interpretations:\n",
    "            if (model=='EIF+' or model=='EIF') and interpretation=='DIFFI':\n",
    "                continue\n",
    "            elif (model=='IF') and (interpretation=='EXIFFI'):\n",
    "                continue\n",
    "            else:\n",
    "                for scenario in scenarios:\n",
    "                    fix_fs_file(dataset,model,interpretation,scenario)"
   ]
  },
  {
   "cell_type": "markdown",
   "metadata": {},
   "source": [
    "Real Datasets"
   ]
  },
  {
   "cell_type": "code",
   "execution_count": null,
   "metadata": {},
   "outputs": [],
   "source": [
    "for data in dataset_names_real:\n",
    "    dataset = Dataset(data, path = data_real_path)\n",
    "    for model in models:\n",
    "        for interpretation in interpretations:\n",
    "            if (model=='EIF+' or model=='EIF') and interpretation=='DIFFI':\n",
    "                continue\n",
    "            elif (model=='IF') and (interpretation=='EXIFFI'):\n",
    "                continue\n",
    "            else:\n",
    "                for scenario in scenarios:\n",
    "                    fix_fs_file(dataset,model,interpretation,scenario)"
   ]
  },
  {
   "cell_type": "code",
   "execution_count": 5,
   "metadata": {},
   "outputs": [],
   "source": [
    "aucfs_vals=[]\n",
    "for model in models:\n",
    "    for interpretation in interpretations:\n",
    "        if (model=='EIF+' or model=='EIF') and interpretation=='DIFFI':\n",
    "            continue\n",
    "        elif (model=='IF') and (interpretation=='EXIFFI'):\n",
    "            continue\n",
    "        else:\n",
    "            for scenario in scenarios:\n",
    "                aucfs_vals.append(get_fs_file(dataset,model,interpretation,scenario).aucfs)"
   ]
  },
  {
   "cell_type": "markdown",
   "metadata": {},
   "source": [
    "`cardio`"
   ]
  },
  {
   "cell_type": "code",
   "execution_count": 6,
   "metadata": {},
   "outputs": [],
   "source": [
    "dataset = Dataset('ionosphere', path = data_real_path)"
   ]
  },
  {
   "cell_type": "code",
   "execution_count": 7,
   "metadata": {},
   "outputs": [],
   "source": [
    "fix_fs_file(dataset,'IF','RandomForest',1)\n",
    "fix_fs_file(dataset,'IF','RandomForest',2)"
   ]
  },
  {
   "cell_type": "markdown",
   "metadata": {},
   "source": [
    "`diabetes` and `shuttle`"
   ]
  },
  {
   "cell_type": "code",
   "execution_count": 16,
   "metadata": {},
   "outputs": [],
   "source": [
    "dataset = Dataset('shuttle', path = data_real_path)"
   ]
  },
  {
   "cell_type": "code",
   "execution_count": 15,
   "metadata": {},
   "outputs": [],
   "source": [
    "fix_fs_file(dataset,'EIF+','RandomForest',2)\n",
    "fix_fs_file(dataset,'IF','RandomForest',1)\n",
    "fix_fs_file(dataset,'IF','RandomForest',2)"
   ]
  },
  {
   "cell_type": "markdown",
   "metadata": {},
   "source": [
    "`moodify`"
   ]
  },
  {
   "cell_type": "code",
   "execution_count": 5,
   "metadata": {},
   "outputs": [],
   "source": [
    "fix_fs_file(dataset,'IF','RandomForest',1)\n",
    "fix_fs_file(dataset,'IF','RandomForest',2)"
   ]
  },
  {
   "cell_type": "markdown",
   "metadata": {},
   "source": [
    "## `contamination` plots"
   ]
  },
  {
   "cell_type": "code",
   "execution_count": 11,
   "metadata": {},
   "outputs": [],
   "source": [
    "import os\n",
    "import sys\n",
    "sys.path.append('../')\n",
    "from model_reboot.EIF_reboot import ExtendedTree, ExtendedIsolationForest,IsolationForest\n",
    "import numpy as np\n",
    "import pandas as pd\n",
    "from utils_reboot.datasets import Dataset\n",
    "from utils_reboot.utils import *\n",
    "from utils_reboot.experiments import *\n",
    "from utils_reboot.plots import *\n",
    "from sklearn.preprocessing import StandardScaler,MinMaxScaler\n",
    "from collections import namedtuple"
   ]
  },
  {
   "cell_type": "code",
   "execution_count": 12,
   "metadata": {},
   "outputs": [],
   "source": [
    "def fix_contamination_plot(dataset,model,interpretation,scenario,save=True):\n",
    "    path=os.path.join(experiment_path,dataset.name,'experiments','contamination','precisions')\n",
    "    file_path=get_most_recent_file(path)\n",
    "    prec=open_element(file_path)[0]\n",
    "    path_plots=os.path.join(experiment_path,dataset.name,'plots_new')\n",
    "    plot_precision_over_contamination(prec,dataset.name,model,interpretation,scenario,path_plots,save_image=save,plot_image=True)"
   ]
  },
  {
   "cell_type": "code",
   "execution_count": 8,
   "metadata": {},
   "outputs": [
    {
     "data": {
      "image/png": "[encoded data removed]",
      "text/plain": [
       "<Figure size 640x480 with 1 Axes>"
      ]
     },
     "metadata": {},
     "output_type": "display_data"
    }
   ],
   "source": [
    "data_syn_path='/home/davidefrizzo/Desktop/PHD/ExIFFI/data/syn/'\n",
    "data_real_path='/home/davidefrizzo/Desktop/PHD/ExIFFI/data/real/'\n",
    "experiment_path='/home/davidefrizzo/Desktop/PHD/ExIFFI/experiments/results'\n",
    "dataset = Dataset('breastw', path = data_real_path)\n",
    "fix_contamination_plot(dataset,'EIF+','EXIFFI',2)"
   ]
  },
  {
   "cell_type": "code",
   "execution_count": null,
   "metadata": {},
   "outputs": [],
   "source": [
    "fix_contamination_plot(dataset,'EIF+','EXIFFI',2)"
   ]
  },
  {
   "cell_type": "markdown",
   "metadata": {},
   "source": [
    "`plot_feature_selection`"
   ]
  },
  {
   "cell_type": "code",
   "execution_count": 8,
   "metadata": {},
   "outputs": [],
   "source": [
    "def print_plt_title(dataset_name,model,interpretation,scenario):\n",
    "    t = time.localtime()\n",
    "    current_time = time.strftime(\"%d-%m-%Y_%H-%M-%S\", t)\n",
    "    namefile = \"/\" + current_time + \"_\" + dataset_name + \"_\" + model + \"_\" + interpretation + \"_feature_selection_\" + str(scenario) + \".pdf\"\n",
    "    return namefile"
   ]
  },
  {
   "cell_type": "code",
   "execution_count": 9,
   "metadata": {},
   "outputs": [
    {
     "data": {
      "text/plain": [
       "'/28-02-2024_10-04-29_breastw_EIF+_EXIFFI_feature_selection_2.pdf'"
      ]
     },
     "execution_count": 9,
     "metadata": {},
     "output_type": "execute_result"
    }
   ],
   "source": [
    "print_plt_title('breastw','EIF+','EXIFFI',2)"
   ]
  },
  {
   "cell_type": "code",
   "execution_count": null,
   "metadata": {},
   "outputs": [],
   "source": []
  },
  {
   "cell_type": "code",
   "execution_count": null,
   "metadata": {},
   "outputs": [],
   "source": []
  }
 ],
 "metadata": {
  "kernelspec": {
   "display_name": "pyod_env",
   "language": "python",
   "name": "python3"
  },
  "language_info": {
   "codemirror_mode": {
    "name": "ipython",
    "version": 3
   },
   "file_extension": ".py",
   "mimetype": "text/x-python",
   "name": "python",
   "nbconvert_exporter": "python",
   "pygments_lexer": "ipython3",
   "version": "3.11.5"
  }
 },
 "nbformat": 4,
 "nbformat_minor": 2
}
