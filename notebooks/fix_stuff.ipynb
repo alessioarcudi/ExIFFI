{
 "cells": [
  {
   "cell_type": "markdown",
   "metadata": {},
   "source": [
    "## Fix `feature_selection` plots"
   ]
  },
  {
   "cell_type": "code",
   "execution_count": 1,
   "metadata": {},
   "outputs": [],
   "source": [
    "import os\n",
    "import sys\n",
    "sys.path.append('../')\n",
    "from model_reboot.EIF_reboot import ExtendedTree, ExtendedIsolationForest,IsolationForest\n",
    "import numpy as np\n",
    "import pandas as pd\n",
    "from utils_reboot.datasets import Dataset\n",
    "from utils_reboot.utils import *\n",
    "from utils_reboot.experiments import *\n",
    "from utils_reboot.plots import *\n",
    "from sklearn.preprocessing import StandardScaler,MinMaxScaler\n",
    "import pyod"
   ]
  },
  {
   "cell_type": "code",
   "execution_count": 2,
   "metadata": {},
   "outputs": [],
   "source": [
    "dataset = Dataset('wine', path = '../data/real/')\n",
    "dataset.drop_duplicates()\n",
    "dataset.split_dataset(contamination=0)"
   ]
  },
  {
   "cell_type": "code",
   "execution_count": 3,
   "metadata": {},
   "outputs": [],
   "source": [
    "os.chdir('../experiments/results')\n",
    "def fix_feat_sel_plot(dataset,model,interpretation,scenario,save=True,box_loc=None,rotation=False):\n",
    "    path=os.path.join(os.getcwd(),dataset.name,'experiments','feature_selection',model,interpretation,f'scenario_{str(scenario)}')\n",
    "    file_path=get_most_recent_file(path)\n",
    "    path_plots=os.path.join(os.getcwd(),dataset.name,'plots_new')\n",
    "    plot_feature_selection(file_path,plot_path=path_plots,model=model,interpretation=interpretation,scenario=scenario,save_image=save,plot_image=True,box_loc=box_loc,rotation=rotation)"
   ]
  },
  {
   "cell_type": "markdown",
   "metadata": {},
   "source": [
    "## Fix `AUC_FS` box"
   ]
  },
  {
   "cell_type": "code",
   "execution_count": 1,
   "metadata": {},
   "outputs": [],
   "source": [
    "import os\n",
    "import sys\n",
    "sys.path.append('../')\n",
    "from model_reboot.EIF_reboot import ExtendedTree, ExtendedIsolationForest,IsolationForest\n",
    "import numpy as np\n",
    "import pandas as pd\n",
    "from utils_reboot.datasets import Dataset\n",
    "from utils_reboot.utils import *\n",
    "from utils_reboot.experiments import *\n",
    "from utils_reboot.plots import *\n",
    "from sklearn.preprocessing import StandardScaler,MinMaxScaler\n",
    "from collections import namedtuple"
   ]
  },
  {
   "cell_type": "code",
   "execution_count": 2,
   "metadata": {},
   "outputs": [],
   "source": [
    "os.chdir('../experiments/results')\n",
    "models=['EIF+','EIF','IF']\n",
    "interpretations=['EXIFFI','DIFFI','RandomForest']\n",
    "scenarios=[1,2]\n",
    "dataset_names_syn=['Xaxis','Yaxis','bisect','bisect_3d','bisect_6d']\n",
    "data_syn_path='/home/davidefrizzo/Desktop/PHD/ExIFFI/data/syn/'\n",
    "dataset_names_real=['pima','breastw','ionosphere','annthyroid','pendigits','diabetes','shuttle']\n",
    "data_real_path='/home/davidefrizzo/Desktop/PHD/ExIFFI/data/real/'"
   ]
  },
  {
   "cell_type": "markdown",
   "metadata": {},
   "source": [
    "Synthetic Datasets"
   ]
  },
  {
   "cell_type": "code",
   "execution_count": 3,
   "metadata": {},
   "outputs": [],
   "source": [
    "for data in dataset_names_syn:\n",
    "    dataset = Dataset(data, path = data_syn_path)\n",
    "    for model in models:\n",
    "        for interpretation in interpretations:\n",
    "            if (model=='EIF+' or model=='EIF') and interpretation=='DIFFI':\n",
    "                continue\n",
    "            elif (model=='IF') and (interpretation=='EXIFFI'):\n",
    "                continue\n",
    "            else:\n",
    "                for scenario in scenarios:\n",
    "                    fix_fs_file(dataset,model,interpretation,scenario)"
   ]
  },
  {
   "cell_type": "markdown",
   "metadata": {},
   "source": [
    "Real Datasets"
   ]
  },
  {
   "cell_type": "code",
   "execution_count": 6,
   "metadata": {},
   "outputs": [
    {
     "ename": "IndexError",
     "evalue": "list index out of range",
     "output_type": "error",
     "traceback": [
      "\u001b[0;31m---------------------------------------------------------------------------\u001b[0m",
      "\u001b[0;31mIndexError\u001b[0m                                Traceback (most recent call last)",
      "Cell \u001b[0;32mIn[6], line 11\u001b[0m\n\u001b[1;32m      9\u001b[0m \u001b[38;5;28;01melse\u001b[39;00m:\n\u001b[1;32m     10\u001b[0m     \u001b[38;5;28;01mfor\u001b[39;00m scenario \u001b[38;5;129;01min\u001b[39;00m scenarios:\n\u001b[0;32m---> 11\u001b[0m         fix_fs_file(dataset,model,interpretation,scenario)\n",
      "File \u001b[0;32m~/Desktop/PHD/ExIFFI/notebooks/../utils_reboot/utils.py:82\u001b[0m, in \u001b[0;36mfix_fs_file\u001b[0;34m(dataset, model, interpretation, scenario)\u001b[0m\n\u001b[1;32m     80\u001b[0m \u001b[38;5;28;01mdef\u001b[39;00m \u001b[38;5;21mfix_fs_file\u001b[39m(dataset,model,interpretation,scenario):\n\u001b[1;32m     81\u001b[0m     path\u001b[38;5;241m=\u001b[39mos\u001b[38;5;241m.\u001b[39mpath\u001b[38;5;241m.\u001b[39mjoin(os\u001b[38;5;241m.\u001b[39mgetcwd(),dataset\u001b[38;5;241m.\u001b[39mname,\u001b[38;5;124m'\u001b[39m\u001b[38;5;124mexperiments\u001b[39m\u001b[38;5;124m'\u001b[39m,\u001b[38;5;124m'\u001b[39m\u001b[38;5;124mfeature_selection\u001b[39m\u001b[38;5;124m'\u001b[39m,model,interpretation,\u001b[38;5;124mf\u001b[39m\u001b[38;5;124m'\u001b[39m\u001b[38;5;124mscenario_\u001b[39m\u001b[38;5;132;01m{\u001b[39;00m\u001b[38;5;28mstr\u001b[39m(scenario)\u001b[38;5;132;01m}\u001b[39;00m\u001b[38;5;124m'\u001b[39m)\n\u001b[0;32m---> 82\u001b[0m     file_path\u001b[38;5;241m=\u001b[39mget_most_recent_file(path)\n\u001b[1;32m     83\u001b[0m     precs\u001b[38;5;241m=\u001b[39mopen_element(file_path)[\u001b[38;5;241m0\u001b[39m]\n\u001b[1;32m     84\u001b[0m     aucfs\u001b[38;5;241m=\u001b[39m\u001b[38;5;28msum\u001b[39m(precs\u001b[38;5;241m.\u001b[39minverse\u001b[38;5;241m.\u001b[39mmean(axis\u001b[38;5;241m=\u001b[39m\u001b[38;5;241m1\u001b[39m)\u001b[38;5;241m-\u001b[39mprecs\u001b[38;5;241m.\u001b[39mdirect\u001b[38;5;241m.\u001b[39mmean(axis\u001b[38;5;241m=\u001b[39m\u001b[38;5;241m1\u001b[39m))\n",
      "File \u001b[0;32m~/Desktop/PHD/ExIFFI/notebooks/../utils_reboot/utils.py:31\u001b[0m, in \u001b[0;36mget_most_recent_file\u001b[0;34m(directory_path)\u001b[0m\n\u001b[1;32m     29\u001b[0m \u001b[38;5;28;01mdef\u001b[39;00m \u001b[38;5;21mget_most_recent_file\u001b[39m(directory_path):\n\u001b[1;32m     30\u001b[0m     files \u001b[38;5;241m=\u001b[39m \u001b[38;5;28msorted\u001b[39m(os\u001b[38;5;241m.\u001b[39mlistdir(directory_path))\n\u001b[0;32m---> 31\u001b[0m     \u001b[38;5;28;01mreturn\u001b[39;00m directory_path\u001b[38;5;241m+\u001b[39m\u001b[38;5;124m\"\u001b[39m\u001b[38;5;124m/\u001b[39m\u001b[38;5;124m\"\u001b[39m\u001b[38;5;241m+\u001b[39mfiles[\u001b[38;5;241m-\u001b[39m\u001b[38;5;241m1\u001b[39m]\n",
      "\u001b[0;31mIndexError\u001b[0m: list index out of range"
     ]
    }
   ],
   "source": [
    "for data in dataset_names_real:\n",
    "    dataset = Dataset(data, path = data_real_path)\n",
    "    for model in models:\n",
    "        for interpretation in interpretations:\n",
    "            if (model=='EIF+' or model=='EIF') and interpretation=='DIFFI':\n",
    "                continue\n",
    "            elif (model=='IF') and (interpretation=='EXIFFI'):\n",
    "                continue\n",
    "            else:\n",
    "                for scenario in scenarios:\n",
    "                    fix_fs_file(dataset,model,interpretation,scenario)"
   ]
  },
  {
   "cell_type": "code",
   "execution_count": 5,
   "metadata": {},
   "outputs": [],
   "source": [
    "aucfs_vals=[]\n",
    "for model in models:\n",
    "    for interpretation in interpretations:\n",
    "        if (model=='EIF+' or model=='EIF') and interpretation=='DIFFI':\n",
    "            continue\n",
    "        elif (model=='IF') and (interpretation=='EXIFFI'):\n",
    "            continue\n",
    "        else:\n",
    "            for scenario in scenarios:\n",
    "                aucfs_vals.append(get_fs_file(dataset,model,interpretation,scenario).aucfs)"
   ]
  },
  {
   "cell_type": "code",
   "execution_count": null,
   "metadata": {},
   "outputs": [],
   "source": []
  }
 ],
 "metadata": {
  "kernelspec": {
   "display_name": "pyod_env",
   "language": "python",
   "name": "python3"
  },
  "language_info": {
   "codemirror_mode": {
    "name": "ipython",
    "version": 3
   },
   "file_extension": ".py",
   "mimetype": "text/x-python",
   "name": "python",
   "nbconvert_exporter": "python",
   "pygments_lexer": "ipython3",
   "version": "3.11.5"
  }
 },
 "nbformat": 4,
 "nbformat_minor": 2
}
