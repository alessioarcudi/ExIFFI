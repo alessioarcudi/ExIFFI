{
 "cells": [
  {
   "cell_type": "markdown",
   "metadata": {},
   "source": [
    "# Test AD Models \n",
    "\n",
    "Test other Anomaly Detection models to compare to EIF+. \n",
    "\n",
    "Potential models to test: \n",
    "\n",
    "- Deep Isolation Forest (DIF) \n",
    "- INNE: Isolation Based AD using nearest neighbours ensemble\n",
    "- SUOD: This is another ensemble model like EIF \n",
    "- Auto Encoder "
   ]
  },
  {
   "cell_type": "code",
   "execution_count": 1,
   "metadata": {},
   "outputs": [
    {
     "name": "stderr",
     "output_type": "stream",
     "text": [
      "2024-02-09 16:24:48.980488: I tensorflow/core/platform/cpu_feature_guard.cc:182] This TensorFlow binary is optimized to use available CPU instructions in performance-critical operations.\n",
      "To enable the following instructions: SSE4.1 SSE4.2 AVX AVX2 AVX_VNNI FMA, in other operations, rebuild TensorFlow with the appropriate compiler flags.\n"
     ]
    }
   ],
   "source": [
    "import os\n",
    "import sys\n",
    "import numpy as np\n",
    "import pandas as pd\n",
    "import matplotlib.pyplot as plt\n",
    "import seaborn as sns\n",
    "sns.set()\n",
    "from pyod.models.dif import DIF\n",
    "from pyod.models.inne import INNE\n",
    "from pyod.models.auto_encoder import AutoEncoder\n",
    "from pyod.models.suod import SUOD\n",
    "\n",
    "from scipy.io import loadmat\n",
    "\n",
    "sys.path.append('../src')\n",
    "from src.performance_report_functions import *\n",
    "from src.utils import *\n",
    "\n",
    "sys.path.append('../models')\n",
    "from models.forests import *"
   ]
  },
  {
   "cell_type": "markdown",
   "metadata": {},
   "source": [
    "## Load Data"
   ]
  },
  {
   "cell_type": "code",
   "execution_count": 2,
   "metadata": {},
   "outputs": [
    {
     "data": {
      "text/plain": [
       "'/home/davidefrizzo/Desktop/PHD/ExIFFI/data/real'"
      ]
     },
     "execution_count": 2,
     "metadata": {},
     "output_type": "execute_result"
    }
   ],
   "source": [
    "os.chdir('../data/real/')\n",
    "os.getcwd()"
   ]
  },
  {
   "cell_type": "code",
   "execution_count": 3,
   "metadata": {},
   "outputs": [
    {
     "name": "stdout",
     "output_type": "stream",
     "text": [
      "wine \n",
      "\n",
      "[number of samples = 129]\n",
      "[percentage outliers = 0.07751937984496124]\n",
      "[number features = 13]\n",
      "[number outliers = 10]\n"
     ]
    }
   ],
   "source": [
    "X,y=mat_dataset('wine')"
   ]
  },
  {
   "cell_type": "code",
   "execution_count": 6,
   "metadata": {},
   "outputs": [
    {
     "name": "stdout",
     "output_type": "stream",
     "text": [
      "diabetes \n",
      "\n",
      "[number of samples = 85916]\n",
      "[percentage outliers = 0.096582708692211]\n",
      "[number features = 4]\n",
      "[number outliers = 8298]\n"
     ]
    }
   ],
   "source": [
    "X,y=csv_dataset('diabetes',os.getcwd()+'/')"
   ]
  },
  {
   "cell_type": "code",
   "execution_count": 4,
   "metadata": {},
   "outputs": [
    {
     "data": {
      "text/plain": [
       "((119, 13), (129, 13), (129, 13))"
      ]
     },
     "execution_count": 4,
     "metadata": {},
     "output_type": "execute_result"
    }
   ],
   "source": [
    "X_train,X_test=partition_data(X,y)\n",
    "X_train,X_test,X=pre_process(X_train,X_test)\n",
    "X_train.shape,X_test.shape,X.shape"
   ]
  },
  {
   "cell_type": "markdown",
   "metadata": {},
   "source": [
    "## EIF"
   ]
  },
  {
   "cell_type": "code",
   "execution_count": 9,
   "metadata": {},
   "outputs": [],
   "source": [
    "EIF=ExtendedIsolationForest(n_estimators=300,plus=0)\n",
    "EIF.fit(X_train)"
   ]
  },
  {
   "cell_type": "code",
   "execution_count": 11,
   "metadata": {},
   "outputs": [
    {
     "data": {
      "text/plain": [
       "{'Precision': 0.2,\n",
       " 'Recall': 0.2,\n",
       " 'f1 score': 0.20000000000000004,\n",
       " 'Accuracy': 0.875968992248062,\n",
       " 'Balanced Accuracy': 0.5663865546218487,\n",
       " 'Average Precision': 0.1363386518400739,\n",
       " 'ROC AUC Score': 0.6781512605042017}"
      ]
     },
     "execution_count": 11,
     "metadata": {},
     "output_type": "execute_result"
    }
   ],
   "source": [
    "score_eif=EIF.predict(X_test)\n",
    "perf=performance_eif(y,score_eif,X_test,EIF)\n",
    "perf"
   ]
  },
  {
   "cell_type": "markdown",
   "metadata": {},
   "source": [
    "## EIF+"
   ]
  },
  {
   "cell_type": "code",
   "execution_count": 12,
   "metadata": {},
   "outputs": [],
   "source": [
    "EIF_plus=ExtendedIsolationForest(n_estimators=300,plus=1)\n",
    "EIF_plus.fit(X_train)"
   ]
  },
  {
   "cell_type": "code",
   "execution_count": 13,
   "metadata": {},
   "outputs": [
    {
     "data": {
      "text/plain": [
       "{'Precision': 0.1,\n",
       " 'Recall': 0.1,\n",
       " 'f1 score': 0.10000000000000002,\n",
       " 'Accuracy': 0.8604651162790697,\n",
       " 'Balanced Accuracy': 0.5121848739495799,\n",
       " 'Average Precision': 0.1363386518400739,\n",
       " 'ROC AUC Score': 0.6781512605042017}"
      ]
     },
     "execution_count": 13,
     "metadata": {},
     "output_type": "execute_result"
    }
   ],
   "source": [
    "score_eif_plus=EIF_plus.predict(X_test)\n",
    "perf_plus=performance_eif(y,score_eif,X_test,EIF_plus)\n",
    "perf_plus"
   ]
  },
  {
   "cell_type": "markdown",
   "metadata": {},
   "source": [
    "## Deep Isolation Forest (DIF)"
   ]
  },
  {
   "cell_type": "markdown",
   "metadata": {},
   "source": [
    "Let's start with all the default parameters except for the contamination parameter that will be set at the real contamination of the dataset"
   ]
  },
  {
   "cell_type": "code",
   "execution_count": 8,
   "metadata": {},
   "outputs": [
    {
     "data": {
      "text/plain": [
       "DIF(batch_size=1000, contamination=0.07751937984496124,\n",
       "  device=device(type='cpu'), hidden_activation='tanh',\n",
       "  hidden_neurons=[500, 100], max_samples=256, n_ensemble=50,\n",
       "  n_estimators=6, random_state=None, representation_dim=20,\n",
       "  skip_connection=False)"
      ]
     },
     "execution_count": 8,
     "metadata": {},
     "output_type": "execute_result"
    }
   ],
   "source": [
    "p=sum(y)/len(y)\n",
    "dif=DIF(contamination=p)\n",
    "dif.fit(X_train)"
   ]
  },
  {
   "cell_type": "markdown",
   "metadata": {},
   "source": [
    "Testing on X_test concatenation of X_train and X_test training on X_train "
   ]
  },
  {
   "cell_type": "code",
   "execution_count": 9,
   "metadata": {},
   "outputs": [
    {
     "data": {
      "text/plain": [
       "{'Precision': 0.0,\n",
       " 'Recall': 0.0,\n",
       " 'f1 score': 0.0,\n",
       " 'Accuracy': 0.9224806201550387,\n",
       " 'Balanced Accuracy': 0.5,\n",
       " 'Average Precision': 0.07751937984496124,\n",
       " 'ROC AUC Score': 0.5}"
      ]
     },
     "execution_count": 9,
     "metadata": {},
     "output_type": "execute_result"
    }
   ],
   "source": [
    "dif_perf,y_pred=performance(dif,X_test,y)\n",
    "dif_perf"
   ]
  },
  {
   "cell_type": "markdown",
   "metadata": {},
   "source": [
    "Testing on X"
   ]
  },
  {
   "cell_type": "code",
   "execution_count": 10,
   "metadata": {},
   "outputs": [
    {
     "data": {
      "text/plain": [
       "{'Precision': 0.0,\n",
       " 'Recall': 0.0,\n",
       " 'f1 score': 0.0,\n",
       " 'Accuracy': 0.9224806201550387,\n",
       " 'Balanced Accuracy': 0.5,\n",
       " 'Average Precision': 0.07751937984496124,\n",
       " 'ROC AUC Score': 0.5}"
      ]
     },
     "execution_count": 10,
     "metadata": {},
     "output_type": "execute_result"
    }
   ],
   "source": [
    "dif_perf,y_pred=performance(dif,X,y)\n",
    "dif_perf"
   ]
  },
  {
   "cell_type": "markdown",
   "metadata": {},
   "source": [
    "## INNE "
   ]
  },
  {
   "cell_type": "code",
   "execution_count": 11,
   "metadata": {},
   "outputs": [
    {
     "data": {
      "text/plain": [
       "INNE(contamination=0.07751937984496124, max_samples='auto', n_estimators=200,\n",
       "   random_state=None)"
      ]
     },
     "execution_count": 11,
     "metadata": {},
     "output_type": "execute_result"
    }
   ],
   "source": [
    "p=sum(y)/len(y)\n",
    "inne=INNE(contamination=p)\n",
    "inne.fit(X_train)"
   ]
  },
  {
   "cell_type": "markdown",
   "metadata": {},
   "source": [
    "Testing on X_test"
   ]
  },
  {
   "cell_type": "code",
   "execution_count": 12,
   "metadata": {},
   "outputs": [
    {
     "data": {
      "text/plain": [
       "{'Precision': 0.07142857142857142,\n",
       " 'Recall': 0.1,\n",
       " 'f1 score': 0.08333333333333333,\n",
       " 'Accuracy': 0.8294573643410853,\n",
       " 'Balanced Accuracy': 0.4953781512605042,\n",
       " 'Average Precision': 0.07691029900332226,\n",
       " 'ROC AUC Score': 0.4953781512605042}"
      ]
     },
     "execution_count": 12,
     "metadata": {},
     "output_type": "execute_result"
    }
   ],
   "source": [
    "dif_perf,y_pred=performance(inne,X_test,y)\n",
    "dif_perf"
   ]
  },
  {
   "cell_type": "markdown",
   "metadata": {},
   "source": [
    "Testing on X"
   ]
  },
  {
   "cell_type": "code",
   "execution_count": 13,
   "metadata": {},
   "outputs": [
    {
     "data": {
      "text/plain": [
       "{'Precision': 0.07692307692307693,\n",
       " 'Recall': 0.1,\n",
       " 'f1 score': 0.08695652173913043,\n",
       " 'Accuracy': 0.8372093023255814,\n",
       " 'Balanced Accuracy': 0.4995798319327731,\n",
       " 'Average Precision': 0.07745974955277281,\n",
       " 'ROC AUC Score': 0.49957983193277317}"
      ]
     },
     "execution_count": 13,
     "metadata": {},
     "output_type": "execute_result"
    }
   ],
   "source": [
    "dif_perf,y_pred=performance(inne,X,y)\n",
    "dif_perf"
   ]
  },
  {
   "cell_type": "markdown",
   "metadata": {},
   "source": [
    "## AutoEncoder\n",
    "\n",
    "In the AutoEncoder model we have to reduce the dimensionality of the dataset in the hidden layer, so we have to pass the dimensions of each layer in the AutoEncoder in the `hidden_neurons` parameter.\n",
    "\n"
   ]
  },
  {
   "cell_type": "code",
   "execution_count": 6,
   "metadata": {},
   "outputs": [
    {
     "name": "stdout",
     "output_type": "stream",
     "text": [
      "Model: \"sequential\"\n",
      "_________________________________________________________________\n",
      " Layer (type)                Output Shape              Param #   \n",
      "=================================================================\n",
      " dense (Dense)               (None, 13)                182       \n",
      "                                                                 \n",
      " dropout (Dropout)           (None, 13)                0         \n",
      "                                                                 \n",
      " dense_1 (Dense)             (None, 13)                182       \n",
      "                                                                 \n",
      " dropout_1 (Dropout)         (None, 13)                0         \n",
      "                                                                 \n",
      " dense_2 (Dense)             (None, 13)                182       \n",
      "                                                                 \n",
      " dropout_2 (Dropout)         (None, 13)                0         \n",
      "                                                                 \n",
      " dense_3 (Dense)             (None, 7)                 98        \n",
      "                                                                 \n",
      " dropout_3 (Dropout)         (None, 7)                 0         \n",
      "                                                                 \n",
      " dense_4 (Dense)             (None, 7)                 56        \n",
      "                                                                 \n",
      " dropout_4 (Dropout)         (None, 7)                 0         \n",
      "                                                                 \n",
      " dense_5 (Dense)             (None, 13)                104       \n",
      "                                                                 \n",
      " dropout_5 (Dropout)         (None, 13)                0         \n",
      "                                                                 \n",
      " dense_6 (Dense)             (None, 13)                182       \n",
      "                                                                 \n",
      "=================================================================\n",
      "Total params: 986\n",
      "Trainable params: 986\n",
      "Non-trainable params: 0\n",
      "_________________________________________________________________\n"
     ]
    },
    {
     "name": "stderr",
     "output_type": "stream",
     "text": [
      "2024-02-09 15:57:08.377740: I tensorflow/core/common_runtime/process_util.cc:146] Creating new thread pool with default inter op setting: 2. Tune using inter_op_parallelism_threads for best performance.\n"
     ]
    },
    {
     "name": "stdout",
     "output_type": "stream",
     "text": [
      "None\n",
      "Epoch 1/100\n",
      "4/4 [==============================] - 1s 53ms/step - loss: 2.7339 - val_loss: 3.0937\n",
      "Epoch 2/100\n",
      "4/4 [==============================] - 0s 7ms/step - loss: 2.6257 - val_loss: 3.0238\n",
      "Epoch 3/100\n",
      "4/4 [==============================] - 0s 8ms/step - loss: 2.5882 - val_loss: 2.9588\n",
      "Epoch 4/100\n",
      "4/4 [==============================] - 0s 12ms/step - loss: 2.4714 - val_loss: 2.8976\n",
      "Epoch 5/100\n",
      "4/4 [==============================] - 0s 13ms/step - loss: 2.4530 - val_loss: 2.8431\n",
      "Epoch 6/100\n",
      "4/4 [==============================] - 0s 17ms/step - loss: 2.3420 - val_loss: 2.7954\n",
      "Epoch 7/100\n",
      "4/4 [==============================] - 0s 8ms/step - loss: 2.2713 - val_loss: 2.7528\n",
      "Epoch 8/100\n",
      "4/4 [==============================] - 0s 12ms/step - loss: 2.2597 - val_loss: 2.7141\n",
      "Epoch 9/100\n",
      "4/4 [==============================] - 0s 12ms/step - loss: 2.2084 - val_loss: 2.6769\n",
      "Epoch 10/100\n",
      "4/4 [==============================] - 0s 7ms/step - loss: 2.1877 - val_loss: 2.6432\n",
      "Epoch 11/100\n",
      "4/4 [==============================] - 0s 10ms/step - loss: 2.1194 - val_loss: 2.6123\n",
      "Epoch 12/100\n",
      "4/4 [==============================] - 0s 13ms/step - loss: 2.1085 - val_loss: 2.5828\n",
      "Epoch 13/100\n",
      "4/4 [==============================] - 0s 10ms/step - loss: 2.0680 - val_loss: 2.5555\n",
      "Epoch 14/100\n",
      "4/4 [==============================] - 0s 12ms/step - loss: 2.0352 - val_loss: 2.5301\n",
      "Epoch 15/100\n",
      "4/4 [==============================] - 0s 10ms/step - loss: 2.0232 - val_loss: 2.5055\n",
      "Epoch 16/100\n",
      "4/4 [==============================] - 0s 12ms/step - loss: 2.0132 - val_loss: 2.4818\n",
      "Epoch 17/100\n",
      "4/4 [==============================] - 0s 8ms/step - loss: 1.9761 - val_loss: 2.4586\n",
      "Epoch 18/100\n",
      "4/4 [==============================] - 0s 11ms/step - loss: 1.9478 - val_loss: 2.4354\n",
      "Epoch 19/100\n",
      "4/4 [==============================] - 0s 12ms/step - loss: 1.9254 - val_loss: 2.4132\n",
      "Epoch 20/100\n",
      "4/4 [==============================] - 0s 8ms/step - loss: 1.8912 - val_loss: 2.3917\n",
      "Epoch 21/100\n",
      "4/4 [==============================] - 0s 7ms/step - loss: 1.8822 - val_loss: 2.3708\n",
      "Epoch 22/100\n",
      "4/4 [==============================] - 0s 11ms/step - loss: 1.8619 - val_loss: 2.3506\n",
      "Epoch 23/100\n",
      "4/4 [==============================] - 0s 7ms/step - loss: 1.8386 - val_loss: 2.3312\n",
      "Epoch 24/100\n",
      "4/4 [==============================] - 0s 7ms/step - loss: 1.8134 - val_loss: 2.3121\n",
      "Epoch 25/100\n",
      "4/4 [==============================] - 0s 6ms/step - loss: 1.7951 - val_loss: 2.2932\n",
      "Epoch 26/100\n",
      "4/4 [==============================] - 0s 9ms/step - loss: 1.7840 - val_loss: 2.2746\n",
      "Epoch 27/100\n",
      "4/4 [==============================] - 0s 7ms/step - loss: 1.7660 - val_loss: 2.2558\n",
      "Epoch 28/100\n",
      "4/4 [==============================] - 0s 9ms/step - loss: 1.7483 - val_loss: 2.2376\n",
      "Epoch 29/100\n",
      "4/4 [==============================] - 0s 9ms/step - loss: 1.7308 - val_loss: 2.2206\n",
      "Epoch 30/100\n",
      "4/4 [==============================] - 0s 10ms/step - loss: 1.7130 - val_loss: 2.2036\n",
      "Epoch 31/100\n",
      "4/4 [==============================] - 0s 9ms/step - loss: 1.6844 - val_loss: 2.1871\n",
      "Epoch 32/100\n",
      "4/4 [==============================] - 0s 12ms/step - loss: 1.6816 - val_loss: 2.1701\n",
      "Epoch 33/100\n",
      "4/4 [==============================] - 0s 9ms/step - loss: 1.6693 - val_loss: 2.1538\n",
      "Epoch 34/100\n",
      "4/4 [==============================] - 0s 7ms/step - loss: 1.6512 - val_loss: 2.1376\n",
      "Epoch 35/100\n",
      "4/4 [==============================] - 0s 7ms/step - loss: 1.6198 - val_loss: 2.1211\n",
      "Epoch 36/100\n",
      "4/4 [==============================] - 0s 8ms/step - loss: 1.6179 - val_loss: 2.1050\n",
      "Epoch 37/100\n",
      "4/4 [==============================] - 0s 7ms/step - loss: 1.6007 - val_loss: 2.0895\n",
      "Epoch 38/100\n",
      "4/4 [==============================] - 0s 9ms/step - loss: 1.5859 - val_loss: 2.0743\n",
      "Epoch 39/100\n",
      "4/4 [==============================] - 0s 13ms/step - loss: 1.5754 - val_loss: 2.0595\n",
      "Epoch 40/100\n",
      "4/4 [==============================] - 0s 13ms/step - loss: 1.5608 - val_loss: 2.0450\n",
      "Epoch 41/100\n",
      "4/4 [==============================] - 0s 7ms/step - loss: 1.5534 - val_loss: 2.0307\n",
      "Epoch 42/100\n",
      "4/4 [==============================] - 0s 7ms/step - loss: 1.5316 - val_loss: 2.0169\n",
      "Epoch 43/100\n",
      "4/4 [==============================] - 0s 11ms/step - loss: 1.5285 - val_loss: 2.0034\n",
      "Epoch 44/100\n",
      "4/4 [==============================] - 0s 12ms/step - loss: 1.5123 - val_loss: 1.9903\n",
      "Epoch 45/100\n",
      "4/4 [==============================] - 0s 12ms/step - loss: 1.5027 - val_loss: 1.9772\n",
      "Epoch 46/100\n",
      "4/4 [==============================] - 0s 9ms/step - loss: 1.4890 - val_loss: 1.9645\n",
      "Epoch 47/100\n",
      "4/4 [==============================] - 0s 9ms/step - loss: 1.4793 - val_loss: 1.9525\n",
      "Epoch 48/100\n",
      "4/4 [==============================] - 0s 13ms/step - loss: 1.4786 - val_loss: 1.9407\n",
      "Epoch 49/100\n",
      "4/4 [==============================] - 0s 12ms/step - loss: 1.4593 - val_loss: 1.9291\n",
      "Epoch 50/100\n",
      "4/4 [==============================] - 0s 9ms/step - loss: 1.4545 - val_loss: 1.9177\n",
      "Epoch 51/100\n",
      "4/4 [==============================] - 0s 9ms/step - loss: 1.4390 - val_loss: 1.9066\n",
      "Epoch 52/100\n",
      "4/4 [==============================] - 0s 9ms/step - loss: 1.4283 - val_loss: 1.8957\n",
      "Epoch 53/100\n",
      "4/4 [==============================] - 0s 7ms/step - loss: 1.4228 - val_loss: 1.8851\n",
      "Epoch 54/100\n",
      "4/4 [==============================] - 0s 10ms/step - loss: 1.4016 - val_loss: 1.8748\n",
      "Epoch 55/100\n",
      "4/4 [==============================] - 0s 6ms/step - loss: 1.4129 - val_loss: 1.8651\n",
      "Epoch 56/100\n",
      "4/4 [==============================] - 0s 7ms/step - loss: 1.3973 - val_loss: 1.8558\n",
      "Epoch 57/100\n",
      "4/4 [==============================] - 0s 7ms/step - loss: 1.3878 - val_loss: 1.8470\n",
      "Epoch 58/100\n",
      "4/4 [==============================] - 0s 7ms/step - loss: 1.3796 - val_loss: 1.8383\n",
      "Epoch 59/100\n",
      "4/4 [==============================] - 0s 8ms/step - loss: 1.3762 - val_loss: 1.8296\n",
      "Epoch 60/100\n",
      "4/4 [==============================] - 0s 8ms/step - loss: 1.3752 - val_loss: 1.8214\n",
      "Epoch 61/100\n",
      "4/4 [==============================] - 0s 8ms/step - loss: 1.3659 - val_loss: 1.8135\n",
      "Epoch 62/100\n",
      "4/4 [==============================] - 0s 8ms/step - loss: 1.3628 - val_loss: 1.8054\n",
      "Epoch 63/100\n",
      "4/4 [==============================] - 0s 7ms/step - loss: 1.3477 - val_loss: 1.7977\n",
      "Epoch 64/100\n",
      "4/4 [==============================] - 0s 7ms/step - loss: 1.3408 - val_loss: 1.7900\n",
      "Epoch 65/100\n",
      "4/4 [==============================] - 0s 8ms/step - loss: 1.3374 - val_loss: 1.7825\n",
      "Epoch 66/100\n",
      "4/4 [==============================] - 0s 12ms/step - loss: 1.3338 - val_loss: 1.7746\n",
      "Epoch 67/100\n",
      "4/4 [==============================] - 0s 7ms/step - loss: 1.3239 - val_loss: 1.7673\n",
      "Epoch 68/100\n",
      "4/4 [==============================] - 0s 10ms/step - loss: 1.3137 - val_loss: 1.7601\n",
      "Epoch 69/100\n",
      "4/4 [==============================] - 0s 8ms/step - loss: 1.3129 - val_loss: 1.7536\n",
      "Epoch 70/100\n",
      "4/4 [==============================] - 0s 6ms/step - loss: 1.3085 - val_loss: 1.7472\n",
      "Epoch 71/100\n",
      "4/4 [==============================] - 0s 8ms/step - loss: 1.3018 - val_loss: 1.7411\n",
      "Epoch 72/100\n",
      "4/4 [==============================] - 0s 11ms/step - loss: 1.2980 - val_loss: 1.7350\n",
      "Epoch 73/100\n",
      "4/4 [==============================] - 0s 17ms/step - loss: 1.2842 - val_loss: 1.7288\n",
      "Epoch 74/100\n",
      "4/4 [==============================] - 0s 10ms/step - loss: 1.2917 - val_loss: 1.7224\n",
      "Epoch 75/100\n",
      "4/4 [==============================] - 0s 7ms/step - loss: 1.2879 - val_loss: 1.7165\n",
      "Epoch 76/100\n",
      "4/4 [==============================] - 0s 7ms/step - loss: 1.2763 - val_loss: 1.7107\n",
      "Epoch 77/100\n",
      "4/4 [==============================] - 0s 7ms/step - loss: 1.2717 - val_loss: 1.7051\n",
      "Epoch 78/100\n",
      "4/4 [==============================] - 0s 7ms/step - loss: 1.2663 - val_loss: 1.6996\n",
      "Epoch 79/100\n",
      "4/4 [==============================] - 0s 8ms/step - loss: 1.2656 - val_loss: 1.6945\n",
      "Epoch 80/100\n",
      "4/4 [==============================] - 0s 10ms/step - loss: 1.2565 - val_loss: 1.6894\n",
      "Epoch 81/100\n",
      "4/4 [==============================] - 0s 8ms/step - loss: 1.2535 - val_loss: 1.6842\n",
      "Epoch 82/100\n",
      "4/4 [==============================] - 0s 7ms/step - loss: 1.2564 - val_loss: 1.6787\n",
      "Epoch 83/100\n",
      "4/4 [==============================] - 0s 7ms/step - loss: 1.2519 - val_loss: 1.6735\n",
      "Epoch 84/100\n",
      "4/4 [==============================] - 0s 11ms/step - loss: 1.2412 - val_loss: 1.6685\n",
      "Epoch 85/100\n",
      "4/4 [==============================] - 0s 13ms/step - loss: 1.2469 - val_loss: 1.6637\n",
      "Epoch 86/100\n",
      "4/4 [==============================] - 0s 9ms/step - loss: 1.2362 - val_loss: 1.6591\n",
      "Epoch 87/100\n",
      "4/4 [==============================] - 0s 7ms/step - loss: 1.2308 - val_loss: 1.6550\n",
      "Epoch 88/100\n",
      "4/4 [==============================] - 0s 7ms/step - loss: 1.2330 - val_loss: 1.6510\n",
      "Epoch 89/100\n",
      "4/4 [==============================] - 0s 10ms/step - loss: 1.2294 - val_loss: 1.6468\n",
      "Epoch 90/100\n",
      "4/4 [==============================] - 0s 12ms/step - loss: 1.2318 - val_loss: 1.6430\n",
      "Epoch 91/100\n",
      "4/4 [==============================] - 0s 11ms/step - loss: 1.2220 - val_loss: 1.6392\n",
      "Epoch 92/100\n",
      "4/4 [==============================] - 0s 7ms/step - loss: 1.2118 - val_loss: 1.6355\n",
      "Epoch 93/100\n",
      "4/4 [==============================] - 0s 10ms/step - loss: 1.2272 - val_loss: 1.6317\n",
      "Epoch 94/100\n",
      "4/4 [==============================] - 0s 11ms/step - loss: 1.2132 - val_loss: 1.6277\n",
      "Epoch 95/100\n",
      "4/4 [==============================] - 0s 6ms/step - loss: 1.2042 - val_loss: 1.6239\n",
      "Epoch 96/100\n",
      "4/4 [==============================] - 0s 11ms/step - loss: 1.2045 - val_loss: 1.6200\n",
      "Epoch 97/100\n",
      "4/4 [==============================] - 0s 12ms/step - loss: 1.1986 - val_loss: 1.6163\n",
      "Epoch 98/100\n",
      "4/4 [==============================] - 0s 11ms/step - loss: 1.1894 - val_loss: 1.6129\n",
      "Epoch 99/100\n",
      "4/4 [==============================] - 0s 11ms/step - loss: 1.1937 - val_loss: 1.6093\n",
      "Epoch 100/100\n",
      "4/4 [==============================] - 0s 9ms/step - loss: 1.1960 - val_loss: 1.6060\n",
      "4/4 [==============================] - 0s 1ms/step\n"
     ]
    },
    {
     "data": {
      "text/plain": [
       "AutoEncoder(batch_size=32, contamination=0.07751937984496124,\n",
       "      dropout_rate=0.2, epochs=100, hidden_activation='relu',\n",
       "      hidden_neurons=[13, 7, 7, 13], l2_regularizer=0.1,\n",
       "      loss=<function mean_squared_error at 0x7f3a1f5002c0>,\n",
       "      optimizer='adam', output_activation='sigmoid', preprocessing=True,\n",
       "      random_state=None, validation_size=0.1, verbose=1)"
      ]
     },
     "execution_count": 6,
     "metadata": {},
     "output_type": "execute_result"
    }
   ],
   "source": [
    "p=sum(y)/len(y)\n",
    "ae=AutoEncoder(contamination=p,hidden_neurons=[X_train.shape[1],7,7,X_train.shape[1]])\n",
    "ae.fit(X_train)"
   ]
  },
  {
   "cell_type": "markdown",
   "metadata": {},
   "source": [
    "Testing on X_test"
   ]
  },
  {
   "cell_type": "code",
   "execution_count": 7,
   "metadata": {},
   "outputs": [
    {
     "name": "stdout",
     "output_type": "stream",
     "text": [
      "5/5 [==============================] - 0s 2ms/step\n"
     ]
    },
    {
     "data": {
      "text/plain": [
       "{'Precision': 0.2,\n",
       " 'Recall': 0.2,\n",
       " 'f1 score': 0.20000000000000004,\n",
       " 'Accuracy': 0.875968992248062,\n",
       " 'Balanced Accuracy': 0.5663865546218487,\n",
       " 'Average Precision': 0.102015503875969,\n",
       " 'ROC AUC Score': 0.5663865546218487}"
      ]
     },
     "execution_count": 7,
     "metadata": {},
     "output_type": "execute_result"
    }
   ],
   "source": [
    "dif_perf,y_pred=performance(ae,X_test,y)\n",
    "dif_perf"
   ]
  },
  {
   "cell_type": "markdown",
   "metadata": {},
   "source": [
    "Testing on X"
   ]
  },
  {
   "cell_type": "code",
   "execution_count": 8,
   "metadata": {},
   "outputs": [
    {
     "name": "stdout",
     "output_type": "stream",
     "text": [
      "5/5 [==============================] - 0s 3ms/step\n"
     ]
    },
    {
     "data": {
      "text/plain": [
       "{'Precision': 0.1111111111111111,\n",
       " 'Recall': 0.1,\n",
       " 'f1 score': 0.10526315789473685,\n",
       " 'Accuracy': 0.8682170542635659,\n",
       " 'Balanced Accuracy': 0.5163865546218488,\n",
       " 'Average Precision': 0.08087855297157623,\n",
       " 'ROC AUC Score': 0.5163865546218488}"
      ]
     },
     "execution_count": 8,
     "metadata": {},
     "output_type": "execute_result"
    }
   ],
   "source": [
    "dif_perf,y_pred=performance(ae,X,y)\n",
    "dif_perf"
   ]
  },
  {
   "cell_type": "markdown",
   "metadata": {},
   "source": [
    "## SUOD"
   ]
  },
  {
   "cell_type": "code",
   "execution_count": null,
   "metadata": {},
   "outputs": [],
   "source": []
  },
  {
   "cell_type": "code",
   "execution_count": null,
   "metadata": {},
   "outputs": [],
   "source": []
  },
  {
   "cell_type": "code",
   "execution_count": null,
   "metadata": {},
   "outputs": [],
   "source": []
  },
  {
   "cell_type": "code",
   "execution_count": null,
   "metadata": {},
   "outputs": [],
   "source": []
  },
  {
   "cell_type": "code",
   "execution_count": null,
   "metadata": {},
   "outputs": [],
   "source": []
  },
  {
   "cell_type": "code",
   "execution_count": null,
   "metadata": {},
   "outputs": [],
   "source": []
  }
 ],
 "metadata": {
  "kernelspec": {
   "display_name": "pyod_env",
   "language": "python",
   "name": "python3"
  },
  "language_info": {
   "codemirror_mode": {
    "name": "ipython",
    "version": 3
   },
   "file_extension": ".py",
   "mimetype": "text/x-python",
   "name": "python",
   "nbconvert_exporter": "python",
   "pygments_lexer": "ipython3",
   "version": "3.11.5"
  }
 },
 "nbformat": 4,
 "nbformat_minor": 2
}
