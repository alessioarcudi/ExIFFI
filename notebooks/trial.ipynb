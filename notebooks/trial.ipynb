{
 "cells": [
  {
   "cell_type": "markdown",
   "metadata": {},
   "source": [
    "# Test `datasets`"
   ]
  },
  {
   "cell_type": "code",
   "execution_count": 1,
   "metadata": {},
   "outputs": [],
   "source": [
    "import sys\n",
    "sys.path.append('..')\n",
    "from model_reboot.EIF_reboot import ExtendedTree, ExtendedIsolationForest\n",
    "import numpy as np\n",
    "import pandas as pd\n",
    "from utils_reboot.datasets import Dataset\n",
    "from sklearn.preprocessing import StandardScaler,MinMaxScaler\n",
    "import pyod"
   ]
  },
  {
   "cell_type": "markdown",
   "metadata": {},
   "source": [
    "## `X,y`"
   ]
  },
  {
   "cell_type": "code",
   "execution_count": 2,
   "metadata": {},
   "outputs": [],
   "source": [
    "dataset = Dataset(\"wine\", path = \"../data/real/\")\n",
    "dataset.drop_duplicates()"
   ]
  },
  {
   "cell_type": "code",
   "execution_count": 3,
   "metadata": {},
   "outputs": [
    {
     "name": "stderr",
     "output_type": "stream",
     "text": [
      "/Users/alessio/.virtualenvs/venv/lib/python3.9/site-packages/sklearn/ensemble/_iforest.py:288: UserWarning: max_samples (256) is greater than the total number of samples (129). max_samples will be set to n_samples for estimation.\n",
      "  warn(\n",
      "/Users/alessio/.virtualenvs/venv/lib/python3.9/site-packages/sklearn/ensemble/_iforest.py:288: UserWarning: max_samples (256) is greater than the total number of samples (129). max_samples will be set to n_samples for estimation.\n",
      "  warn(\n",
      "/Users/alessio/.virtualenvs/venv/lib/python3.9/site-packages/sklearn/ensemble/_iforest.py:288: UserWarning: max_samples (256) is greater than the total number of samples (129). max_samples will be set to n_samples for estimation.\n",
      "  warn(\n",
      "/Users/alessio/.virtualenvs/venv/lib/python3.9/site-packages/sklearn/ensemble/_iforest.py:288: UserWarning: max_samples (256) is greater than the total number of samples (129). max_samples will be set to n_samples for estimation.\n",
      "  warn(\n",
      "/Users/alessio/.virtualenvs/venv/lib/python3.9/site-packages/sklearn/ensemble/_iforest.py:288: UserWarning: max_samples (256) is greater than the total number of samples (129). max_samples will be set to n_samples for estimation.\n",
      "  warn(\n",
      "/Users/alessio/.virtualenvs/venv/lib/python3.9/site-packages/sklearn/ensemble/_iforest.py:288: UserWarning: max_samples (256) is greater than the total number of samples (129). max_samples will be set to n_samples for estimation.\n",
      "  warn(\n",
      "/Users/alessio/.virtualenvs/venv/lib/python3.9/site-packages/sklearn/ensemble/_iforest.py:288: UserWarning: max_samples (256) is greater than the total number of samples (129). max_samples will be set to n_samples for estimation.\n",
      "  warn(\n",
      "/Users/alessio/.virtualenvs/venv/lib/python3.9/site-packages/sklearn/ensemble/_iforest.py:288: UserWarning: max_samples (256) is greater than the total number of samples (129). max_samples will be set to n_samples for estimation.\n",
      "  warn(\n",
      "/Users/alessio/.virtualenvs/venv/lib/python3.9/site-packages/sklearn/ensemble/_iforest.py:288: UserWarning: max_samples (256) is greater than the total number of samples (129). max_samples will be set to n_samples for estimation.\n",
      "  warn(\n",
      "/Users/alessio/.virtualenvs/venv/lib/python3.9/site-packages/sklearn/ensemble/_iforest.py:288: UserWarning: max_samples (256) is greater than the total number of samples (129). max_samples will be set to n_samples for estimation.\n",
      "  warn(\n",
      "/Users/alessio/.virtualenvs/venv/lib/python3.9/site-packages/sklearn/ensemble/_iforest.py:288: UserWarning: max_samples (256) is greater than the total number of samples (129). max_samples will be set to n_samples for estimation.\n",
      "  warn(\n",
      "/Users/alessio/.virtualenvs/venv/lib/python3.9/site-packages/sklearn/ensemble/_iforest.py:288: UserWarning: max_samples (256) is greater than the total number of samples (129). max_samples will be set to n_samples for estimation.\n",
      "  warn(\n",
      "/Users/alessio/.virtualenvs/venv/lib/python3.9/site-packages/sklearn/ensemble/_iforest.py:288: UserWarning: max_samples (256) is greater than the total number of samples (129). max_samples will be set to n_samples for estimation.\n",
      "  warn(\n",
      "/Users/alessio/.virtualenvs/venv/lib/python3.9/site-packages/sklearn/ensemble/_iforest.py:288: UserWarning: max_samples (256) is greater than the total number of samples (129). max_samples will be set to n_samples for estimation.\n",
      "  warn(\n",
      "/Users/alessio/.virtualenvs/venv/lib/python3.9/site-packages/sklearn/ensemble/_iforest.py:288: UserWarning: max_samples (256) is greater than the total number of samples (129). max_samples will be set to n_samples for estimation.\n",
      "  warn(\n",
      "/Users/alessio/.virtualenvs/venv/lib/python3.9/site-packages/sklearn/ensemble/_iforest.py:288: UserWarning: max_samples (256) is greater than the total number of samples (129). max_samples will be set to n_samples for estimation.\n",
      "  warn(\n",
      "/Users/alessio/.virtualenvs/venv/lib/python3.9/site-packages/sklearn/ensemble/_iforest.py:288: UserWarning: max_samples (256) is greater than the total number of samples (129). max_samples will be set to n_samples for estimation.\n",
      "  warn(\n",
      "/Users/alessio/.virtualenvs/venv/lib/python3.9/site-packages/sklearn/ensemble/_iforest.py:288: UserWarning: max_samples (256) is greater than the total number of samples (129). max_samples will be set to n_samples for estimation.\n",
      "  warn(\n",
      "/Users/alessio/.virtualenvs/venv/lib/python3.9/site-packages/sklearn/ensemble/_iforest.py:288: UserWarning: max_samples (256) is greater than the total number of samples (129). max_samples will be set to n_samples for estimation.\n",
      "  warn(\n",
      "/Users/alessio/.virtualenvs/venv/lib/python3.9/site-packages/sklearn/ensemble/_iforest.py:288: UserWarning: max_samples (256) is greater than the total number of samples (129). max_samples will be set to n_samples for estimation.\n",
      "  warn(\n",
      "/Users/alessio/.virtualenvs/venv/lib/python3.9/site-packages/sklearn/ensemble/_iforest.py:288: UserWarning: max_samples (256) is greater than the total number of samples (129). max_samples will be set to n_samples for estimation.\n",
      "  warn(\n",
      "/Users/alessio/.virtualenvs/venv/lib/python3.9/site-packages/sklearn/ensemble/_iforest.py:288: UserWarning: max_samples (256) is greater than the total number of samples (129). max_samples will be set to n_samples for estimation.\n",
      "  warn(\n",
      "/Users/alessio/.virtualenvs/venv/lib/python3.9/site-packages/sklearn/ensemble/_iforest.py:288: UserWarning: max_samples (256) is greater than the total number of samples (129). max_samples will be set to n_samples for estimation.\n",
      "  warn(\n",
      "/Users/alessio/.virtualenvs/venv/lib/python3.9/site-packages/sklearn/ensemble/_iforest.py:288: UserWarning: max_samples (256) is greater than the total number of samples (129). max_samples will be set to n_samples for estimation.\n",
      "  warn(\n",
      "/Users/alessio/.virtualenvs/venv/lib/python3.9/site-packages/sklearn/ensemble/_iforest.py:288: UserWarning: max_samples (256) is greater than the total number of samples (129). max_samples will be set to n_samples for estimation.\n",
      "  warn(\n",
      "/Users/alessio/.virtualenvs/venv/lib/python3.9/site-packages/sklearn/ensemble/_iforest.py:288: UserWarning: max_samples (256) is greater than the total number of samples (129). max_samples will be set to n_samples for estimation.\n",
      "  warn(\n",
      "/Users/alessio/.virtualenvs/venv/lib/python3.9/site-packages/sklearn/ensemble/_iforest.py:288: UserWarning: max_samples (256) is greater than the total number of samples (129). max_samples will be set to n_samples for estimation.\n",
      "  warn(\n",
      "/Users/alessio/.virtualenvs/venv/lib/python3.9/site-packages/sklearn/ensemble/_iforest.py:288: UserWarning: max_samples (256) is greater than the total number of samples (129). max_samples will be set to n_samples for estimation.\n",
      "  warn(\n",
      "/Users/alessio/.virtualenvs/venv/lib/python3.9/site-packages/sklearn/ensemble/_iforest.py:288: UserWarning: max_samples (256) is greater than the total number of samples (129). max_samples will be set to n_samples for estimation.\n",
      "  warn(\n",
      "/Users/alessio/.virtualenvs/venv/lib/python3.9/site-packages/sklearn/ensemble/_iforest.py:288: UserWarning: max_samples (256) is greater than the total number of samples (129). max_samples will be set to n_samples for estimation.\n",
      "  warn(\n",
      "/Users/alessio/.virtualenvs/venv/lib/python3.9/site-packages/sklearn/ensemble/_iforest.py:288: UserWarning: max_samples (256) is greater than the total number of samples (129). max_samples will be set to n_samples for estimation.\n",
      "  warn(\n",
      "/Users/alessio/.virtualenvs/venv/lib/python3.9/site-packages/sklearn/ensemble/_iforest.py:288: UserWarning: max_samples (256) is greater than the total number of samples (129). max_samples will be set to n_samples for estimation.\n",
      "  warn(\n",
      "/Users/alessio/.virtualenvs/venv/lib/python3.9/site-packages/sklearn/ensemble/_iforest.py:288: UserWarning: max_samples (256) is greater than the total number of samples (129). max_samples will be set to n_samples for estimation.\n",
      "  warn(\n",
      "/Users/alessio/.virtualenvs/venv/lib/python3.9/site-packages/sklearn/ensemble/_iforest.py:288: UserWarning: max_samples (256) is greater than the total number of samples (129). max_samples will be set to n_samples for estimation.\n",
      "  warn(\n",
      "/Users/alessio/.virtualenvs/venv/lib/python3.9/site-packages/sklearn/ensemble/_iforest.py:288: UserWarning: max_samples (256) is greater than the total number of samples (129). max_samples will be set to n_samples for estimation.\n",
      "  warn(\n",
      "/Users/alessio/.virtualenvs/venv/lib/python3.9/site-packages/sklearn/ensemble/_iforest.py:288: UserWarning: max_samples (256) is greater than the total number of samples (129). max_samples will be set to n_samples for estimation.\n",
      "  warn(\n",
      "/Users/alessio/.virtualenvs/venv/lib/python3.9/site-packages/sklearn/ensemble/_iforest.py:288: UserWarning: max_samples (256) is greater than the total number of samples (129). max_samples will be set to n_samples for estimation.\n",
      "  warn(\n",
      "/Users/alessio/.virtualenvs/venv/lib/python3.9/site-packages/sklearn/ensemble/_iforest.py:288: UserWarning: max_samples (256) is greater than the total number of samples (129). max_samples will be set to n_samples for estimation.\n",
      "  warn(\n",
      "/Users/alessio/.virtualenvs/venv/lib/python3.9/site-packages/sklearn/ensemble/_iforest.py:288: UserWarning: max_samples (256) is greater than the total number of samples (129). max_samples will be set to n_samples for estimation.\n",
      "  warn(\n",
      "/Users/alessio/.virtualenvs/venv/lib/python3.9/site-packages/sklearn/ensemble/_iforest.py:288: UserWarning: max_samples (256) is greater than the total number of samples (129). max_samples will be set to n_samples for estimation.\n",
      "  warn(\n",
      "/Users/alessio/.virtualenvs/venv/lib/python3.9/site-packages/sklearn/ensemble/_iforest.py:288: UserWarning: max_samples (256) is greater than the total number of samples (129). max_samples will be set to n_samples for estimation.\n",
      "  warn(\n",
      "/Users/alessio/.virtualenvs/venv/lib/python3.9/site-packages/sklearn/ensemble/_iforest.py:288: UserWarning: max_samples (256) is greater than the total number of samples (129). max_samples will be set to n_samples for estimation.\n",
      "  warn(\n",
      "/Users/alessio/.virtualenvs/venv/lib/python3.9/site-packages/sklearn/ensemble/_iforest.py:288: UserWarning: max_samples (256) is greater than the total number of samples (129). max_samples will be set to n_samples for estimation.\n",
      "  warn(\n",
      "/Users/alessio/.virtualenvs/venv/lib/python3.9/site-packages/sklearn/ensemble/_iforest.py:288: UserWarning: max_samples (256) is greater than the total number of samples (129). max_samples will be set to n_samples for estimation.\n",
      "  warn(\n",
      "/Users/alessio/.virtualenvs/venv/lib/python3.9/site-packages/sklearn/ensemble/_iforest.py:288: UserWarning: max_samples (256) is greater than the total number of samples (129). max_samples will be set to n_samples for estimation.\n",
      "  warn(\n",
      "/Users/alessio/.virtualenvs/venv/lib/python3.9/site-packages/sklearn/ensemble/_iforest.py:288: UserWarning: max_samples (256) is greater than the total number of samples (129). max_samples will be set to n_samples for estimation.\n",
      "  warn(\n",
      "/Users/alessio/.virtualenvs/venv/lib/python3.9/site-packages/sklearn/ensemble/_iforest.py:288: UserWarning: max_samples (256) is greater than the total number of samples (129). max_samples will be set to n_samples for estimation.\n",
      "  warn(\n",
      "/Users/alessio/.virtualenvs/venv/lib/python3.9/site-packages/sklearn/ensemble/_iforest.py:288: UserWarning: max_samples (256) is greater than the total number of samples (129). max_samples will be set to n_samples for estimation.\n",
      "  warn(\n",
      "/Users/alessio/.virtualenvs/venv/lib/python3.9/site-packages/sklearn/ensemble/_iforest.py:288: UserWarning: max_samples (256) is greater than the total number of samples (129). max_samples will be set to n_samples for estimation.\n",
      "  warn(\n",
      "/Users/alessio/.virtualenvs/venv/lib/python3.9/site-packages/sklearn/ensemble/_iforest.py:288: UserWarning: max_samples (256) is greater than the total number of samples (129). max_samples will be set to n_samples for estimation.\n",
      "  warn(\n",
      "/Users/alessio/.virtualenvs/venv/lib/python3.9/site-packages/sklearn/ensemble/_iforest.py:288: UserWarning: max_samples (256) is greater than the total number of samples (129). max_samples will be set to n_samples for estimation.\n",
      "  warn(\n",
      "/Users/alessio/.virtualenvs/venv/lib/python3.9/site-packages/sklearn/ensemble/_iforest.py:288: UserWarning: max_samples (256) is greater than the total number of samples (129). max_samples will be set to n_samples for estimation.\n",
      "  warn(\n",
      "/Users/alessio/.virtualenvs/venv/lib/python3.9/site-packages/sklearn/ensemble/_iforest.py:288: UserWarning: max_samples (256) is greater than the total number of samples (129). max_samples will be set to n_samples for estimation.\n",
      "  warn(\n",
      "/Users/alessio/.virtualenvs/venv/lib/python3.9/site-packages/sklearn/ensemble/_iforest.py:288: UserWarning: max_samples (256) is greater than the total number of samples (129). max_samples will be set to n_samples for estimation.\n",
      "  warn(\n",
      "/Users/alessio/.virtualenvs/venv/lib/python3.9/site-packages/sklearn/ensemble/_iforest.py:288: UserWarning: max_samples (256) is greater than the total number of samples (129). max_samples will be set to n_samples for estimation.\n",
      "  warn(\n",
      "/Users/alessio/.virtualenvs/venv/lib/python3.9/site-packages/sklearn/ensemble/_iforest.py:288: UserWarning: max_samples (256) is greater than the total number of samples (129). max_samples will be set to n_samples for estimation.\n",
      "  warn(\n",
      "/Users/alessio/.virtualenvs/venv/lib/python3.9/site-packages/sklearn/ensemble/_iforest.py:288: UserWarning: max_samples (256) is greater than the total number of samples (129). max_samples will be set to n_samples for estimation.\n",
      "  warn(\n",
      "/Users/alessio/.virtualenvs/venv/lib/python3.9/site-packages/sklearn/ensemble/_iforest.py:288: UserWarning: max_samples (256) is greater than the total number of samples (129). max_samples will be set to n_samples for estimation.\n",
      "  warn(\n",
      "/Users/alessio/.virtualenvs/venv/lib/python3.9/site-packages/sklearn/ensemble/_iforest.py:288: UserWarning: max_samples (256) is greater than the total number of samples (129). max_samples will be set to n_samples for estimation.\n",
      "  warn(\n",
      "/Users/alessio/.virtualenvs/venv/lib/python3.9/site-packages/sklearn/ensemble/_iforest.py:288: UserWarning: max_samples (256) is greater than the total number of samples (129). max_samples will be set to n_samples for estimation.\n",
      "  warn(\n",
      "/Users/alessio/.virtualenvs/venv/lib/python3.9/site-packages/sklearn/ensemble/_iforest.py:288: UserWarning: max_samples (256) is greater than the total number of samples (129). max_samples will be set to n_samples for estimation.\n",
      "  warn(\n",
      "/Users/alessio/.virtualenvs/venv/lib/python3.9/site-packages/sklearn/ensemble/_iforest.py:288: UserWarning: max_samples (256) is greater than the total number of samples (129). max_samples will be set to n_samples for estimation.\n",
      "  warn(\n",
      "/Users/alessio/.virtualenvs/venv/lib/python3.9/site-packages/sklearn/ensemble/_iforest.py:288: UserWarning: max_samples (256) is greater than the total number of samples (129). max_samples will be set to n_samples for estimation.\n",
      "  warn(\n",
      "/Users/alessio/.virtualenvs/venv/lib/python3.9/site-packages/sklearn/ensemble/_iforest.py:288: UserWarning: max_samples (256) is greater than the total number of samples (129). max_samples will be set to n_samples for estimation.\n",
      "  warn(\n",
      "/Users/alessio/.virtualenvs/venv/lib/python3.9/site-packages/sklearn/ensemble/_iforest.py:288: UserWarning: max_samples (256) is greater than the total number of samples (129). max_samples will be set to n_samples for estimation.\n",
      "  warn(\n",
      "/Users/alessio/.virtualenvs/venv/lib/python3.9/site-packages/sklearn/ensemble/_iforest.py:288: UserWarning: max_samples (256) is greater than the total number of samples (129). max_samples will be set to n_samples for estimation.\n",
      "  warn(\n",
      "/Users/alessio/.virtualenvs/venv/lib/python3.9/site-packages/sklearn/ensemble/_iforest.py:288: UserWarning: max_samples (256) is greater than the total number of samples (129). max_samples will be set to n_samples for estimation.\n",
      "  warn(\n",
      "/Users/alessio/.virtualenvs/venv/lib/python3.9/site-packages/sklearn/ensemble/_iforest.py:288: UserWarning: max_samples (256) is greater than the total number of samples (129). max_samples will be set to n_samples for estimation.\n",
      "  warn(\n",
      "/Users/alessio/.virtualenvs/venv/lib/python3.9/site-packages/sklearn/ensemble/_iforest.py:288: UserWarning: max_samples (256) is greater than the total number of samples (129). max_samples will be set to n_samples for estimation.\n",
      "  warn(\n",
      "/Users/alessio/.virtualenvs/venv/lib/python3.9/site-packages/sklearn/ensemble/_iforest.py:288: UserWarning: max_samples (256) is greater than the total number of samples (129). max_samples will be set to n_samples for estimation.\n",
      "  warn(\n"
     ]
    },
    {
     "ename": "KeyboardInterrupt",
     "evalue": "",
     "output_type": "error",
     "traceback": [
      "\u001b[0;31m---------------------------------------------------------------------------\u001b[0m",
      "\u001b[0;31mKeyboardInterrupt\u001b[0m                         Traceback (most recent call last)",
      "Cell \u001b[0;32mIn [3], line 5\u001b[0m\n\u001b[1;32m      3\u001b[0m dif_model \u001b[38;5;241m=\u001b[39m DIF()\n\u001b[1;32m      4\u001b[0m \u001b[38;5;28;01mfor\u001b[39;00m i \u001b[38;5;129;01min\u001b[39;00m \u001b[38;5;28mrange\u001b[39m(\u001b[38;5;241m3\u001b[39m):\n\u001b[0;32m----> 5\u001b[0m     \u001b[43mdif_model\u001b[49m\u001b[38;5;241;43m.\u001b[39;49m\u001b[43mfit\u001b[49m\u001b[43m(\u001b[49m\u001b[43mdataset\u001b[49m\u001b[38;5;241;43m.\u001b[39;49m\u001b[43mX\u001b[49m\u001b[43m)\u001b[49m\n",
      "File \u001b[0;32m~/.virtualenvs/venv/lib/python3.9/site-packages/pyod/models/dif.py:201\u001b[0m, in \u001b[0;36mDIF.fit\u001b[0;34m(self, X, y)\u001b[0m\n\u001b[1;32m    198\u001b[0m \t\u001b[38;5;28;01mif\u001b[39;00m name\u001b[38;5;241m.\u001b[39mendswith(\u001b[38;5;124m'\u001b[39m\u001b[38;5;124mweight\u001b[39m\u001b[38;5;124m'\u001b[39m):\n\u001b[1;32m    199\u001b[0m \t\ttorch\u001b[38;5;241m.\u001b[39mnn\u001b[38;5;241m.\u001b[39minit\u001b[38;5;241m.\u001b[39mnormal_(param, mean\u001b[38;5;241m=\u001b[39m\u001b[38;5;241m0.\u001b[39m, std\u001b[38;5;241m=\u001b[39m\u001b[38;5;241m1.\u001b[39m)\n\u001b[0;32m--> 201\u001b[0m x_reduced \u001b[38;5;241m=\u001b[39m \u001b[38;5;28;43mself\u001b[39;49m\u001b[38;5;241;43m.\u001b[39;49m\u001b[43m_deep_representation\u001b[49m\u001b[43m(\u001b[49m\u001b[43mnet\u001b[49m\u001b[43m,\u001b[49m\u001b[43m \u001b[49m\u001b[43mX\u001b[49m\u001b[43m)\u001b[49m\n\u001b[1;32m    203\u001b[0m \u001b[38;5;66;03m# save network and representations\u001b[39;00m\n\u001b[1;32m    204\u001b[0m \u001b[38;5;28mself\u001b[39m\u001b[38;5;241m.\u001b[39mx_reduced_lst\u001b[38;5;241m.\u001b[39mappend(x_reduced)\n",
      "File \u001b[0;32m~/.virtualenvs/venv/lib/python3.9/site-packages/pyod/models/dif.py:267\u001b[0m, in \u001b[0;36mDIF._deep_representation\u001b[0;34m(self, net, X)\u001b[0m\n\u001b[1;32m    265\u001b[0m \t\u001b[38;5;28;01mfor\u001b[39;00m batch_x \u001b[38;5;129;01min\u001b[39;00m loader:\n\u001b[1;32m    266\u001b[0m \t\tbatch_x \u001b[38;5;241m=\u001b[39m batch_x\u001b[38;5;241m.\u001b[39mfloat()\u001b[38;5;241m.\u001b[39mto(\u001b[38;5;28mself\u001b[39m\u001b[38;5;241m.\u001b[39mdevice)\n\u001b[0;32m--> 267\u001b[0m \t\tbatch_x_reduced \u001b[38;5;241m=\u001b[39m \u001b[43mnet\u001b[49m\u001b[43m(\u001b[49m\u001b[43mbatch_x\u001b[49m\u001b[43m)\u001b[49m\n\u001b[1;32m    268\u001b[0m \t\tx_reduced\u001b[38;5;241m.\u001b[39mappend(batch_x_reduced)\n\u001b[1;32m    270\u001b[0m x_reduced \u001b[38;5;241m=\u001b[39m torch\u001b[38;5;241m.\u001b[39mcat(x_reduced)\u001b[38;5;241m.\u001b[39mdata\u001b[38;5;241m.\u001b[39mcpu()\u001b[38;5;241m.\u001b[39mnumpy()\n",
      "File \u001b[0;32m~/.virtualenvs/venv/lib/python3.9/site-packages/torch/nn/modules/module.py:1511\u001b[0m, in \u001b[0;36mModule._wrapped_call_impl\u001b[0;34m(self, *args, **kwargs)\u001b[0m\n\u001b[1;32m   1509\u001b[0m     \u001b[38;5;28;01mreturn\u001b[39;00m \u001b[38;5;28mself\u001b[39m\u001b[38;5;241m.\u001b[39m_compiled_call_impl(\u001b[38;5;241m*\u001b[39margs, \u001b[38;5;241m*\u001b[39m\u001b[38;5;241m*\u001b[39mkwargs)  \u001b[38;5;66;03m# type: ignore[misc]\u001b[39;00m\n\u001b[1;32m   1510\u001b[0m \u001b[38;5;28;01melse\u001b[39;00m:\n\u001b[0;32m-> 1511\u001b[0m     \u001b[38;5;28;01mreturn\u001b[39;00m \u001b[38;5;28;43mself\u001b[39;49m\u001b[38;5;241;43m.\u001b[39;49m\u001b[43m_call_impl\u001b[49m\u001b[43m(\u001b[49m\u001b[38;5;241;43m*\u001b[39;49m\u001b[43margs\u001b[49m\u001b[43m,\u001b[49m\u001b[43m \u001b[49m\u001b[38;5;241;43m*\u001b[39;49m\u001b[38;5;241;43m*\u001b[39;49m\u001b[43mkwargs\u001b[49m\u001b[43m)\u001b[49m\n",
      "File \u001b[0;32m~/.virtualenvs/venv/lib/python3.9/site-packages/torch/nn/modules/module.py:1520\u001b[0m, in \u001b[0;36mModule._call_impl\u001b[0;34m(self, *args, **kwargs)\u001b[0m\n\u001b[1;32m   1515\u001b[0m \u001b[38;5;66;03m# If we don't have any hooks, we want to skip the rest of the logic in\u001b[39;00m\n\u001b[1;32m   1516\u001b[0m \u001b[38;5;66;03m# this function, and just call forward.\u001b[39;00m\n\u001b[1;32m   1517\u001b[0m \u001b[38;5;28;01mif\u001b[39;00m \u001b[38;5;129;01mnot\u001b[39;00m (\u001b[38;5;28mself\u001b[39m\u001b[38;5;241m.\u001b[39m_backward_hooks \u001b[38;5;129;01mor\u001b[39;00m \u001b[38;5;28mself\u001b[39m\u001b[38;5;241m.\u001b[39m_backward_pre_hooks \u001b[38;5;129;01mor\u001b[39;00m \u001b[38;5;28mself\u001b[39m\u001b[38;5;241m.\u001b[39m_forward_hooks \u001b[38;5;129;01mor\u001b[39;00m \u001b[38;5;28mself\u001b[39m\u001b[38;5;241m.\u001b[39m_forward_pre_hooks\n\u001b[1;32m   1518\u001b[0m         \u001b[38;5;129;01mor\u001b[39;00m _global_backward_pre_hooks \u001b[38;5;129;01mor\u001b[39;00m _global_backward_hooks\n\u001b[1;32m   1519\u001b[0m         \u001b[38;5;129;01mor\u001b[39;00m _global_forward_hooks \u001b[38;5;129;01mor\u001b[39;00m _global_forward_pre_hooks):\n\u001b[0;32m-> 1520\u001b[0m     \u001b[38;5;28;01mreturn\u001b[39;00m \u001b[43mforward_call\u001b[49m\u001b[43m(\u001b[49m\u001b[38;5;241;43m*\u001b[39;49m\u001b[43margs\u001b[49m\u001b[43m,\u001b[49m\u001b[43m \u001b[49m\u001b[38;5;241;43m*\u001b[39;49m\u001b[38;5;241;43m*\u001b[39;49m\u001b[43mkwargs\u001b[49m\u001b[43m)\u001b[49m\n\u001b[1;32m   1522\u001b[0m \u001b[38;5;28;01mtry\u001b[39;00m:\n\u001b[1;32m   1523\u001b[0m     result \u001b[38;5;241m=\u001b[39m \u001b[38;5;28;01mNone\u001b[39;00m\n",
      "File \u001b[0;32m~/.virtualenvs/venv/lib/python3.9/site-packages/pyod/models/dif.py:307\u001b[0m, in \u001b[0;36mMLPnet.forward\u001b[0;34m(self, x)\u001b[0m\n\u001b[1;32m    306\u001b[0m \u001b[38;5;28;01mdef\u001b[39;00m \u001b[38;5;21mforward\u001b[39m(\u001b[38;5;28mself\u001b[39m, x):\n\u001b[0;32m--> 307\u001b[0m \tx \u001b[38;5;241m=\u001b[39m \u001b[38;5;28;43mself\u001b[39;49m\u001b[38;5;241;43m.\u001b[39;49m\u001b[43mnetwork\u001b[49m\u001b[43m(\u001b[49m\u001b[43mx\u001b[49m\u001b[43m)\u001b[49m\n\u001b[1;32m    308\u001b[0m \t\u001b[38;5;28;01mreturn\u001b[39;00m x\n",
      "File \u001b[0;32m~/.virtualenvs/venv/lib/python3.9/site-packages/torch/nn/modules/module.py:1511\u001b[0m, in \u001b[0;36mModule._wrapped_call_impl\u001b[0;34m(self, *args, **kwargs)\u001b[0m\n\u001b[1;32m   1509\u001b[0m     \u001b[38;5;28;01mreturn\u001b[39;00m \u001b[38;5;28mself\u001b[39m\u001b[38;5;241m.\u001b[39m_compiled_call_impl(\u001b[38;5;241m*\u001b[39margs, \u001b[38;5;241m*\u001b[39m\u001b[38;5;241m*\u001b[39mkwargs)  \u001b[38;5;66;03m# type: ignore[misc]\u001b[39;00m\n\u001b[1;32m   1510\u001b[0m \u001b[38;5;28;01melse\u001b[39;00m:\n\u001b[0;32m-> 1511\u001b[0m     \u001b[38;5;28;01mreturn\u001b[39;00m \u001b[38;5;28;43mself\u001b[39;49m\u001b[38;5;241;43m.\u001b[39;49m\u001b[43m_call_impl\u001b[49m\u001b[43m(\u001b[49m\u001b[38;5;241;43m*\u001b[39;49m\u001b[43margs\u001b[49m\u001b[43m,\u001b[49m\u001b[43m \u001b[49m\u001b[38;5;241;43m*\u001b[39;49m\u001b[38;5;241;43m*\u001b[39;49m\u001b[43mkwargs\u001b[49m\u001b[43m)\u001b[49m\n",
      "File \u001b[0;32m~/.virtualenvs/venv/lib/python3.9/site-packages/torch/nn/modules/module.py:1520\u001b[0m, in \u001b[0;36mModule._call_impl\u001b[0;34m(self, *args, **kwargs)\u001b[0m\n\u001b[1;32m   1515\u001b[0m \u001b[38;5;66;03m# If we don't have any hooks, we want to skip the rest of the logic in\u001b[39;00m\n\u001b[1;32m   1516\u001b[0m \u001b[38;5;66;03m# this function, and just call forward.\u001b[39;00m\n\u001b[1;32m   1517\u001b[0m \u001b[38;5;28;01mif\u001b[39;00m \u001b[38;5;129;01mnot\u001b[39;00m (\u001b[38;5;28mself\u001b[39m\u001b[38;5;241m.\u001b[39m_backward_hooks \u001b[38;5;129;01mor\u001b[39;00m \u001b[38;5;28mself\u001b[39m\u001b[38;5;241m.\u001b[39m_backward_pre_hooks \u001b[38;5;129;01mor\u001b[39;00m \u001b[38;5;28mself\u001b[39m\u001b[38;5;241m.\u001b[39m_forward_hooks \u001b[38;5;129;01mor\u001b[39;00m \u001b[38;5;28mself\u001b[39m\u001b[38;5;241m.\u001b[39m_forward_pre_hooks\n\u001b[1;32m   1518\u001b[0m         \u001b[38;5;129;01mor\u001b[39;00m _global_backward_pre_hooks \u001b[38;5;129;01mor\u001b[39;00m _global_backward_hooks\n\u001b[1;32m   1519\u001b[0m         \u001b[38;5;129;01mor\u001b[39;00m _global_forward_hooks \u001b[38;5;129;01mor\u001b[39;00m _global_forward_pre_hooks):\n\u001b[0;32m-> 1520\u001b[0m     \u001b[38;5;28;01mreturn\u001b[39;00m \u001b[43mforward_call\u001b[49m\u001b[43m(\u001b[49m\u001b[38;5;241;43m*\u001b[39;49m\u001b[43margs\u001b[49m\u001b[43m,\u001b[49m\u001b[43m \u001b[49m\u001b[38;5;241;43m*\u001b[39;49m\u001b[38;5;241;43m*\u001b[39;49m\u001b[43mkwargs\u001b[49m\u001b[43m)\u001b[49m\n\u001b[1;32m   1522\u001b[0m \u001b[38;5;28;01mtry\u001b[39;00m:\n\u001b[1;32m   1523\u001b[0m     result \u001b[38;5;241m=\u001b[39m \u001b[38;5;28;01mNone\u001b[39;00m\n",
      "File \u001b[0;32m~/.virtualenvs/venv/lib/python3.9/site-packages/torch/nn/modules/container.py:217\u001b[0m, in \u001b[0;36mSequential.forward\u001b[0;34m(self, input)\u001b[0m\n\u001b[1;32m    215\u001b[0m \u001b[38;5;28;01mdef\u001b[39;00m \u001b[38;5;21mforward\u001b[39m(\u001b[38;5;28mself\u001b[39m, \u001b[38;5;28minput\u001b[39m):\n\u001b[1;32m    216\u001b[0m     \u001b[38;5;28;01mfor\u001b[39;00m module \u001b[38;5;129;01min\u001b[39;00m \u001b[38;5;28mself\u001b[39m:\n\u001b[0;32m--> 217\u001b[0m         \u001b[38;5;28minput\u001b[39m \u001b[38;5;241m=\u001b[39m \u001b[43mmodule\u001b[49m\u001b[43m(\u001b[49m\u001b[38;5;28;43minput\u001b[39;49m\u001b[43m)\u001b[49m\n\u001b[1;32m    218\u001b[0m     \u001b[38;5;28;01mreturn\u001b[39;00m \u001b[38;5;28minput\u001b[39m\n",
      "File \u001b[0;32m~/.virtualenvs/venv/lib/python3.9/site-packages/torch/nn/modules/module.py:1511\u001b[0m, in \u001b[0;36mModule._wrapped_call_impl\u001b[0;34m(self, *args, **kwargs)\u001b[0m\n\u001b[1;32m   1509\u001b[0m     \u001b[38;5;28;01mreturn\u001b[39;00m \u001b[38;5;28mself\u001b[39m\u001b[38;5;241m.\u001b[39m_compiled_call_impl(\u001b[38;5;241m*\u001b[39margs, \u001b[38;5;241m*\u001b[39m\u001b[38;5;241m*\u001b[39mkwargs)  \u001b[38;5;66;03m# type: ignore[misc]\u001b[39;00m\n\u001b[1;32m   1510\u001b[0m \u001b[38;5;28;01melse\u001b[39;00m:\n\u001b[0;32m-> 1511\u001b[0m     \u001b[38;5;28;01mreturn\u001b[39;00m \u001b[38;5;28;43mself\u001b[39;49m\u001b[38;5;241;43m.\u001b[39;49m\u001b[43m_call_impl\u001b[49m\u001b[43m(\u001b[49m\u001b[38;5;241;43m*\u001b[39;49m\u001b[43margs\u001b[49m\u001b[43m,\u001b[49m\u001b[43m \u001b[49m\u001b[38;5;241;43m*\u001b[39;49m\u001b[38;5;241;43m*\u001b[39;49m\u001b[43mkwargs\u001b[49m\u001b[43m)\u001b[49m\n",
      "File \u001b[0;32m~/.virtualenvs/venv/lib/python3.9/site-packages/torch/nn/modules/module.py:1520\u001b[0m, in \u001b[0;36mModule._call_impl\u001b[0;34m(self, *args, **kwargs)\u001b[0m\n\u001b[1;32m   1515\u001b[0m \u001b[38;5;66;03m# If we don't have any hooks, we want to skip the rest of the logic in\u001b[39;00m\n\u001b[1;32m   1516\u001b[0m \u001b[38;5;66;03m# this function, and just call forward.\u001b[39;00m\n\u001b[1;32m   1517\u001b[0m \u001b[38;5;28;01mif\u001b[39;00m \u001b[38;5;129;01mnot\u001b[39;00m (\u001b[38;5;28mself\u001b[39m\u001b[38;5;241m.\u001b[39m_backward_hooks \u001b[38;5;129;01mor\u001b[39;00m \u001b[38;5;28mself\u001b[39m\u001b[38;5;241m.\u001b[39m_backward_pre_hooks \u001b[38;5;129;01mor\u001b[39;00m \u001b[38;5;28mself\u001b[39m\u001b[38;5;241m.\u001b[39m_forward_hooks \u001b[38;5;129;01mor\u001b[39;00m \u001b[38;5;28mself\u001b[39m\u001b[38;5;241m.\u001b[39m_forward_pre_hooks\n\u001b[1;32m   1518\u001b[0m         \u001b[38;5;129;01mor\u001b[39;00m _global_backward_pre_hooks \u001b[38;5;129;01mor\u001b[39;00m _global_backward_hooks\n\u001b[1;32m   1519\u001b[0m         \u001b[38;5;129;01mor\u001b[39;00m _global_forward_hooks \u001b[38;5;129;01mor\u001b[39;00m _global_forward_pre_hooks):\n\u001b[0;32m-> 1520\u001b[0m     \u001b[38;5;28;01mreturn\u001b[39;00m \u001b[43mforward_call\u001b[49m\u001b[43m(\u001b[49m\u001b[38;5;241;43m*\u001b[39;49m\u001b[43margs\u001b[49m\u001b[43m,\u001b[49m\u001b[43m \u001b[49m\u001b[38;5;241;43m*\u001b[39;49m\u001b[38;5;241;43m*\u001b[39;49m\u001b[43mkwargs\u001b[49m\u001b[43m)\u001b[49m\n\u001b[1;32m   1522\u001b[0m \u001b[38;5;28;01mtry\u001b[39;00m:\n\u001b[1;32m   1523\u001b[0m     result \u001b[38;5;241m=\u001b[39m \u001b[38;5;28;01mNone\u001b[39;00m\n",
      "File \u001b[0;32m~/.virtualenvs/venv/lib/python3.9/site-packages/pyod/models/dif.py:345\u001b[0m, in \u001b[0;36mLinearBlock.forward\u001b[0;34m(self, x)\u001b[0m\n\u001b[1;32m    344\u001b[0m \u001b[38;5;28;01mdef\u001b[39;00m \u001b[38;5;21mforward\u001b[39m(\u001b[38;5;28mself\u001b[39m, x):\n\u001b[0;32m--> 345\u001b[0m \tx1 \u001b[38;5;241m=\u001b[39m \u001b[38;5;28;43mself\u001b[39;49m\u001b[38;5;241;43m.\u001b[39;49m\u001b[43mlinear\u001b[49m\u001b[43m(\u001b[49m\u001b[43mx\u001b[49m\u001b[43m)\u001b[49m\n\u001b[1;32m    346\u001b[0m \tx1 \u001b[38;5;241m=\u001b[39m \u001b[38;5;28mself\u001b[39m\u001b[38;5;241m.\u001b[39mact_layer(x1)\n\u001b[1;32m    348\u001b[0m \t\u001b[38;5;28;01mif\u001b[39;00m \u001b[38;5;28mself\u001b[39m\u001b[38;5;241m.\u001b[39mbatch_norm \u001b[38;5;129;01mis\u001b[39;00m \u001b[38;5;28;01mTrue\u001b[39;00m:\n",
      "File \u001b[0;32m~/.virtualenvs/venv/lib/python3.9/site-packages/torch/nn/modules/module.py:1511\u001b[0m, in \u001b[0;36mModule._wrapped_call_impl\u001b[0;34m(self, *args, **kwargs)\u001b[0m\n\u001b[1;32m   1509\u001b[0m     \u001b[38;5;28;01mreturn\u001b[39;00m \u001b[38;5;28mself\u001b[39m\u001b[38;5;241m.\u001b[39m_compiled_call_impl(\u001b[38;5;241m*\u001b[39margs, \u001b[38;5;241m*\u001b[39m\u001b[38;5;241m*\u001b[39mkwargs)  \u001b[38;5;66;03m# type: ignore[misc]\u001b[39;00m\n\u001b[1;32m   1510\u001b[0m \u001b[38;5;28;01melse\u001b[39;00m:\n\u001b[0;32m-> 1511\u001b[0m     \u001b[38;5;28;01mreturn\u001b[39;00m \u001b[38;5;28;43mself\u001b[39;49m\u001b[38;5;241;43m.\u001b[39;49m\u001b[43m_call_impl\u001b[49m\u001b[43m(\u001b[49m\u001b[38;5;241;43m*\u001b[39;49m\u001b[43margs\u001b[49m\u001b[43m,\u001b[49m\u001b[43m \u001b[49m\u001b[38;5;241;43m*\u001b[39;49m\u001b[38;5;241;43m*\u001b[39;49m\u001b[43mkwargs\u001b[49m\u001b[43m)\u001b[49m\n",
      "File \u001b[0;32m~/.virtualenvs/venv/lib/python3.9/site-packages/torch/nn/modules/module.py:1520\u001b[0m, in \u001b[0;36mModule._call_impl\u001b[0;34m(self, *args, **kwargs)\u001b[0m\n\u001b[1;32m   1515\u001b[0m \u001b[38;5;66;03m# If we don't have any hooks, we want to skip the rest of the logic in\u001b[39;00m\n\u001b[1;32m   1516\u001b[0m \u001b[38;5;66;03m# this function, and just call forward.\u001b[39;00m\n\u001b[1;32m   1517\u001b[0m \u001b[38;5;28;01mif\u001b[39;00m \u001b[38;5;129;01mnot\u001b[39;00m (\u001b[38;5;28mself\u001b[39m\u001b[38;5;241m.\u001b[39m_backward_hooks \u001b[38;5;129;01mor\u001b[39;00m \u001b[38;5;28mself\u001b[39m\u001b[38;5;241m.\u001b[39m_backward_pre_hooks \u001b[38;5;129;01mor\u001b[39;00m \u001b[38;5;28mself\u001b[39m\u001b[38;5;241m.\u001b[39m_forward_hooks \u001b[38;5;129;01mor\u001b[39;00m \u001b[38;5;28mself\u001b[39m\u001b[38;5;241m.\u001b[39m_forward_pre_hooks\n\u001b[1;32m   1518\u001b[0m         \u001b[38;5;129;01mor\u001b[39;00m _global_backward_pre_hooks \u001b[38;5;129;01mor\u001b[39;00m _global_backward_hooks\n\u001b[1;32m   1519\u001b[0m         \u001b[38;5;129;01mor\u001b[39;00m _global_forward_hooks \u001b[38;5;129;01mor\u001b[39;00m _global_forward_pre_hooks):\n\u001b[0;32m-> 1520\u001b[0m     \u001b[38;5;28;01mreturn\u001b[39;00m \u001b[43mforward_call\u001b[49m\u001b[43m(\u001b[49m\u001b[38;5;241;43m*\u001b[39;49m\u001b[43margs\u001b[49m\u001b[43m,\u001b[49m\u001b[43m \u001b[49m\u001b[38;5;241;43m*\u001b[39;49m\u001b[38;5;241;43m*\u001b[39;49m\u001b[43mkwargs\u001b[49m\u001b[43m)\u001b[49m\n\u001b[1;32m   1522\u001b[0m \u001b[38;5;28;01mtry\u001b[39;00m:\n\u001b[1;32m   1523\u001b[0m     result \u001b[38;5;241m=\u001b[39m \u001b[38;5;28;01mNone\u001b[39;00m\n",
      "File \u001b[0;32m~/.virtualenvs/venv/lib/python3.9/site-packages/torch/nn/modules/linear.py:116\u001b[0m, in \u001b[0;36mLinear.forward\u001b[0;34m(self, input)\u001b[0m\n\u001b[1;32m    115\u001b[0m \u001b[38;5;28;01mdef\u001b[39;00m \u001b[38;5;21mforward\u001b[39m(\u001b[38;5;28mself\u001b[39m, \u001b[38;5;28minput\u001b[39m: Tensor) \u001b[38;5;241m-\u001b[39m\u001b[38;5;241m>\u001b[39m Tensor:\n\u001b[0;32m--> 116\u001b[0m     \u001b[38;5;28;01mreturn\u001b[39;00m \u001b[43mF\u001b[49m\u001b[38;5;241;43m.\u001b[39;49m\u001b[43mlinear\u001b[49m\u001b[43m(\u001b[49m\u001b[38;5;28;43minput\u001b[39;49m\u001b[43m,\u001b[49m\u001b[43m \u001b[49m\u001b[38;5;28;43mself\u001b[39;49m\u001b[38;5;241;43m.\u001b[39;49m\u001b[43mweight\u001b[49m\u001b[43m,\u001b[49m\u001b[43m \u001b[49m\u001b[38;5;28;43mself\u001b[39;49m\u001b[38;5;241;43m.\u001b[39;49m\u001b[43mbias\u001b[49m\u001b[43m)\u001b[49m\n",
      "\u001b[0;31mKeyboardInterrupt\u001b[0m: "
     ]
    }
   ],
   "source": [
    "from pyod.models.dif import DIF\n",
    "\n",
    "dif_model = DIF()\n",
    "for i in range(3):\n",
    "    dif_model.fit(dataset.X)\n"
   ]
  },
  {
   "cell_type": "code",
   "execution_count": 32,
   "metadata": {},
   "outputs": [],
   "source": [
    "I = ExtendedIsolationForest(1, n_estimators=100, max_depth=30)\n",
    "I.fit(dataset.X)"
   ]
  },
  {
   "cell_type": "code",
   "execution_count": 7,
   "metadata": {},
   "outputs": [
    {
     "data": {
      "text/plain": [
       "6122.52"
      ]
     },
     "execution_count": 7,
     "metadata": {},
     "output_type": "execute_result"
    }
   ],
   "source": [
    "I.avg_number_of_nodes"
   ]
  },
  {
   "cell_type": "code",
   "execution_count": 3,
   "metadata": {},
   "outputs": [
    {
     "name": "stderr",
     "output_type": "stream",
     "text": [
      "0it [00:00, ?it/s]Exception ignored on calling ctypes callback function: <function ExecutionEngine._raw_object_cache_notify at 0x10f944670>\n",
      "Traceback (most recent call last):\n",
      "  File \"/Users/alessio/.virtualenvs/venv/lib/python3.9/site-packages/llvmlite/binding/executionengine.py\", line 171, in _raw_object_cache_notify\n",
      "    def _raw_object_cache_notify(self, data):\n",
      "KeyboardInterrupt: \n",
      "100it [00:41,  2.39it/s]\n",
      "/Users/alessio/Documents/ExIFFI/notebooks/../model_reboot/EIF_reboot.py:300: RuntimeWarning: invalid value encountered in divide\n",
      "  return (outliers_importances/outliers_normals)/(inliers_importances/inliers_normals)\n",
      "100it [00:00, 9632.11it/s]\n",
      "100it [00:00, 1277.63it/s]\n",
      "100it [00:00, 3796.82it/s]\n",
      "100it [00:00, 5438.95it/s]\n",
      "100it [00:00, 2746.51it/s]\n",
      "100it [00:00, 4351.80it/s]\n",
      "100it [00:00, 508.81it/s]\n",
      "100it [00:00, 1126.99it/s]\n",
      "100it [00:00, 1466.19it/s]\n",
      "100it [00:00, 1806.10it/s]\n",
      "100it [00:00, 1344.72it/s]\n",
      "100it [00:00, 752.54it/s]\n",
      "100it [00:00, 507.51it/s]\n",
      "100it [00:00, 1097.63it/s]\n",
      "100it [00:00, 875.82it/s]\n",
      "100it [00:00, 1909.57it/s]\n",
      "100it [00:00, 1411.04it/s]\n",
      "100it [00:00, 570.27it/s]\n",
      "100it [00:00, 472.35it/s]\n",
      "100it [00:00, 527.06it/s]\n",
      "100it [00:00, 719.06it/s]\n",
      "100it [00:00, 406.51it/s]\n",
      "100it [00:00, 670.90it/s]\n",
      "100it [00:00, 298.90it/s]\n"
     ]
    },
    {
     "ename": "KeyboardInterrupt",
     "evalue": "",
     "output_type": "error",
     "traceback": [
      "\u001b[0;31m---------------------------------------------------------------------------\u001b[0m",
      "\u001b[0;31mKeyboardInterrupt\u001b[0m                         Traceback (most recent call last)",
      "Cell \u001b[0;32mIn [3], line 7\u001b[0m\n\u001b[1;32m      5\u001b[0m \u001b[38;5;28;01mfor\u001b[39;00m d \u001b[38;5;129;01min\u001b[39;00m \u001b[38;5;28mrange\u001b[39m(\u001b[38;5;241m100\u001b[39m):\n\u001b[1;32m      6\u001b[0m     I \u001b[38;5;241m=\u001b[39m ExtendedIsolationForest(\u001b[38;5;241m1\u001b[39m, n_estimators\u001b[38;5;241m=\u001b[39m\u001b[38;5;241m100\u001b[39m, max_depth\u001b[38;5;241m=\u001b[39md)\n\u001b[0;32m----> 7\u001b[0m     \u001b[43mI\u001b[49m\u001b[38;5;241;43m.\u001b[39;49m\u001b[43mfit\u001b[49m\u001b[43m(\u001b[49m\u001b[43mdataset\u001b[49m\u001b[38;5;241;43m.\u001b[39;49m\u001b[43mX\u001b[49m\u001b[43m)\u001b[49m\n\u001b[1;32m      8\u001b[0m     precisions\u001b[38;5;241m.\u001b[39mappend(average_precision_score(dataset\u001b[38;5;241m.\u001b[39my, I\u001b[38;5;241m.\u001b[39mpredict(dataset\u001b[38;5;241m.\u001b[39mX)))\n\u001b[1;32m      9\u001b[0m     imp\u001b[38;5;241m=\u001b[39mI\u001b[38;5;241m.\u001b[39mglobal_importances(dataset\u001b[38;5;241m.\u001b[39mX)\n",
      "File \u001b[0;32m~/Documents/ExIFFI/notebooks/../model_reboot/EIF_reboot.py:264\u001b[0m, in \u001b[0;36mExtendedIsolationForest.fit\u001b[0;34m(self, X, locked_dims)\u001b[0m\n\u001b[1;32m    262\u001b[0m     \u001b[38;5;28mself\u001b[39m\u001b[38;5;241m.\u001b[39mmax_depth \u001b[38;5;241m=\u001b[39m \u001b[38;5;28mint\u001b[39m(np\u001b[38;5;241m.\u001b[39mceil(np\u001b[38;5;241m.\u001b[39mlog2(\u001b[38;5;28mself\u001b[39m\u001b[38;5;241m.\u001b[39mmax_samples))\u001b[38;5;241m*\u001b[39m\u001b[38;5;241m2\u001b[39m)\n\u001b[1;32m    263\u001b[0m subsample_size \u001b[38;5;241m=\u001b[39m np\u001b[38;5;241m.\u001b[39mmin((\u001b[38;5;28mself\u001b[39m\u001b[38;5;241m.\u001b[39mmax_samples, \u001b[38;5;28mlen\u001b[39m(X)))\n\u001b[0;32m--> 264\u001b[0m \u001b[38;5;28mself\u001b[39m\u001b[38;5;241m.\u001b[39mtrees \u001b[38;5;241m=\u001b[39m [ExtendedTree(subsample_size, X\u001b[38;5;241m.\u001b[39mshape[\u001b[38;5;241m1\u001b[39m], \u001b[38;5;28mself\u001b[39m\u001b[38;5;241m.\u001b[39mmax_depth, locked_dims\u001b[38;5;241m=\u001b[39mlocked_dims, plus\u001b[38;5;241m=\u001b[39m\u001b[38;5;28mself\u001b[39m\u001b[38;5;241m.\u001b[39mplus)\n\u001b[1;32m    265\u001b[0m               \u001b[38;5;28;01mfor\u001b[39;00m _ \u001b[38;5;129;01min\u001b[39;00m \u001b[38;5;28mrange\u001b[39m(\u001b[38;5;28mself\u001b[39m\u001b[38;5;241m.\u001b[39mn_estimators)]\n\u001b[1;32m    266\u001b[0m \u001b[38;5;28;01mfor\u001b[39;00m T \u001b[38;5;129;01min\u001b[39;00m \u001b[38;5;28mself\u001b[39m\u001b[38;5;241m.\u001b[39mtrees:\n\u001b[1;32m    267\u001b[0m     T\u001b[38;5;241m.\u001b[39mfit(X[np\u001b[38;5;241m.\u001b[39mrandom\u001b[38;5;241m.\u001b[39mrandint(\u001b[38;5;28mlen\u001b[39m(X), size\u001b[38;5;241m=\u001b[39msubsample_size)])\n",
      "File \u001b[0;32m~/Documents/ExIFFI/notebooks/../model_reboot/EIF_reboot.py:264\u001b[0m, in \u001b[0;36m<listcomp>\u001b[0;34m(.0)\u001b[0m\n\u001b[1;32m    262\u001b[0m     \u001b[38;5;28mself\u001b[39m\u001b[38;5;241m.\u001b[39mmax_depth \u001b[38;5;241m=\u001b[39m \u001b[38;5;28mint\u001b[39m(np\u001b[38;5;241m.\u001b[39mceil(np\u001b[38;5;241m.\u001b[39mlog2(\u001b[38;5;28mself\u001b[39m\u001b[38;5;241m.\u001b[39mmax_samples))\u001b[38;5;241m*\u001b[39m\u001b[38;5;241m2\u001b[39m)\n\u001b[1;32m    263\u001b[0m subsample_size \u001b[38;5;241m=\u001b[39m np\u001b[38;5;241m.\u001b[39mmin((\u001b[38;5;28mself\u001b[39m\u001b[38;5;241m.\u001b[39mmax_samples, \u001b[38;5;28mlen\u001b[39m(X)))\n\u001b[0;32m--> 264\u001b[0m \u001b[38;5;28mself\u001b[39m\u001b[38;5;241m.\u001b[39mtrees \u001b[38;5;241m=\u001b[39m [\u001b[43mExtendedTree\u001b[49m\u001b[43m(\u001b[49m\u001b[43msubsample_size\u001b[49m\u001b[43m,\u001b[49m\u001b[43m \u001b[49m\u001b[43mX\u001b[49m\u001b[38;5;241;43m.\u001b[39;49m\u001b[43mshape\u001b[49m\u001b[43m[\u001b[49m\u001b[38;5;241;43m1\u001b[39;49m\u001b[43m]\u001b[49m\u001b[43m,\u001b[49m\u001b[43m \u001b[49m\u001b[38;5;28;43mself\u001b[39;49m\u001b[38;5;241;43m.\u001b[39;49m\u001b[43mmax_depth\u001b[49m\u001b[43m,\u001b[49m\u001b[43m \u001b[49m\u001b[43mlocked_dims\u001b[49m\u001b[38;5;241;43m=\u001b[39;49m\u001b[43mlocked_dims\u001b[49m\u001b[43m,\u001b[49m\u001b[43m \u001b[49m\u001b[43mplus\u001b[49m\u001b[38;5;241;43m=\u001b[39;49m\u001b[38;5;28;43mself\u001b[39;49m\u001b[38;5;241;43m.\u001b[39;49m\u001b[43mplus\u001b[49m\u001b[43m)\u001b[49m\n\u001b[1;32m    265\u001b[0m               \u001b[38;5;28;01mfor\u001b[39;00m _ \u001b[38;5;129;01min\u001b[39;00m \u001b[38;5;28mrange\u001b[39m(\u001b[38;5;28mself\u001b[39m\u001b[38;5;241m.\u001b[39mn_estimators)]\n\u001b[1;32m    266\u001b[0m \u001b[38;5;28;01mfor\u001b[39;00m T \u001b[38;5;129;01min\u001b[39;00m \u001b[38;5;28mself\u001b[39m\u001b[38;5;241m.\u001b[39mtrees:\n\u001b[1;32m    267\u001b[0m     T\u001b[38;5;241m.\u001b[39mfit(X[np\u001b[38;5;241m.\u001b[39mrandom\u001b[38;5;241m.\u001b[39mrandint(\u001b[38;5;28mlen\u001b[39m(X), size\u001b[38;5;241m=\u001b[39msubsample_size)])\n",
      "File \u001b[0;32m~/.virtualenvs/venv/lib/python3.9/site-packages/numba/experimental/jitclass/base.py:124\u001b[0m, in \u001b[0;36mJitClassType.__call__\u001b[0;34m(cls, *args, **kwargs)\u001b[0m\n\u001b[1;32m    122\u001b[0m bind \u001b[38;5;241m=\u001b[39m \u001b[38;5;28mcls\u001b[39m\u001b[38;5;241m.\u001b[39m_ctor_sig\u001b[38;5;241m.\u001b[39mbind(\u001b[38;5;28;01mNone\u001b[39;00m, \u001b[38;5;241m*\u001b[39margs, \u001b[38;5;241m*\u001b[39m\u001b[38;5;241m*\u001b[39mkwargs)\n\u001b[1;32m    123\u001b[0m bind\u001b[38;5;241m.\u001b[39mapply_defaults()\n\u001b[0;32m--> 124\u001b[0m \u001b[38;5;28;01mreturn\u001b[39;00m \u001b[38;5;28;43mcls\u001b[39;49m\u001b[38;5;241;43m.\u001b[39;49m\u001b[43m_ctor\u001b[49m\u001b[43m(\u001b[49m\u001b[38;5;241;43m*\u001b[39;49m\u001b[43mbind\u001b[49m\u001b[38;5;241;43m.\u001b[39;49m\u001b[43margs\u001b[49m\u001b[43m[\u001b[49m\u001b[38;5;241;43m1\u001b[39;49m\u001b[43m:\u001b[49m\u001b[43m]\u001b[49m\u001b[43m,\u001b[49m\u001b[43m \u001b[49m\u001b[38;5;241;43m*\u001b[39;49m\u001b[38;5;241;43m*\u001b[39;49m\u001b[43mbind\u001b[49m\u001b[38;5;241;43m.\u001b[39;49m\u001b[43mkwargs\u001b[49m\u001b[43m)\u001b[49m\n",
      "\u001b[0;31mKeyboardInterrupt\u001b[0m: "
     ]
    }
   ],
   "source": [
    "\n",
    "from sklearn.metrics import average_precision_score\n",
    "precisions = []\n",
    "deviations = []\n",
    "values_=[]\n",
    "for d in range(100):\n",
    "    I = ExtendedIsolationForest(1, n_estimators=100, max_depth=d)\n",
    "    I.fit(dataset.X)\n",
    "    precisions.append(average_precision_score(dataset.y, I.predict(dataset.X)))\n",
    "    imp=I.global_importances(dataset.X)\n",
    "    deviations.append(np.std(imp))\n",
    "    values_.append(imp)\n"
   ]
  },
  {
   "cell_type": "code",
   "execution_count": 7,
   "metadata": {},
   "outputs": [
    {
     "data": {
      "image/png": "[encoded data removed]",
      "text/plain": [
       "<Figure size 640x480 with 1 Axes>"
      ]
     },
     "metadata": {},
     "output_type": "display_data"
    }
   ],
   "source": [
    "import matplotlib.pyplot as plt\n",
    "# plt.plot(precisions)\n",
    "# plt.plot(deviations)\n",
    "for i in range(12,13):\n",
    "    plt.plot([x[i] for x in values_[0:100]],label=str(i))\n",
    "plt.legend()\n",
    "plt.show()"
   ]
  },
  {
   "cell_type": "code",
   "execution_count": 34,
   "metadata": {},
   "outputs": [
    {
     "name": "stderr",
     "output_type": "stream",
     "text": [
      "0it [00:00, ?it/s]"
     ]
    },
    {
     "name": "stderr",
     "output_type": "stream",
     "text": [
      "100it [00:00, 817.12it/s]\n"
     ]
    },
    {
     "name": "stdout",
     "output_type": "stream",
     "text": [
      "[1.37616069 1.45433575 1.41724674 1.45072977 1.38055283 1.43747219\n",
      " 1.4017655  1.37982971 1.4389898  1.50713838 1.38460577 1.42363938\n",
      " 1.41836845]\n"
     ]
    },
    {
     "name": "stderr",
     "output_type": "stream",
     "text": [
      "100it [00:00, 998.09it/s]\n"
     ]
    },
    {
     "data": {
      "text/plain": [
       "0.036240194782634044"
      ]
     },
     "execution_count": 34,
     "metadata": {},
     "output_type": "execute_result"
    }
   ],
   "source": [
    "print(12_)\n",
    "np.std(I.global_importances(dataset.X))"
   ]
  },
  {
   "cell_type": "code",
   "execution_count": 8,
   "metadata": {},
   "outputs": [
    {
     "data": {
      "text/plain": [
       "array([0.32370204, 0.31020521, 0.32663136, 0.32455299, 0.34409728,\n",
       "       0.3088488 , 0.37344515, 0.31044738, 0.31257767, 0.31348678,\n",
       "       0.35250615, 0.38477286, 0.34827564, 0.3286497 , 0.38747818,\n",
       "       0.34435141, 0.30281624, 0.34978805, 0.35210064, 0.35222281,\n",
       "       0.41087092, 0.30916565, 0.37614845, 0.33706403, 0.38068482,\n",
       "       0.39674176, 0.32456198, 0.34921915, 0.29856177, 0.31184235,\n",
       "       0.31806577, 0.33128089, 0.34384877, 0.32186876, 0.37856918,\n",
       "       0.36606445, 0.32664802, 0.328958  , 0.32927542, 0.32399297,\n",
       "       0.31438975, 0.34501336, 0.34010603, 0.37228866, 0.34541972,\n",
       "       0.38378017, 0.32408241, 0.39845287, 0.32025195, 0.35266276,\n",
       "       0.34794084, 0.35138621, 0.33568084, 0.31300203, 0.30546317,\n",
       "       0.32215494, 0.39602   , 0.31326639, 0.32534448, 0.31381847,\n",
       "       0.33658528, 0.37523751, 0.328167  , 0.37750206, 0.30932106,\n",
       "       0.3089411 , 0.39619262, 0.32735377, 0.30736825, 0.31033868,\n",
       "       0.30964242, 0.32920774, 0.36137896, 0.31275649, 0.32881433,\n",
       "       0.3809316 , 0.30660528, 0.31425726, 0.37090201, 0.30423857,\n",
       "       0.29620758, 0.36669808, 0.35514016, 0.35167476, 0.37883182,\n",
       "       0.37685584, 0.38847814, 0.34631374, 0.38064807, 0.36272397,\n",
       "       0.33968063, 0.33798689, 0.31126659, 0.33167591, 0.31489983,\n",
       "       0.34134942, 0.32191988, 0.34503922, 0.33332058, 0.33108559,\n",
       "       0.34679206, 0.37535885, 0.3801897 , 0.36480509, 0.38521564,\n",
       "       0.35316473, 0.38626568, 0.33952177, 0.38530952, 0.36684217,\n",
       "       0.35920826, 0.33416549, 0.32936495, 0.36961114, 0.30286237,\n",
       "       0.30955012, 0.34027748, 0.31011517, 0.30473421, 0.30577468,\n",
       "       0.35012036, 0.30696476, 0.33743656, 0.31901551, 0.34037966,\n",
       "       0.31922141, 0.33375451, 0.35074507, 0.35691647])"
      ]
     },
     "execution_count": 8,
     "metadata": {},
     "output_type": "execute_result"
    }
   ],
   "source": [
    "dif_model.decision_scores_"
   ]
  },
  {
   "cell_type": "code",
   "execution_count": 13,
   "metadata": {},
   "outputs": [],
   "source": [
    "from utils_reboot.utils import *\n",
    "path_experiment_matrices = \"/Users/alessio/Documents/ExIFFI/experiments/results/wine/experiments/contamination/precisions\"\n",
    "precisions = open_element(get_most_recent_file(path_experiment_matrices))"
   ]
  },
  {
   "cell_type": "code",
   "execution_count": 17,
   "metadata": {},
   "outputs": [
    {
     "data": {
      "text/plain": [
       "(11, 10, 13)"
      ]
     },
     "execution_count": 17,
     "metadata": {},
     "output_type": "execute_result"
    }
   ],
   "source": [
    "precisions[1].shape"
   ]
  },
  {
   "cell_type": "code",
   "execution_count": 3,
   "metadata": {},
   "outputs": [
    {
     "name": "stdout",
     "output_type": "stream",
     "text": [
      "X_train shape: (119, 13)\n",
      "X_test shape: (10, 13)\n",
      "y_train shape: (119,)\n",
      "y_test shape: (10,)\n"
     ]
    }
   ],
   "source": [
    "X_train,X_test,y_train,y_test = dataset.partition_data(dataset.X,dataset.y)\n",
    "print(f'X_train shape: {X_train.shape}')\n",
    "print(f'X_test shape: {X_test.shape}')\n",
    "print(f'y_train shape: {y_train.shape}')\n",
    "print(f'y_test shape: {y_test.shape}')"
   ]
  },
  {
   "cell_type": "markdown",
   "metadata": {},
   "source": [
    "### `pre_process` with split"
   ]
  },
  {
   "cell_type": "code",
   "execution_count": 4,
   "metadata": {},
   "outputs": [
    {
     "name": "stdout",
     "output_type": "stream",
     "text": [
      "X_train shape: (119, 13)\n",
      "X_test shape: (10, 13)\n",
      "y_train shape: (119,)\n",
      "y_test shape: (10,)\n",
      "X shape: (129, 13)\n"
     ]
    }
   ],
   "source": [
    "X_train,X_test,X,y=dataset.pre_process(X_train,X_test)\n",
    "print(f'X_train shape: {X_train.shape}')\n",
    "print(f'X_test shape: {X_test.shape}')\n",
    "print(f'y_train shape: {y_train.shape}')\n",
    "print(f'y_test shape: {y_test.shape}')\n",
    "print(f'X shape: {X.shape}')"
   ]
  },
  {
   "cell_type": "code",
   "execution_count": 5,
   "metadata": {},
   "outputs": [
    {
     "data": {
      "text/plain": [
       "array([[-0.38352175, -1.25265739, -3.38319954, ...,  0.57538935,\n",
       "        -0.7627292 , -0.2922407 ],\n",
       "       [-0.44214614, -1.12399951, -0.14889387, ...,  1.37230895,\n",
       "        -0.98235682,  0.76964154],\n",
       "       [ 0.01219289, -0.91493047, -1.06293677, ...,  0.29646749,\n",
       "        -1.09949155, -0.75681418],\n",
       "       ...,\n",
       "       [ 0.93552704,  1.43307573, -0.21920486, ..., -1.25752574,\n",
       "        -1.14341707,  1.79833997],\n",
       "       [ 0.78896606,  0.07412694,  0.1675056 , ..., -1.21767976,\n",
       "        -1.05556603,  1.83152379],\n",
       "       [ 2.19595143,  1.28833562,  1.46825897, ..., -1.17783378,\n",
       "        -1.08484971, -0.02677014]])"
      ]
     },
     "execution_count": 5,
     "metadata": {},
     "output_type": "execute_result"
    }
   ],
   "source": [
    "X_train"
   ]
  },
  {
   "cell_type": "markdown",
   "metadata": {},
   "source": [
    "### `pre_process` without `split`"
   ]
  },
  {
   "cell_type": "code",
   "execution_count": null,
   "metadata": {},
   "outputs": [],
   "source": []
  },
  {
   "cell_type": "code",
   "execution_count": 6,
   "metadata": {},
   "outputs": [
    {
     "name": "stdout",
     "output_type": "stream",
     "text": [
      "X_train not loaded. Load it running split_dataset() first\n"
     ]
    },
    {
     "data": {
      "text/plain": [
       "array([1.45570221, 0.97099082, 1.37818928, 1.7536564 , 1.49118793,\n",
       "       1.51978639, 1.63866458, 1.07169841, 1.48211212, 1.10904872,\n",
       "       1.03238004, 1.20685246, 1.66380843])"
      ]
     },
     "execution_count": 7,
     "metadata": {},
     "output_type": "execute_result"
    }
   ],
   "source": [
    "dataset.pre_process(X_train,X_test,split=False)"
   ]
  },
  {
   "cell_type": "code",
   "execution_count": 13,
   "metadata": {},
   "outputs": [
    {
     "name": "stderr",
     "output_type": "stream",
     "text": [
      "100it [00:00, 4527.14it/s]\n"
     ]
    },
    {
     "data": {
      "image/png": "[encoded data removed]",
      "text/plain": [
       "(129, 13)"
      ]
     },
     "execution_count": 13,
     "metadata": {},
     "output_type": "execute_result"
    }
   ],
   "source": [
    "dataset.X.shape"
   ]
  },
  {
   "cell_type": "markdown",
   "metadata": {},
   "source": [
    "## `X_train,y_train`"
   ]
  },
  {
   "cell_type": "code",
   "execution_count": 11,
   "metadata": {},
   "outputs": [],
   "source": [
    "dataset.split_dataset()"
   ]
  },
  {
   "cell_type": "code",
   "execution_count": 12,
   "metadata": {},
   "outputs": [
    {
     "name": "stdout",
     "output_type": "stream",
     "text": [
      "X_train shape: (93, 13)\n",
      "X_test shape: (10, 13)\n",
      "y_train shape: (93,)\n",
      "y_test shape: (10,)\n"
     ]
    }
   ],
   "source": [
    "X_train1,X_test1,y_train1,y_test1 = dataset.partition_data(dataset.X_train,dataset.y_train)\n",
    "print(f'X_train shape: {X_train1.shape}')\n",
    "print(f'X_test shape: {X_test1.shape}')\n",
    "print(f'y_train shape: {y_train1.shape}')\n",
    "print(f'y_test shape: {y_test1.shape}')"
   ]
  },
  {
   "cell_type": "code",
   "execution_count": 13,
   "metadata": {},
   "outputs": [],
   "source": [
    "X_train,X_test,X,y=dataset.pre_process(X_train,X_test)"
   ]
  },
  {
   "cell_type": "markdown",
   "metadata": {},
   "source": [
    "## Feature Names "
   ]
  },
  {
   "cell_type": "markdown",
   "metadata": {},
   "source": [
    "### `pima`"
   ]
  },
  {
   "cell_type": "code",
   "execution_count": 10,
   "metadata": {},
   "outputs": [
    {
     "data": {
      "text/html": [
       "<div>\n",
       "<style scoped>\n",
       "    .dataframe tbody tr th:only-of-type {\n",
       "        vertical-align: middle;\n",
       "    }\n",
       "\n",
       "    .dataframe tbody tr th {\n",
       "        vertical-align: top;\n",
       "    }\n",
       "\n",
       "    .dataframe thead th {\n",
       "        text-align: right;\n",
       "    }\n",
       "</style>\n",
       "<table border=\"1\" class=\"dataframe\">\n",
       "  <thead>\n",
       "    <tr style=\"text-align: right;\">\n",
       "      <th></th>\n",
       "      <th>Pregnancies</th>\n",
       "      <th>Glucose</th>\n",
       "      <th>BloodPressure</th>\n",
       "      <th>SkinThickness</th>\n",
       "      <th>Insulin</th>\n",
       "      <th>BMI</th>\n",
       "      <th>DiabetesPedigreeFunction</th>\n",
       "      <th>Age</th>\n",
       "      <th>Outcome</th>\n",
       "    </tr>\n",
       "  </thead>\n",
       "  <tbody>\n",
       "    <tr>\n",
       "      <th>0</th>\n",
       "      <td>6</td>\n",
       "      <td>148</td>\n",
       "      <td>72</td>\n",
       "      <td>35</td>\n",
       "      <td>0</td>\n",
       "      <td>33.6</td>\n",
       "      <td>0.627</td>\n",
       "      <td>50</td>\n",
       "      <td>1</td>\n",
       "    </tr>\n",
       "    <tr>\n",
       "      <th>1</th>\n",
       "      <td>1</td>\n",
       "      <td>85</td>\n",
       "      <td>66</td>\n",
       "      <td>29</td>\n",
       "      <td>0</td>\n",
       "      <td>26.6</td>\n",
       "      <td>0.351</td>\n",
       "      <td>31</td>\n",
       "      <td>0</td>\n",
       "    </tr>\n",
       "    <tr>\n",
       "      <th>2</th>\n",
       "      <td>8</td>\n",
       "      <td>183</td>\n",
       "      <td>64</td>\n",
       "      <td>0</td>\n",
       "      <td>0</td>\n",
       "      <td>23.3</td>\n",
       "      <td>0.672</td>\n",
       "      <td>32</td>\n",
       "      <td>1</td>\n",
       "    </tr>\n",
       "    <tr>\n",
       "      <th>3</th>\n",
       "      <td>1</td>\n",
       "      <td>89</td>\n",
       "      <td>66</td>\n",
       "      <td>23</td>\n",
       "      <td>94</td>\n",
       "      <td>28.1</td>\n",
       "      <td>0.167</td>\n",
       "      <td>21</td>\n",
       "      <td>0</td>\n",
       "    </tr>\n",
       "    <tr>\n",
       "      <th>4</th>\n",
       "      <td>0</td>\n",
       "      <td>137</td>\n",
       "      <td>40</td>\n",
       "      <td>35</td>\n",
       "      <td>168</td>\n",
       "      <td>43.1</td>\n",
       "      <td>2.288</td>\n",
       "      <td>33</td>\n",
       "      <td>1</td>\n",
       "    </tr>\n",
       "  </tbody>\n",
       "</table>\n",
       "</div>"
      ],
      "text/plain": [
       "   Pregnancies  Glucose  BloodPressure  SkinThickness  Insulin   BMI  \\\n",
       "0            6      148             72             35        0  33.6   \n",
       "1            1       85             66             29        0  26.6   \n",
       "2            8      183             64              0        0  23.3   \n",
       "3            1       89             66             23       94  28.1   \n",
       "4            0      137             40             35      168  43.1   \n",
       "\n",
       "   DiabetesPedigreeFunction  Age  Outcome  \n",
       "0                     0.627   50        1  \n",
       "1                     0.351   31        0  \n",
       "2                     0.672   32        1  \n",
       "3                     0.167   21        0  \n",
       "4                     2.288   33        1  "
      ]
     },
     "execution_count": 10,
     "metadata": {},
     "output_type": "execute_result"
    }
   ],
   "source": [
    "data=pd.read_csv('../data/real/pima.csv')\n",
    "data.head()"
   ]
  },
  {
   "cell_type": "code",
   "execution_count": 11,
   "metadata": {},
   "outputs": [
    {
     "data": {
      "text/plain": [
       "Index(['Pregnancies', 'Glucose', 'BloodPressure', 'SkinThickness', 'Insulin',\n",
       "       'BMI', 'DiabetesPedigreeFunction', 'Age', 'Outcome'],\n",
       "      dtype='object')"
      ]
     },
     "execution_count": 11,
     "metadata": {},
     "output_type": "execute_result"
    }
   ],
   "source": [
    "data.columns"
   ]
  },
  {
   "cell_type": "markdown",
   "metadata": {},
   "source": [
    "### `moodify`"
   ]
  },
  {
   "cell_type": "code",
   "execution_count": 12,
   "metadata": {},
   "outputs": [
    {
     "data": {
      "text/html": [
       "<div>\n",
       "<style scoped>\n",
       "    .dataframe tbody tr th:only-of-type {\n",
       "        vertical-align: middle;\n",
       "    }\n",
       "\n",
       "    .dataframe tbody tr th {\n",
       "        vertical-align: top;\n",
       "    }\n",
       "\n",
       "    .dataframe thead th {\n",
       "        text-align: right;\n",
       "    }\n",
       "</style>\n",
       "<table border=\"1\" class=\"dataframe\">\n",
       "  <thead>\n",
       "    <tr style=\"text-align: right;\">\n",
       "      <th></th>\n",
       "      <th>Unnamed: 0</th>\n",
       "      <th>duration (ms)</th>\n",
       "      <th>danceability</th>\n",
       "      <th>energy</th>\n",
       "      <th>loudness</th>\n",
       "      <th>speechiness</th>\n",
       "      <th>acousticness</th>\n",
       "      <th>instrumentalness</th>\n",
       "      <th>liveness</th>\n",
       "      <th>valence</th>\n",
       "      <th>tempo</th>\n",
       "      <th>spec_rate</th>\n",
       "      <th>Target</th>\n",
       "    </tr>\n",
       "  </thead>\n",
       "  <tbody>\n",
       "    <tr>\n",
       "      <th>0</th>\n",
       "      <td>0</td>\n",
       "      <td>195000.0</td>\n",
       "      <td>0.611</td>\n",
       "      <td>0.614</td>\n",
       "      <td>-8.815</td>\n",
       "      <td>0.0672</td>\n",
       "      <td>0.0169</td>\n",
       "      <td>0.000794</td>\n",
       "      <td>0.7530</td>\n",
       "      <td>0.520</td>\n",
       "      <td>128.050</td>\n",
       "      <td>3.446154e-07</td>\n",
       "      <td>0</td>\n",
       "    </tr>\n",
       "    <tr>\n",
       "      <th>1</th>\n",
       "      <td>1</td>\n",
       "      <td>194641.0</td>\n",
       "      <td>0.638</td>\n",
       "      <td>0.781</td>\n",
       "      <td>-6.848</td>\n",
       "      <td>0.0285</td>\n",
       "      <td>0.0118</td>\n",
       "      <td>0.009530</td>\n",
       "      <td>0.3490</td>\n",
       "      <td>0.250</td>\n",
       "      <td>122.985</td>\n",
       "      <td>1.464234e-07</td>\n",
       "      <td>0</td>\n",
       "    </tr>\n",
       "    <tr>\n",
       "      <th>2</th>\n",
       "      <td>2</td>\n",
       "      <td>217573.0</td>\n",
       "      <td>0.560</td>\n",
       "      <td>0.810</td>\n",
       "      <td>-8.029</td>\n",
       "      <td>0.0872</td>\n",
       "      <td>0.0071</td>\n",
       "      <td>0.000008</td>\n",
       "      <td>0.2410</td>\n",
       "      <td>0.247</td>\n",
       "      <td>170.044</td>\n",
       "      <td>4.007850e-07</td>\n",
       "      <td>0</td>\n",
       "    </tr>\n",
       "    <tr>\n",
       "      <th>3</th>\n",
       "      <td>3</td>\n",
       "      <td>443478.0</td>\n",
       "      <td>0.525</td>\n",
       "      <td>0.699</td>\n",
       "      <td>-4.571</td>\n",
       "      <td>0.0353</td>\n",
       "      <td>0.0178</td>\n",
       "      <td>0.000088</td>\n",
       "      <td>0.0888</td>\n",
       "      <td>0.199</td>\n",
       "      <td>92.011</td>\n",
       "      <td>7.959809e-08</td>\n",
       "      <td>0</td>\n",
       "    </tr>\n",
       "    <tr>\n",
       "      <th>4</th>\n",
       "      <td>4</td>\n",
       "      <td>225862.0</td>\n",
       "      <td>0.367</td>\n",
       "      <td>0.771</td>\n",
       "      <td>-5.863</td>\n",
       "      <td>0.1060</td>\n",
       "      <td>0.3650</td>\n",
       "      <td>0.000001</td>\n",
       "      <td>0.0965</td>\n",
       "      <td>0.163</td>\n",
       "      <td>115.917</td>\n",
       "      <td>4.693131e-07</td>\n",
       "      <td>0</td>\n",
       "    </tr>\n",
       "  </tbody>\n",
       "</table>\n",
       "</div>"
      ],
      "text/plain": [
       "   Unnamed: 0  duration (ms)  danceability  energy  loudness  speechiness  \\\n",
       "0           0       195000.0         0.611   0.614    -8.815       0.0672   \n",
       "1           1       194641.0         0.638   0.781    -6.848       0.0285   \n",
       "2           2       217573.0         0.560   0.810    -8.029       0.0872   \n",
       "3           3       443478.0         0.525   0.699    -4.571       0.0353   \n",
       "4           4       225862.0         0.367   0.771    -5.863       0.1060   \n",
       "\n",
       "   acousticness  instrumentalness  liveness  valence    tempo     spec_rate  \\\n",
       "0        0.0169          0.000794    0.7530    0.520  128.050  3.446154e-07   \n",
       "1        0.0118          0.009530    0.3490    0.250  122.985  1.464234e-07   \n",
       "2        0.0071          0.000008    0.2410    0.247  170.044  4.007850e-07   \n",
       "3        0.0178          0.000088    0.0888    0.199   92.011  7.959809e-08   \n",
       "4        0.3650          0.000001    0.0965    0.163  115.917  4.693131e-07   \n",
       "\n",
       "   Target  \n",
       "0       0  \n",
       "1       0  \n",
       "2       0  \n",
       "3       0  \n",
       "4       0  "
      ]
     },
     "execution_count": 12,
     "metadata": {},
     "output_type": "execute_result"
    }
   ],
   "source": [
    "data=pd.read_csv('../data/real/moodify.csv')\n",
    "data.head()"
   ]
  },
  {
   "cell_type": "code",
   "execution_count": 13,
   "metadata": {},
   "outputs": [
    {
     "data": {
      "text/plain": [
       "Index(['Unnamed: 0', 'duration (ms)', 'danceability', 'energy', 'loudness',\n",
       "       'speechiness', 'acousticness', 'instrumentalness', 'liveness',\n",
       "       'valence', 'tempo', 'spec_rate', 'Target'],\n",
       "      dtype='object')"
      ]
     },
     "execution_count": 13,
     "metadata": {},
     "output_type": "execute_result"
    }
   ],
   "source": [
    "data.columns"
   ]
  },
  {
   "cell_type": "markdown",
   "metadata": {},
   "source": [
    "### `diabetes`"
   ]
  },
  {
   "cell_type": "code",
   "execution_count": 14,
   "metadata": {},
   "outputs": [
    {
     "data": {
      "text/html": [
       "<div>\n",
       "<style scoped>\n",
       "    .dataframe tbody tr th:only-of-type {\n",
       "        vertical-align: middle;\n",
       "    }\n",
       "\n",
       "    .dataframe tbody tr th {\n",
       "        vertical-align: top;\n",
       "    }\n",
       "\n",
       "    .dataframe thead th {\n",
       "        text-align: right;\n",
       "    }\n",
       "</style>\n",
       "<table border=\"1\" class=\"dataframe\">\n",
       "  <thead>\n",
       "    <tr style=\"text-align: right;\">\n",
       "      <th></th>\n",
       "      <th>Unnamed: 0</th>\n",
       "      <th>age</th>\n",
       "      <th>bmi</th>\n",
       "      <th>HbA1c_level</th>\n",
       "      <th>blood_glucose_level</th>\n",
       "      <th>Target</th>\n",
       "    </tr>\n",
       "  </thead>\n",
       "  <tbody>\n",
       "    <tr>\n",
       "      <th>0</th>\n",
       "      <td>0</td>\n",
       "      <td>80.0</td>\n",
       "      <td>25.19</td>\n",
       "      <td>6.6</td>\n",
       "      <td>140</td>\n",
       "      <td>0</td>\n",
       "    </tr>\n",
       "    <tr>\n",
       "      <th>1</th>\n",
       "      <td>1</td>\n",
       "      <td>54.0</td>\n",
       "      <td>27.32</td>\n",
       "      <td>6.6</td>\n",
       "      <td>80</td>\n",
       "      <td>0</td>\n",
       "    </tr>\n",
       "    <tr>\n",
       "      <th>2</th>\n",
       "      <td>2</td>\n",
       "      <td>28.0</td>\n",
       "      <td>27.32</td>\n",
       "      <td>5.7</td>\n",
       "      <td>158</td>\n",
       "      <td>0</td>\n",
       "    </tr>\n",
       "    <tr>\n",
       "      <th>3</th>\n",
       "      <td>3</td>\n",
       "      <td>36.0</td>\n",
       "      <td>23.45</td>\n",
       "      <td>5.0</td>\n",
       "      <td>155</td>\n",
       "      <td>0</td>\n",
       "    </tr>\n",
       "    <tr>\n",
       "      <th>4</th>\n",
       "      <td>4</td>\n",
       "      <td>76.0</td>\n",
       "      <td>20.14</td>\n",
       "      <td>4.8</td>\n",
       "      <td>155</td>\n",
       "      <td>0</td>\n",
       "    </tr>\n",
       "  </tbody>\n",
       "</table>\n",
       "</div>"
      ],
      "text/plain": [
       "   Unnamed: 0   age    bmi  HbA1c_level  blood_glucose_level  Target\n",
       "0           0  80.0  25.19          6.6                  140       0\n",
       "1           1  54.0  27.32          6.6                   80       0\n",
       "2           2  28.0  27.32          5.7                  158       0\n",
       "3           3  36.0  23.45          5.0                  155       0\n",
       "4           4  76.0  20.14          4.8                  155       0"
      ]
     },
     "execution_count": 14,
     "metadata": {},
     "output_type": "execute_result"
    }
   ],
   "source": [
    "data=pd.read_csv('../data/real/diabetes.csv')\n",
    "data.head()"
   ]
  },
  {
   "cell_type": "code",
   "execution_count": 15,
   "metadata": {},
   "outputs": [
    {
     "data": {
      "text/plain": [
       "Index(['Unnamed: 0', 'age', 'bmi', 'HbA1c_level', 'blood_glucose_level',\n",
       "       'Target'],\n",
       "      dtype='object')"
      ]
     },
     "execution_count": 15,
     "metadata": {},
     "output_type": "execute_result"
    }
   ],
   "source": [
    "data.columns"
   ]
  },
  {
   "cell_type": "markdown",
   "metadata": {},
   "source": [
    "## Test `feature_ names`"
   ]
  },
  {
   "cell_type": "code",
   "execution_count": 4,
   "metadata": {},
   "outputs": [
    {
     "data": {
      "text/plain": [
       "array([ 0,  1,  2,  3,  4,  5,  6,  7,  8,  9, 10, 11, 12])"
      ]
     },
     "execution_count": 4,
     "metadata": {},
     "output_type": "execute_result"
    }
   ],
   "source": [
    "dataset = Dataset(\"wine\", path = \"../data/real/\")\n",
    "dataset.feature_names"
   ]
  },
  {
   "cell_type": "code",
   "execution_count": 5,
   "metadata": {},
   "outputs": [
    {
     "data": {
      "text/plain": [
       "['Pregnancies',\n",
       " 'Glucose',\n",
       " 'BloodPressure',\n",
       " 'SkinThickness',\n",
       " 'Insulin',\n",
       " 'BMI',\n",
       " 'DiabetesPedigreeFunction',\n",
       " 'Age']"
      ]
     },
     "execution_count": 5,
     "metadata": {},
     "output_type": "execute_result"
    }
   ],
   "source": [
    "dataset = Dataset(\"pima\", path = \"../data/real/\")\n",
    "dataset.feature_names"
   ]
  },
  {
   "cell_type": "code",
   "execution_count": 6,
   "metadata": {},
   "outputs": [
    {
     "data": {
      "text/plain": [
       "['duration (ms)',\n",
       " 'danceability',\n",
       " 'energy',\n",
       " 'loudness',\n",
       " 'speechiness',\n",
       " 'acousticness',\n",
       " 'instrumentalness',\n",
       " 'liveness',\n",
       " 'valence',\n",
       " 'tempo',\n",
       " 'spec_rate']"
      ]
     },
     "execution_count": 6,
     "metadata": {},
     "output_type": "execute_result"
    }
   ],
   "source": [
    "dataset = Dataset(\"moodify\", path = \"../data/real/\")\n",
    "dataset.feature_names"
   ]
  },
  {
   "cell_type": "code",
   "execution_count": 7,
   "metadata": {},
   "outputs": [
    {
     "data": {
      "text/plain": [
       "['age', 'bmi', 'HbA1c_level', 'blood_glucose_level']"
      ]
     },
     "execution_count": 7,
     "metadata": {},
     "output_type": "execute_result"
    }
   ],
   "source": [
    "dataset = Dataset(\"diabetes\", path = \"../data/real/\")\n",
    "dataset.feature_names"
   ]
  },
  {
   "cell_type": "code",
   "execution_count": null,
   "metadata": {},
   "outputs": [],
   "source": []
  },
  {
   "cell_type": "code",
   "execution_count": null,
   "metadata": {},
   "outputs": [],
   "source": []
  },
  {
   "cell_type": "code",
   "execution_count": null,
   "metadata": {},
   "outputs": [],
   "source": []
  },
  {
   "cell_type": "code",
   "execution_count": null,
   "metadata": {},
   "outputs": [],
   "source": []
  },
  {
   "cell_type": "code",
   "execution_count": null,
   "metadata": {},
   "outputs": [],
   "source": []
  },
  {
   "cell_type": "code",
   "execution_count": null,
   "metadata": {},
   "outputs": [],
   "source": []
  }
 ],
 "metadata": {
  "kernelspec": {
   "display_name": "venv",
   "language": "python",
   "name": "python3"
  },
  "language_info": {
   "codemirror_mode": {
    "name": "ipython",
    "version": 3
   },
   "file_extension": ".py",
   "mimetype": "text/x-python",
   "name": "python",
   "nbconvert_exporter": "python",
   "pygments_lexer": "ipython3",
   "version": "3.9.15"
  }
 },
 "nbformat": 4,
 "nbformat_minor": 2
}
