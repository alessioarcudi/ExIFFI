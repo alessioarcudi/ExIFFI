{
 "cells": [
  {
   "cell_type": "markdown",
   "metadata": {},
   "source": [
    "# Test `datasets`"
   ]
  },
  {
   "cell_type": "code",
   "execution_count": 1,
   "metadata": {},
   "outputs": [],
   "source": [
    "import sys\n",
    "sys.path.append('../')\n",
    "from model_reboot.EIF_reboot import ExtendedTree, ExtendedIsolationForest,IsolationForest\n",
    "import numpy as np\n",
    "import pandas as pd\n",
    "from utils_reboot.datasets import Dataset\n",
    "from sklearn.preprocessing import StandardScaler,MinMaxScaler\n",
    "import pyod"
   ]
  },
  {
   "cell_type": "markdown",
   "metadata": {},
   "source": [
    "## `X,y`"
   ]
  },
  {
   "cell_type": "code",
   "execution_count": 3,
   "metadata": {},
   "outputs": [],
   "source": [
    "from pyod.models.dif import DIF\n",
    "\n",
    "dif_model = DIF()\n",
    "for i in range(3):\n",
    "    dif_model.fit(dataset.X)\n"
   ]
  },
  {
   "cell_type": "code",
   "execution_count": 32,
   "metadata": {},
   "outputs": [],
   "source": [
    "I = ExtendedIsolationForest(1, n_estimators=100, max_depth=30)\n",
    "I.fit(dataset.X)"
   ]
  },
  {
   "cell_type": "code",
   "execution_count": 7,
   "metadata": {},
   "outputs": [
    {
     "data": {
      "text/plain": [
       "6122.52"
      ]
     },
     "execution_count": 7,
     "metadata": {},
     "output_type": "execute_result"
    }
   ],
   "source": [
    "I.avg_number_of_nodes"
   ]
  },
  {
   "cell_type": "code",
   "execution_count": 3,
   "metadata": {},
   "outputs": [
    {
     "name": "stderr",
     "output_type": "stream",
     "text": [
      "0it [00:00, ?it/s]Exception ignored on calling ctypes callback function: <function ExecutionEngine._raw_object_cache_notify at 0x10f944670>\n",
      "Traceback (most recent call last):\n",
      "  File \"/Users/alessio/.virtualenvs/venv/lib/python3.9/site-packages/llvmlite/binding/executionengine.py\", line 171, in _raw_object_cache_notify\n",
      "    def _raw_object_cache_notify(self, data):\n",
      "KeyboardInterrupt: \n",
      "100it [00:41,  2.39it/s]\n",
      "/Users/alessio/Documents/ExIFFI/notebooks/../model_reboot/EIF_reboot.py:300: RuntimeWarning: invalid value encountered in divide\n",
      "  return (outliers_importances/outliers_normals)/(inliers_importances/inliers_normals)\n",
      "100it [00:00, 9632.11it/s]\n",
      "100it [00:00, 1277.63it/s]\n",
      "100it [00:00, 3796.82it/s]\n",
      "100it [00:00, 5438.95it/s]\n",
      "100it [00:00, 2746.51it/s]\n",
      "100it [00:00, 4351.80it/s]\n",
      "100it [00:00, 508.81it/s]\n",
      "100it [00:00, 1126.99it/s]\n",
      "100it [00:00, 1466.19it/s]\n",
      "100it [00:00, 1806.10it/s]\n",
      "100it [00:00, 1344.72it/s]\n",
      "100it [00:00, 752.54it/s]\n",
      "100it [00:00, 507.51it/s]\n",
      "100it [00:00, 1097.63it/s]\n",
      "100it [00:00, 875.82it/s]\n",
      "100it [00:00, 1909.57it/s]\n",
      "100it [00:00, 1411.04it/s]\n",
      "100it [00:00, 570.27it/s]\n",
      "100it [00:00, 472.35it/s]\n",
      "100it [00:00, 527.06it/s]\n",
      "100it [00:00, 719.06it/s]\n",
      "100it [00:00, 406.51it/s]\n",
      "100it [00:00, 670.90it/s]\n",
      "100it [00:00, 298.90it/s]\n"
     ]
    },
    {
     "ename": "KeyboardInterrupt",
     "evalue": "",
     "output_type": "error",
     "traceback": [
      "\u001b[0;31m---------------------------------------------------------------------------\u001b[0m",
      "\u001b[0;31mKeyboardInterrupt\u001b[0m                         Traceback (most recent call last)",
      "Cell \u001b[0;32mIn [3], line 7\u001b[0m\n\u001b[1;32m      5\u001b[0m \u001b[38;5;28;01mfor\u001b[39;00m d \u001b[38;5;129;01min\u001b[39;00m \u001b[38;5;28mrange\u001b[39m(\u001b[38;5;241m100\u001b[39m):\n\u001b[1;32m      6\u001b[0m     I \u001b[38;5;241m=\u001b[39m ExtendedIsolationForest(\u001b[38;5;241m1\u001b[39m, n_estimators\u001b[38;5;241m=\u001b[39m\u001b[38;5;241m100\u001b[39m, max_depth\u001b[38;5;241m=\u001b[39md)\n\u001b[0;32m----> 7\u001b[0m     \u001b[43mI\u001b[49m\u001b[38;5;241;43m.\u001b[39;49m\u001b[43mfit\u001b[49m\u001b[43m(\u001b[49m\u001b[43mdataset\u001b[49m\u001b[38;5;241;43m.\u001b[39;49m\u001b[43mX\u001b[49m\u001b[43m)\u001b[49m\n\u001b[1;32m      8\u001b[0m     precisions\u001b[38;5;241m.\u001b[39mappend(average_precision_score(dataset\u001b[38;5;241m.\u001b[39my, I\u001b[38;5;241m.\u001b[39mpredict(dataset\u001b[38;5;241m.\u001b[39mX)))\n\u001b[1;32m      9\u001b[0m     imp\u001b[38;5;241m=\u001b[39mI\u001b[38;5;241m.\u001b[39mglobal_importances(dataset\u001b[38;5;241m.\u001b[39mX)\n",
      "File \u001b[0;32m~/Documents/ExIFFI/notebooks/../model_reboot/EIF_reboot.py:264\u001b[0m, in \u001b[0;36mExtendedIsolationForest.fit\u001b[0;34m(self, X, locked_dims)\u001b[0m\n\u001b[1;32m    262\u001b[0m     \u001b[38;5;28mself\u001b[39m\u001b[38;5;241m.\u001b[39mmax_depth \u001b[38;5;241m=\u001b[39m \u001b[38;5;28mint\u001b[39m(np\u001b[38;5;241m.\u001b[39mceil(np\u001b[38;5;241m.\u001b[39mlog2(\u001b[38;5;28mself\u001b[39m\u001b[38;5;241m.\u001b[39mmax_samples))\u001b[38;5;241m*\u001b[39m\u001b[38;5;241m2\u001b[39m)\n\u001b[1;32m    263\u001b[0m subsample_size \u001b[38;5;241m=\u001b[39m np\u001b[38;5;241m.\u001b[39mmin((\u001b[38;5;28mself\u001b[39m\u001b[38;5;241m.\u001b[39mmax_samples, \u001b[38;5;28mlen\u001b[39m(X)))\n\u001b[0;32m--> 264\u001b[0m \u001b[38;5;28mself\u001b[39m\u001b[38;5;241m.\u001b[39mtrees \u001b[38;5;241m=\u001b[39m [ExtendedTree(subsample_size, X\u001b[38;5;241m.\u001b[39mshape[\u001b[38;5;241m1\u001b[39m], \u001b[38;5;28mself\u001b[39m\u001b[38;5;241m.\u001b[39mmax_depth, locked_dims\u001b[38;5;241m=\u001b[39mlocked_dims, plus\u001b[38;5;241m=\u001b[39m\u001b[38;5;28mself\u001b[39m\u001b[38;5;241m.\u001b[39mplus)\n\u001b[1;32m    265\u001b[0m               \u001b[38;5;28;01mfor\u001b[39;00m _ \u001b[38;5;129;01min\u001b[39;00m \u001b[38;5;28mrange\u001b[39m(\u001b[38;5;28mself\u001b[39m\u001b[38;5;241m.\u001b[39mn_estimators)]\n\u001b[1;32m    266\u001b[0m \u001b[38;5;28;01mfor\u001b[39;00m T \u001b[38;5;129;01min\u001b[39;00m \u001b[38;5;28mself\u001b[39m\u001b[38;5;241m.\u001b[39mtrees:\n\u001b[1;32m    267\u001b[0m     T\u001b[38;5;241m.\u001b[39mfit(X[np\u001b[38;5;241m.\u001b[39mrandom\u001b[38;5;241m.\u001b[39mrandint(\u001b[38;5;28mlen\u001b[39m(X), size\u001b[38;5;241m=\u001b[39msubsample_size)])\n",
      "File \u001b[0;32m~/Documents/ExIFFI/notebooks/../model_reboot/EIF_reboot.py:264\u001b[0m, in \u001b[0;36m<listcomp>\u001b[0;34m(.0)\u001b[0m\n\u001b[1;32m    262\u001b[0m     \u001b[38;5;28mself\u001b[39m\u001b[38;5;241m.\u001b[39mmax_depth \u001b[38;5;241m=\u001b[39m \u001b[38;5;28mint\u001b[39m(np\u001b[38;5;241m.\u001b[39mceil(np\u001b[38;5;241m.\u001b[39mlog2(\u001b[38;5;28mself\u001b[39m\u001b[38;5;241m.\u001b[39mmax_samples))\u001b[38;5;241m*\u001b[39m\u001b[38;5;241m2\u001b[39m)\n\u001b[1;32m    263\u001b[0m subsample_size \u001b[38;5;241m=\u001b[39m np\u001b[38;5;241m.\u001b[39mmin((\u001b[38;5;28mself\u001b[39m\u001b[38;5;241m.\u001b[39mmax_samples, \u001b[38;5;28mlen\u001b[39m(X)))\n\u001b[0;32m--> 264\u001b[0m \u001b[38;5;28mself\u001b[39m\u001b[38;5;241m.\u001b[39mtrees \u001b[38;5;241m=\u001b[39m [\u001b[43mExtendedTree\u001b[49m\u001b[43m(\u001b[49m\u001b[43msubsample_size\u001b[49m\u001b[43m,\u001b[49m\u001b[43m \u001b[49m\u001b[43mX\u001b[49m\u001b[38;5;241;43m.\u001b[39;49m\u001b[43mshape\u001b[49m\u001b[43m[\u001b[49m\u001b[38;5;241;43m1\u001b[39;49m\u001b[43m]\u001b[49m\u001b[43m,\u001b[49m\u001b[43m \u001b[49m\u001b[38;5;28;43mself\u001b[39;49m\u001b[38;5;241;43m.\u001b[39;49m\u001b[43mmax_depth\u001b[49m\u001b[43m,\u001b[49m\u001b[43m \u001b[49m\u001b[43mlocked_dims\u001b[49m\u001b[38;5;241;43m=\u001b[39;49m\u001b[43mlocked_dims\u001b[49m\u001b[43m,\u001b[49m\u001b[43m \u001b[49m\u001b[43mplus\u001b[49m\u001b[38;5;241;43m=\u001b[39;49m\u001b[38;5;28;43mself\u001b[39;49m\u001b[38;5;241;43m.\u001b[39;49m\u001b[43mplus\u001b[49m\u001b[43m)\u001b[49m\n\u001b[1;32m    265\u001b[0m               \u001b[38;5;28;01mfor\u001b[39;00m _ \u001b[38;5;129;01min\u001b[39;00m \u001b[38;5;28mrange\u001b[39m(\u001b[38;5;28mself\u001b[39m\u001b[38;5;241m.\u001b[39mn_estimators)]\n\u001b[1;32m    266\u001b[0m \u001b[38;5;28;01mfor\u001b[39;00m T \u001b[38;5;129;01min\u001b[39;00m \u001b[38;5;28mself\u001b[39m\u001b[38;5;241m.\u001b[39mtrees:\n\u001b[1;32m    267\u001b[0m     T\u001b[38;5;241m.\u001b[39mfit(X[np\u001b[38;5;241m.\u001b[39mrandom\u001b[38;5;241m.\u001b[39mrandint(\u001b[38;5;28mlen\u001b[39m(X), size\u001b[38;5;241m=\u001b[39msubsample_size)])\n",
      "File \u001b[0;32m~/.virtualenvs/venv/lib/python3.9/site-packages/numba/experimental/jitclass/base.py:124\u001b[0m, in \u001b[0;36mJitClassType.__call__\u001b[0;34m(cls, *args, **kwargs)\u001b[0m\n\u001b[1;32m    122\u001b[0m bind \u001b[38;5;241m=\u001b[39m \u001b[38;5;28mcls\u001b[39m\u001b[38;5;241m.\u001b[39m_ctor_sig\u001b[38;5;241m.\u001b[39mbind(\u001b[38;5;28;01mNone\u001b[39;00m, \u001b[38;5;241m*\u001b[39margs, \u001b[38;5;241m*\u001b[39m\u001b[38;5;241m*\u001b[39mkwargs)\n\u001b[1;32m    123\u001b[0m bind\u001b[38;5;241m.\u001b[39mapply_defaults()\n\u001b[0;32m--> 124\u001b[0m \u001b[38;5;28;01mreturn\u001b[39;00m \u001b[38;5;28;43mcls\u001b[39;49m\u001b[38;5;241;43m.\u001b[39;49m\u001b[43m_ctor\u001b[49m\u001b[43m(\u001b[49m\u001b[38;5;241;43m*\u001b[39;49m\u001b[43mbind\u001b[49m\u001b[38;5;241;43m.\u001b[39;49m\u001b[43margs\u001b[49m\u001b[43m[\u001b[49m\u001b[38;5;241;43m1\u001b[39;49m\u001b[43m:\u001b[49m\u001b[43m]\u001b[49m\u001b[43m,\u001b[49m\u001b[43m \u001b[49m\u001b[38;5;241;43m*\u001b[39;49m\u001b[38;5;241;43m*\u001b[39;49m\u001b[43mbind\u001b[49m\u001b[38;5;241;43m.\u001b[39;49m\u001b[43mkwargs\u001b[49m\u001b[43m)\u001b[49m\n",
      "\u001b[0;31mKeyboardInterrupt\u001b[0m: "
     ]
    }
   ],
   "source": [
    "\n",
    "from sklearn.metrics import average_precision_score\n",
    "precisions = []\n",
    "deviations = []\n",
    "values_=[]\n",
    "for d in range(100):\n",
    "    I = ExtendedIsolationForest(1, n_estimators=100, max_depth=d)\n",
    "    I.fit(dataset.X)\n",
    "    precisions.append(average_precision_score(dataset.y, I.predict(dataset.X)))\n",
    "    imp=I.global_importances(dataset.X)\n",
    "    deviations.append(np.std(imp))\n",
    "    values_.append(imp)\n"
   ]
  },
  {
   "cell_type": "code",
   "execution_count": 7,
   "metadata": {},
   "outputs": [
    {
     "data": {
      "image/png": "[encoded data removed]",
      "text/plain": [
       "<Figure size 640x480 with 1 Axes>"
      ]
     },
     "metadata": {},
     "output_type": "display_data"
    }
   ],
   "source": [
    "import matplotlib.pyplot as plt\n",
    "# plt.plot(precisions)\n",
    "# plt.plot(deviations)\n",
    "for i in range(12,13):\n",
    "    plt.plot([x[i] for x in values_[0:100]],label=str(i))\n",
    "plt.legend()\n",
    "plt.show()"
   ]
  },
  {
   "cell_type": "code",
   "execution_count": 34,
   "metadata": {},
   "outputs": [
    {
     "name": "stderr",
     "output_type": "stream",
     "text": [
      "0it [00:00, ?it/s]"
     ]
    },
    {
     "name": "stderr",
     "output_type": "stream",
     "text": [
      "100it [00:00, 817.12it/s]\n"
     ]
    },
    {
     "name": "stdout",
     "output_type": "stream",
     "text": [
      "[1.37616069 1.45433575 1.41724674 1.45072977 1.38055283 1.43747219\n",
      " 1.4017655  1.37982971 1.4389898  1.50713838 1.38460577 1.42363938\n",
      " 1.41836845]\n"
     ]
    },
    {
     "name": "stderr",
     "output_type": "stream",
     "text": [
      "100it [00:00, 998.09it/s]\n"
     ]
    },
    {
     "data": {
      "text/plain": [
       "0.036240194782634044"
      ]
     },
     "execution_count": 34,
     "metadata": {},
     "output_type": "execute_result"
    }
   ],
   "source": [
    "print(12_)\n",
    "np.std(I.global_importances(dataset.X))"
   ]
  },
  {
   "cell_type": "code",
   "execution_count": 8,
   "metadata": {},
   "outputs": [
    {
     "data": {
      "text/plain": [
       "array([0.32370204, 0.31020521, 0.32663136, 0.32455299, 0.34409728,\n",
       "       0.3088488 , 0.37344515, 0.31044738, 0.31257767, 0.31348678,\n",
       "       0.35250615, 0.38477286, 0.34827564, 0.3286497 , 0.38747818,\n",
       "       0.34435141, 0.30281624, 0.34978805, 0.35210064, 0.35222281,\n",
       "       0.41087092, 0.30916565, 0.37614845, 0.33706403, 0.38068482,\n",
       "       0.39674176, 0.32456198, 0.34921915, 0.29856177, 0.31184235,\n",
       "       0.31806577, 0.33128089, 0.34384877, 0.32186876, 0.37856918,\n",
       "       0.36606445, 0.32664802, 0.328958  , 0.32927542, 0.32399297,\n",
       "       0.31438975, 0.34501336, 0.34010603, 0.37228866, 0.34541972,\n",
       "       0.38378017, 0.32408241, 0.39845287, 0.32025195, 0.35266276,\n",
       "       0.34794084, 0.35138621, 0.33568084, 0.31300203, 0.30546317,\n",
       "       0.32215494, 0.39602   , 0.31326639, 0.32534448, 0.31381847,\n",
       "       0.33658528, 0.37523751, 0.328167  , 0.37750206, 0.30932106,\n",
       "       0.3089411 , 0.39619262, 0.32735377, 0.30736825, 0.31033868,\n",
       "       0.30964242, 0.32920774, 0.36137896, 0.31275649, 0.32881433,\n",
       "       0.3809316 , 0.30660528, 0.31425726, 0.37090201, 0.30423857,\n",
       "       0.29620758, 0.36669808, 0.35514016, 0.35167476, 0.37883182,\n",
       "       0.37685584, 0.38847814, 0.34631374, 0.38064807, 0.36272397,\n",
       "       0.33968063, 0.33798689, 0.31126659, 0.33167591, 0.31489983,\n",
       "       0.34134942, 0.32191988, 0.34503922, 0.33332058, 0.33108559,\n",
       "       0.34679206, 0.37535885, 0.3801897 , 0.36480509, 0.38521564,\n",
       "       0.35316473, 0.38626568, 0.33952177, 0.38530952, 0.36684217,\n",
       "       0.35920826, 0.33416549, 0.32936495, 0.36961114, 0.30286237,\n",
       "       0.30955012, 0.34027748, 0.31011517, 0.30473421, 0.30577468,\n",
       "       0.35012036, 0.30696476, 0.33743656, 0.31901551, 0.34037966,\n",
       "       0.31922141, 0.33375451, 0.35074507, 0.35691647])"
      ]
     },
     "execution_count": 8,
     "metadata": {},
     "output_type": "execute_result"
    }
   ],
   "source": [
    "dif_model.decision_scores_"
   ]
  },
  {
   "cell_type": "code",
   "execution_count": 13,
   "metadata": {},
   "outputs": [],
   "source": [
    "from utils_reboot.utils import *\n",
    "path_experiment_matrices = \"/Users/alessio/Documents/ExIFFI/experiments/results/wine/experiments/contamination/precisions\"\n",
    "precisions = open_element(get_most_recent_file(path_experiment_matrices))"
   ]
  },
  {
   "cell_type": "code",
   "execution_count": 17,
   "metadata": {},
   "outputs": [
    {
     "data": {
      "text/plain": [
       "(11, 10, 13)"
      ]
     },
     "execution_count": 17,
     "metadata": {},
     "output_type": "execute_result"
    }
   ],
   "source": [
    "precisions[1].shape"
   ]
  },
  {
   "cell_type": "code",
   "execution_count": 4,
   "metadata": {},
   "outputs": [
    {
     "name": "stdout",
     "output_type": "stream",
     "text": [
      "X_train shape: (119, 13)\n",
      "X_test shape: (10, 13)\n",
      "y_train shape: (119,)\n",
      "y_test shape: (10,)\n"
     ]
    }
   ],
   "source": [
    "X_train,X_test,y_train,y_test = dataset.partition_data(dataset.X,dataset.y)\n",
    "print(f'X_train shape: {X_train.shape}')\n",
    "print(f'X_test shape: {X_test.shape}')\n",
    "print(f'y_train shape: {y_train.shape}')\n",
    "print(f'y_test shape: {y_test.shape}')"
   ]
  },
  {
   "cell_type": "markdown",
   "metadata": {},
   "source": [
    "### `pre_process` with split"
   ]
  },
  {
   "cell_type": "code",
   "execution_count": 14,
   "metadata": {},
   "outputs": [
    {
     "name": "stdout",
     "output_type": "stream",
     "text": [
      "X_train shape: (103, 13)\n",
      "X_test shape: (129, 13)\n",
      "y shape: (129,)\n",
      "X shape: (129, 13)\n"
     ]
    }
   ],
   "source": [
    "dataset.split_dataset()\n",
    "dataset.pre_process()\n",
    "print(f'X_train shape: {dataset.X_train.shape}')\n",
    "print(f'X_test shape: {dataset.X_test.shape}')\n",
    "print(f'y shape: {dataset.y.shape}')\n",
    "print(f'X shape: {dataset.X.shape}')"
   ]
  },
  {
   "cell_type": "code",
   "execution_count": 15,
   "metadata": {},
   "outputs": [],
   "source": [
    "X_test_split=dataset.X_test"
   ]
  },
  {
   "cell_type": "markdown",
   "metadata": {},
   "source": [
    "### `pre_process` without `split`"
   ]
  },
  {
   "cell_type": "code",
   "execution_count": 16,
   "metadata": {},
   "outputs": [
    {
     "name": "stdout",
     "output_type": "stream",
     "text": [
      "X_train shape: (119, 13)\n",
      "X_test shape: (129, 13)\n",
      "y shape: (129,)\n",
      "X shape: (129, 13)\n"
     ]
    }
   ],
   "source": [
    "dataset.split_dataset()\n",
    "dataset.pre_process(split=False)\n",
    "print(f'X_train shape: {dataset.X_train.shape}')\n",
    "print(f'X_test shape: {dataset.X_test.shape}')\n",
    "print(f'y shape: {dataset.y.shape}')\n",
    "print(f'X shape: {dataset.X.shape}')"
   ]
  },
  {
   "cell_type": "code",
   "execution_count": 17,
   "metadata": {},
   "outputs": [],
   "source": [
    "X_test_no_split=dataset.X_test"
   ]
  },
  {
   "cell_type": "code",
   "execution_count": 20,
   "metadata": {},
   "outputs": [
    {
     "data": {
      "text/plain": [
       "array([[False, False, False, ..., False, False, False],\n",
       "       [False, False, False, ..., False, False, False],\n",
       "       [False, False, False, ..., False, False, False],\n",
       "       ...,\n",
       "       [False, False, False, ..., False, False, False],\n",
       "       [False, False, False, ..., False, False, False],\n",
       "       [False, False, False, ..., False, False, False]])"
      ]
     },
     "execution_count": 20,
     "metadata": {},
     "output_type": "execute_result"
    }
   ],
   "source": [
    "compare=X_test_split==X_test_no_split\n",
    "compare"
   ]
  },
  {
   "cell_type": "code",
   "execution_count": 21,
   "metadata": {},
   "outputs": [
    {
     "data": {
      "text/plain": [
       "0.6446910825712454"
      ]
     },
     "execution_count": 21,
     "metadata": {},
     "output_type": "execute_result"
    }
   ],
   "source": [
    "X_test_split[0,0]"
   ]
  },
  {
   "cell_type": "code",
   "execution_count": 22,
   "metadata": {},
   "outputs": [
    {
     "data": {
      "text/plain": [
       "0.850308189792633"
      ]
     },
     "execution_count": 22,
     "metadata": {},
     "output_type": "execute_result"
    }
   ],
   "source": [
    "X_test_no_split[0,0]"
   ]
  },
  {
   "cell_type": "code",
   "execution_count": 6,
   "metadata": {},
   "outputs": [
    {
     "name": "stdout",
     "output_type": "stream",
     "text": [
      "X_train not loaded. Load it running split_dataset() first\n"
     ]
    },
    {
     "data": {
      "text/plain": [
       "array([1.45570221, 0.97099082, 1.37818928, 1.7536564 , 1.49118793,\n",
       "       1.51978639, 1.63866458, 1.07169841, 1.48211212, 1.10904872,\n",
       "       1.03238004, 1.20685246, 1.66380843])"
      ]
     },
     "execution_count": 7,
     "metadata": {},
     "output_type": "execute_result"
    }
   ],
   "source": [
    "dataset.pre_process(X_train,X_test,split=False)"
   ]
  },
  {
   "cell_type": "code",
   "execution_count": 13,
   "metadata": {},
   "outputs": [
    {
     "name": "stderr",
     "output_type": "stream",
     "text": [
      "100it [00:00, 4527.14it/s]\n"
     ]
    },
    {
     "data": {
      "image/png": "[encoded data removed]",
      "text/plain": [
       "(129, 13)"
      ]
     },
     "execution_count": 13,
     "metadata": {},
     "output_type": "execute_result"
    }
   ],
   "source": [
    "dataset.X.shape"
   ]
  },
  {
   "cell_type": "markdown",
   "metadata": {},
   "source": [
    "## `X_train,y_train`"
   ]
  },
  {
   "cell_type": "code",
   "execution_count": 11,
   "metadata": {},
   "outputs": [],
   "source": [
    "dataset.split_dataset()"
   ]
  },
  {
   "cell_type": "code",
   "execution_count": 12,
   "metadata": {},
   "outputs": [
    {
     "name": "stdout",
     "output_type": "stream",
     "text": [
      "X_train shape: (93, 13)\n",
      "X_test shape: (10, 13)\n",
      "y_train shape: (93,)\n",
      "y_test shape: (10,)\n"
     ]
    }
   ],
   "source": [
    "X_train1,X_test1,y_train1,y_test1 = dataset.partition_data(dataset.X_train,dataset.y_train)\n",
    "print(f'X_train shape: {X_train1.shape}')\n",
    "print(f'X_test shape: {X_test1.shape}')\n",
    "print(f'y_train shape: {y_train1.shape}')\n",
    "print(f'y_test shape: {y_test1.shape}')"
   ]
  },
  {
   "cell_type": "code",
   "execution_count": 13,
   "metadata": {},
   "outputs": [],
   "source": [
    "X_train,X_test,X,y=dataset.pre_process(X_train,X_test)"
   ]
  },
  {
   "cell_type": "markdown",
   "metadata": {},
   "source": [
    "## Feature Names "
   ]
  },
  {
   "cell_type": "markdown",
   "metadata": {},
   "source": [
    "### `pima`"
   ]
  },
  {
   "cell_type": "code",
   "execution_count": 10,
   "metadata": {},
   "outputs": [
    {
     "data": {
      "text/html": [
       "<div>\n",
       "<style scoped>\n",
       "    .dataframe tbody tr th:only-of-type {\n",
       "        vertical-align: middle;\n",
       "    }\n",
       "\n",
       "    .dataframe tbody tr th {\n",
       "        vertical-align: top;\n",
       "    }\n",
       "\n",
       "    .dataframe thead th {\n",
       "        text-align: right;\n",
       "    }\n",
       "</style>\n",
       "<table border=\"1\" class=\"dataframe\">\n",
       "  <thead>\n",
       "    <tr style=\"text-align: right;\">\n",
       "      <th></th>\n",
       "      <th>Pregnancies</th>\n",
       "      <th>Glucose</th>\n",
       "      <th>BloodPressure</th>\n",
       "      <th>SkinThickness</th>\n",
       "      <th>Insulin</th>\n",
       "      <th>BMI</th>\n",
       "      <th>DiabetesPedigreeFunction</th>\n",
       "      <th>Age</th>\n",
       "      <th>Outcome</th>\n",
       "    </tr>\n",
       "  </thead>\n",
       "  <tbody>\n",
       "    <tr>\n",
       "      <th>0</th>\n",
       "      <td>6</td>\n",
       "      <td>148</td>\n",
       "      <td>72</td>\n",
       "      <td>35</td>\n",
       "      <td>0</td>\n",
       "      <td>33.6</td>\n",
       "      <td>0.627</td>\n",
       "      <td>50</td>\n",
       "      <td>1</td>\n",
       "    </tr>\n",
       "    <tr>\n",
       "      <th>1</th>\n",
       "      <td>1</td>\n",
       "      <td>85</td>\n",
       "      <td>66</td>\n",
       "      <td>29</td>\n",
       "      <td>0</td>\n",
       "      <td>26.6</td>\n",
       "      <td>0.351</td>\n",
       "      <td>31</td>\n",
       "      <td>0</td>\n",
       "    </tr>\n",
       "    <tr>\n",
       "      <th>2</th>\n",
       "      <td>8</td>\n",
       "      <td>183</td>\n",
       "      <td>64</td>\n",
       "      <td>0</td>\n",
       "      <td>0</td>\n",
       "      <td>23.3</td>\n",
       "      <td>0.672</td>\n",
       "      <td>32</td>\n",
       "      <td>1</td>\n",
       "    </tr>\n",
       "    <tr>\n",
       "      <th>3</th>\n",
       "      <td>1</td>\n",
       "      <td>89</td>\n",
       "      <td>66</td>\n",
       "      <td>23</td>\n",
       "      <td>94</td>\n",
       "      <td>28.1</td>\n",
       "      <td>0.167</td>\n",
       "      <td>21</td>\n",
       "      <td>0</td>\n",
       "    </tr>\n",
       "    <tr>\n",
       "      <th>4</th>\n",
       "      <td>0</td>\n",
       "      <td>137</td>\n",
       "      <td>40</td>\n",
       "      <td>35</td>\n",
       "      <td>168</td>\n",
       "      <td>43.1</td>\n",
       "      <td>2.288</td>\n",
       "      <td>33</td>\n",
       "      <td>1</td>\n",
       "    </tr>\n",
       "  </tbody>\n",
       "</table>\n",
       "</div>"
      ],
      "text/plain": [
       "   Pregnancies  Glucose  BloodPressure  SkinThickness  Insulin   BMI  \\\n",
       "0            6      148             72             35        0  33.6   \n",
       "1            1       85             66             29        0  26.6   \n",
       "2            8      183             64              0        0  23.3   \n",
       "3            1       89             66             23       94  28.1   \n",
       "4            0      137             40             35      168  43.1   \n",
       "\n",
       "   DiabetesPedigreeFunction  Age  Outcome  \n",
       "0                     0.627   50        1  \n",
       "1                     0.351   31        0  \n",
       "2                     0.672   32        1  \n",
       "3                     0.167   21        0  \n",
       "4                     2.288   33        1  "
      ]
     },
     "execution_count": 10,
     "metadata": {},
     "output_type": "execute_result"
    }
   ],
   "source": [
    "data=pd.read_csv('../data/real/pima.csv')\n",
    "data.head()"
   ]
  },
  {
   "cell_type": "code",
   "execution_count": 11,
   "metadata": {},
   "outputs": [
    {
     "data": {
      "text/plain": [
       "Index(['Pregnancies', 'Glucose', 'BloodPressure', 'SkinThickness', 'Insulin',\n",
       "       'BMI', 'DiabetesPedigreeFunction', 'Age', 'Outcome'],\n",
       "      dtype='object')"
      ]
     },
     "execution_count": 11,
     "metadata": {},
     "output_type": "execute_result"
    }
   ],
   "source": [
    "data.columns"
   ]
  },
  {
   "cell_type": "markdown",
   "metadata": {},
   "source": [
    "### `moodify`"
   ]
  },
  {
   "cell_type": "code",
   "execution_count": 12,
   "metadata": {},
   "outputs": [
    {
     "data": {
      "text/html": [
       "<div>\n",
       "<style scoped>\n",
       "    .dataframe tbody tr th:only-of-type {\n",
       "        vertical-align: middle;\n",
       "    }\n",
       "\n",
       "    .dataframe tbody tr th {\n",
       "        vertical-align: top;\n",
       "    }\n",
       "\n",
       "    .dataframe thead th {\n",
       "        text-align: right;\n",
       "    }\n",
       "</style>\n",
       "<table border=\"1\" class=\"dataframe\">\n",
       "  <thead>\n",
       "    <tr style=\"text-align: right;\">\n",
       "      <th></th>\n",
       "      <th>Unnamed: 0</th>\n",
       "      <th>duration (ms)</th>\n",
       "      <th>danceability</th>\n",
       "      <th>energy</th>\n",
       "      <th>loudness</th>\n",
       "      <th>speechiness</th>\n",
       "      <th>acousticness</th>\n",
       "      <th>instrumentalness</th>\n",
       "      <th>liveness</th>\n",
       "      <th>valence</th>\n",
       "      <th>tempo</th>\n",
       "      <th>spec_rate</th>\n",
       "      <th>Target</th>\n",
       "    </tr>\n",
       "  </thead>\n",
       "  <tbody>\n",
       "    <tr>\n",
       "      <th>0</th>\n",
       "      <td>0</td>\n",
       "      <td>195000.0</td>\n",
       "      <td>0.611</td>\n",
       "      <td>0.614</td>\n",
       "      <td>-8.815</td>\n",
       "      <td>0.0672</td>\n",
       "      <td>0.0169</td>\n",
       "      <td>0.000794</td>\n",
       "      <td>0.7530</td>\n",
       "      <td>0.520</td>\n",
       "      <td>128.050</td>\n",
       "      <td>3.446154e-07</td>\n",
       "      <td>0</td>\n",
       "    </tr>\n",
       "    <tr>\n",
       "      <th>1</th>\n",
       "      <td>1</td>\n",
       "      <td>194641.0</td>\n",
       "      <td>0.638</td>\n",
       "      <td>0.781</td>\n",
       "      <td>-6.848</td>\n",
       "      <td>0.0285</td>\n",
       "      <td>0.0118</td>\n",
       "      <td>0.009530</td>\n",
       "      <td>0.3490</td>\n",
       "      <td>0.250</td>\n",
       "      <td>122.985</td>\n",
       "      <td>1.464234e-07</td>\n",
       "      <td>0</td>\n",
       "    </tr>\n",
       "    <tr>\n",
       "      <th>2</th>\n",
       "      <td>2</td>\n",
       "      <td>217573.0</td>\n",
       "      <td>0.560</td>\n",
       "      <td>0.810</td>\n",
       "      <td>-8.029</td>\n",
       "      <td>0.0872</td>\n",
       "      <td>0.0071</td>\n",
       "      <td>0.000008</td>\n",
       "      <td>0.2410</td>\n",
       "      <td>0.247</td>\n",
       "      <td>170.044</td>\n",
       "      <td>4.007850e-07</td>\n",
       "      <td>0</td>\n",
       "    </tr>\n",
       "    <tr>\n",
       "      <th>3</th>\n",
       "      <td>3</td>\n",
       "      <td>443478.0</td>\n",
       "      <td>0.525</td>\n",
       "      <td>0.699</td>\n",
       "      <td>-4.571</td>\n",
       "      <td>0.0353</td>\n",
       "      <td>0.0178</td>\n",
       "      <td>0.000088</td>\n",
       "      <td>0.0888</td>\n",
       "      <td>0.199</td>\n",
       "      <td>92.011</td>\n",
       "      <td>7.959809e-08</td>\n",
       "      <td>0</td>\n",
       "    </tr>\n",
       "    <tr>\n",
       "      <th>4</th>\n",
       "      <td>4</td>\n",
       "      <td>225862.0</td>\n",
       "      <td>0.367</td>\n",
       "      <td>0.771</td>\n",
       "      <td>-5.863</td>\n",
       "      <td>0.1060</td>\n",
       "      <td>0.3650</td>\n",
       "      <td>0.000001</td>\n",
       "      <td>0.0965</td>\n",
       "      <td>0.163</td>\n",
       "      <td>115.917</td>\n",
       "      <td>4.693131e-07</td>\n",
       "      <td>0</td>\n",
       "    </tr>\n",
       "  </tbody>\n",
       "</table>\n",
       "</div>"
      ],
      "text/plain": [
       "   Unnamed: 0  duration (ms)  danceability  energy  loudness  speechiness  \\\n",
       "0           0       195000.0         0.611   0.614    -8.815       0.0672   \n",
       "1           1       194641.0         0.638   0.781    -6.848       0.0285   \n",
       "2           2       217573.0         0.560   0.810    -8.029       0.0872   \n",
       "3           3       443478.0         0.525   0.699    -4.571       0.0353   \n",
       "4           4       225862.0         0.367   0.771    -5.863       0.1060   \n",
       "\n",
       "   acousticness  instrumentalness  liveness  valence    tempo     spec_rate  \\\n",
       "0        0.0169          0.000794    0.7530    0.520  128.050  3.446154e-07   \n",
       "1        0.0118          0.009530    0.3490    0.250  122.985  1.464234e-07   \n",
       "2        0.0071          0.000008    0.2410    0.247  170.044  4.007850e-07   \n",
       "3        0.0178          0.000088    0.0888    0.199   92.011  7.959809e-08   \n",
       "4        0.3650          0.000001    0.0965    0.163  115.917  4.693131e-07   \n",
       "\n",
       "   Target  \n",
       "0       0  \n",
       "1       0  \n",
       "2       0  \n",
       "3       0  \n",
       "4       0  "
      ]
     },
     "execution_count": 12,
     "metadata": {},
     "output_type": "execute_result"
    }
   ],
   "source": [
    "data=pd.read_csv('../data/real/moodify.csv')\n",
    "data.head()"
   ]
  },
  {
   "cell_type": "code",
   "execution_count": 13,
   "metadata": {},
   "outputs": [
    {
     "data": {
      "text/plain": [
       "Index(['Unnamed: 0', 'duration (ms)', 'danceability', 'energy', 'loudness',\n",
       "       'speechiness', 'acousticness', 'instrumentalness', 'liveness',\n",
       "       'valence', 'tempo', 'spec_rate', 'Target'],\n",
       "      dtype='object')"
      ]
     },
     "execution_count": 13,
     "metadata": {},
     "output_type": "execute_result"
    }
   ],
   "source": [
    "data.columns"
   ]
  },
  {
   "cell_type": "markdown",
   "metadata": {},
   "source": [
    "### `diabetes`"
   ]
  },
  {
   "cell_type": "code",
   "execution_count": 14,
   "metadata": {},
   "outputs": [
    {
     "data": {
      "text/html": [
       "<div>\n",
       "<style scoped>\n",
       "    .dataframe tbody tr th:only-of-type {\n",
       "        vertical-align: middle;\n",
       "    }\n",
       "\n",
       "    .dataframe tbody tr th {\n",
       "        vertical-align: top;\n",
       "    }\n",
       "\n",
       "    .dataframe thead th {\n",
       "        text-align: right;\n",
       "    }\n",
       "</style>\n",
       "<table border=\"1\" class=\"dataframe\">\n",
       "  <thead>\n",
       "    <tr style=\"text-align: right;\">\n",
       "      <th></th>\n",
       "      <th>Unnamed: 0</th>\n",
       "      <th>age</th>\n",
       "      <th>bmi</th>\n",
       "      <th>HbA1c_level</th>\n",
       "      <th>blood_glucose_level</th>\n",
       "      <th>Target</th>\n",
       "    </tr>\n",
       "  </thead>\n",
       "  <tbody>\n",
       "    <tr>\n",
       "      <th>0</th>\n",
       "      <td>0</td>\n",
       "      <td>80.0</td>\n",
       "      <td>25.19</td>\n",
       "      <td>6.6</td>\n",
       "      <td>140</td>\n",
       "      <td>0</td>\n",
       "    </tr>\n",
       "    <tr>\n",
       "      <th>1</th>\n",
       "      <td>1</td>\n",
       "      <td>54.0</td>\n",
       "      <td>27.32</td>\n",
       "      <td>6.6</td>\n",
       "      <td>80</td>\n",
       "      <td>0</td>\n",
       "    </tr>\n",
       "    <tr>\n",
       "      <th>2</th>\n",
       "      <td>2</td>\n",
       "      <td>28.0</td>\n",
       "      <td>27.32</td>\n",
       "      <td>5.7</td>\n",
       "      <td>158</td>\n",
       "      <td>0</td>\n",
       "    </tr>\n",
       "    <tr>\n",
       "      <th>3</th>\n",
       "      <td>3</td>\n",
       "      <td>36.0</td>\n",
       "      <td>23.45</td>\n",
       "      <td>5.0</td>\n",
       "      <td>155</td>\n",
       "      <td>0</td>\n",
       "    </tr>\n",
       "    <tr>\n",
       "      <th>4</th>\n",
       "      <td>4</td>\n",
       "      <td>76.0</td>\n",
       "      <td>20.14</td>\n",
       "      <td>4.8</td>\n",
       "      <td>155</td>\n",
       "      <td>0</td>\n",
       "    </tr>\n",
       "  </tbody>\n",
       "</table>\n",
       "</div>"
      ],
      "text/plain": [
       "   Unnamed: 0   age    bmi  HbA1c_level  blood_glucose_level  Target\n",
       "0           0  80.0  25.19          6.6                  140       0\n",
       "1           1  54.0  27.32          6.6                   80       0\n",
       "2           2  28.0  27.32          5.7                  158       0\n",
       "3           3  36.0  23.45          5.0                  155       0\n",
       "4           4  76.0  20.14          4.8                  155       0"
      ]
     },
     "execution_count": 14,
     "metadata": {},
     "output_type": "execute_result"
    }
   ],
   "source": [
    "data=pd.read_csv('../data/real/diabetes.csv')\n",
    "data.head()"
   ]
  },
  {
   "cell_type": "code",
   "execution_count": 15,
   "metadata": {},
   "outputs": [
    {
     "data": {
      "text/plain": [
       "Index(['Unnamed: 0', 'age', 'bmi', 'HbA1c_level', 'blood_glucose_level',\n",
       "       'Target'],\n",
       "      dtype='object')"
      ]
     },
     "execution_count": 15,
     "metadata": {},
     "output_type": "execute_result"
    }
   ],
   "source": [
    "data.columns"
   ]
  },
  {
   "cell_type": "markdown",
   "metadata": {},
   "source": [
    "## Test `feature_ names`"
   ]
  },
  {
   "cell_type": "code",
   "execution_count": 4,
   "metadata": {},
   "outputs": [
    {
     "data": {
      "text/plain": [
       "array([ 0,  1,  2,  3,  4,  5,  6,  7,  8,  9, 10, 11, 12])"
      ]
     },
     "execution_count": 4,
     "metadata": {},
     "output_type": "execute_result"
    }
   ],
   "source": [
    "dataset = Dataset(\"wine\", path = \"../data/real/\")\n",
    "dataset.feature_names"
   ]
  },
  {
   "cell_type": "code",
   "execution_count": 5,
   "metadata": {},
   "outputs": [
    {
     "data": {
      "text/plain": [
       "['Pregnancies',\n",
       " 'Glucose',\n",
       " 'BloodPressure',\n",
       " 'SkinThickness',\n",
       " 'Insulin',\n",
       " 'BMI',\n",
       " 'DiabetesPedigreeFunction',\n",
       " 'Age']"
      ]
     },
     "execution_count": 5,
     "metadata": {},
     "output_type": "execute_result"
    }
   ],
   "source": [
    "dataset = Dataset(\"pima\", path = \"../data/real/\")\n",
    "dataset.feature_names"
   ]
  },
  {
   "cell_type": "code",
   "execution_count": 6,
   "metadata": {},
   "outputs": [
    {
     "data": {
      "text/plain": [
       "['duration (ms)',\n",
       " 'danceability',\n",
       " 'energy',\n",
       " 'loudness',\n",
       " 'speechiness',\n",
       " 'acousticness',\n",
       " 'instrumentalness',\n",
       " 'liveness',\n",
       " 'valence',\n",
       " 'tempo',\n",
       " 'spec_rate']"
      ]
     },
     "execution_count": 6,
     "metadata": {},
     "output_type": "execute_result"
    }
   ],
   "source": [
    "dataset = Dataset(\"moodify\", path = \"../data/real/\")\n",
    "dataset.feature_names"
   ]
  },
  {
   "cell_type": "code",
   "execution_count": 7,
   "metadata": {},
   "outputs": [
    {
     "data": {
      "text/plain": [
       "['age', 'bmi', 'HbA1c_level', 'blood_glucose_level']"
      ]
     },
     "execution_count": 7,
     "metadata": {},
     "output_type": "execute_result"
    }
   ],
   "source": [
    "dataset = Dataset(\"diabetes\", path = \"../data/real/\")\n",
    "dataset.feature_names"
   ]
  },
  {
   "cell_type": "markdown",
   "metadata": {},
   "source": [
    "## Test `performance` function"
   ]
  },
  {
   "cell_type": "code",
   "execution_count": 3,
   "metadata": {},
   "outputs": [],
   "source": [
    "dataset = Dataset(\"wine\", path = \"../data/real/\")\n",
    "dataset.drop_duplicates()"
   ]
  },
  {
   "cell_type": "code",
   "execution_count": 4,
   "metadata": {},
   "outputs": [],
   "source": [
    "dataset.split_dataset()\n",
    "dataset.pre_process()"
   ]
  },
  {
   "cell_type": "markdown",
   "metadata": {},
   "source": [
    "### `EIF+`"
   ]
  },
  {
   "cell_type": "code",
   "execution_count": 4,
   "metadata": {},
   "outputs": [],
   "source": [
    "I=ExtendedIsolationForest(True,n_estimators=100)\n",
    "I.fit(dataset.X_train)"
   ]
  },
  {
   "cell_type": "code",
   "execution_count": 5,
   "metadata": {},
   "outputs": [
    {
     "data": {
      "text/plain": [
       "(129,)"
      ]
     },
     "execution_count": 5,
     "metadata": {},
     "output_type": "execute_result"
    }
   ],
   "source": [
    "dataset.y.shape"
   ]
  },
  {
   "cell_type": "code",
   "execution_count": 20,
   "metadata": {},
   "outputs": [
    {
     "data": {
      "text/plain": [
       "(129,)"
      ]
     },
     "execution_count": 20,
     "metadata": {},
     "output_type": "execute_result"
    }
   ],
   "source": [
    "y_pred=np.array(I._predict(dataset.X_test,p=0.1),dtype=int)\n",
    "y_pred.shape"
   ]
  },
  {
   "cell_type": "code",
   "execution_count": 22,
   "metadata": {},
   "outputs": [],
   "source": [
    "perf_df=performance(y_pred,dataset.y,model_name=I.name,dataset_name=dataset.name,filename=\"perf\")"
   ]
  },
  {
   "cell_type": "code",
   "execution_count": 23,
   "metadata": {},
   "outputs": [
    {
     "data": {
      "text/html": [
       "<div>\n",
       "<style scoped>\n",
       "    .dataframe tbody tr th:only-of-type {\n",
       "        vertical-align: middle;\n",
       "    }\n",
       "\n",
       "    .dataframe tbody tr th {\n",
       "        vertical-align: top;\n",
       "    }\n",
       "\n",
       "    .dataframe thead th {\n",
       "        text-align: right;\n",
       "    }\n",
       "</style>\n",
       "<table border=\"1\" class=\"dataframe\">\n",
       "  <thead>\n",
       "    <tr style=\"text-align: right;\">\n",
       "      <th></th>\n",
       "      <th>Model</th>\n",
       "      <th>Dataset</th>\n",
       "      <th>Contamination</th>\n",
       "      <th>Train Size</th>\n",
       "      <th>Precision</th>\n",
       "      <th>Recall</th>\n",
       "      <th>f1 score</th>\n",
       "      <th>Accuracy</th>\n",
       "      <th>Balanced Accuracy</th>\n",
       "      <th>Average Precision</th>\n",
       "      <th>ROC AUC Score</th>\n",
       "    </tr>\n",
       "  </thead>\n",
       "  <tbody>\n",
       "    <tr>\n",
       "      <th>2024-02-20 17:50:36.075892</th>\n",
       "      <td>EIF+</td>\n",
       "      <td>wine</td>\n",
       "      <td>0.1</td>\n",
       "      <td>0.8</td>\n",
       "      <td>0.0</td>\n",
       "      <td>0.0</td>\n",
       "      <td>0.0</td>\n",
       "      <td>0.829457</td>\n",
       "      <td>0.44958</td>\n",
       "      <td>0.077519</td>\n",
       "      <td>0.44958</td>\n",
       "    </tr>\n",
       "  </tbody>\n",
       "</table>\n",
       "</div>"
      ],
      "text/plain": [
       "                           Model Dataset  Contamination  Train Size  \\\n",
       "2024-02-20 17:50:36.075892  EIF+    wine            0.1         0.8   \n",
       "\n",
       "                            Precision  Recall  f1 score  Accuracy  \\\n",
       "2024-02-20 17:50:36.075892        0.0     0.0       0.0  0.829457   \n",
       "\n",
       "                            Balanced Accuracy  Average Precision  \\\n",
       "2024-02-20 17:50:36.075892            0.44958           0.077519   \n",
       "\n",
       "                            ROC AUC Score  \n",
       "2024-02-20 17:50:36.075892        0.44958  "
      ]
     },
     "execution_count": 23,
     "metadata": {},
     "output_type": "execute_result"
    }
   ],
   "source": [
    "perf_df"
   ]
  },
  {
   "cell_type": "markdown",
   "metadata": {},
   "source": [
    "### `EIF`"
   ]
  },
  {
   "cell_type": "code",
   "execution_count": 5,
   "metadata": {},
   "outputs": [],
   "source": [
    "I=ExtendedIsolationForest(False,n_estimators=100)\n",
    "I.fit(dataset.X_train)"
   ]
  },
  {
   "cell_type": "code",
   "execution_count": 7,
   "metadata": {},
   "outputs": [],
   "source": [
    "y_pred=np.array(I._predict(dataset.X_test,p=0.1),dtype=int)\n",
    "perf_df=performance(y_pred,dataset.y,model_name=I.name,dataset_name=dataset.name,filename=\"perf\")"
   ]
  },
  {
   "cell_type": "code",
   "execution_count": 8,
   "metadata": {},
   "outputs": [
    {
     "data": {
      "text/html": [
       "<div>\n",
       "<style scoped>\n",
       "    .dataframe tbody tr th:only-of-type {\n",
       "        vertical-align: middle;\n",
       "    }\n",
       "\n",
       "    .dataframe tbody tr th {\n",
       "        vertical-align: top;\n",
       "    }\n",
       "\n",
       "    .dataframe thead th {\n",
       "        text-align: right;\n",
       "    }\n",
       "</style>\n",
       "<table border=\"1\" class=\"dataframe\">\n",
       "  <thead>\n",
       "    <tr style=\"text-align: right;\">\n",
       "      <th></th>\n",
       "      <th>Model</th>\n",
       "      <th>Dataset</th>\n",
       "      <th>Contamination</th>\n",
       "      <th>Train Size</th>\n",
       "      <th>Precision</th>\n",
       "      <th>Recall</th>\n",
       "      <th>f1 score</th>\n",
       "      <th>Accuracy</th>\n",
       "      <th>Balanced Accuracy</th>\n",
       "      <th>Average Precision</th>\n",
       "      <th>ROC AUC Score</th>\n",
       "    </tr>\n",
       "  </thead>\n",
       "  <tbody>\n",
       "    <tr>\n",
       "      <th>2024-02-20 17:57:14.551894</th>\n",
       "      <td>EIF</td>\n",
       "      <td>wine</td>\n",
       "      <td>0.1</td>\n",
       "      <td>0.8</td>\n",
       "      <td>0.166667</td>\n",
       "      <td>0.2</td>\n",
       "      <td>0.181818</td>\n",
       "      <td>0.860465</td>\n",
       "      <td>0.557983</td>\n",
       "      <td>0.095349</td>\n",
       "      <td>0.557983</td>\n",
       "    </tr>\n",
       "  </tbody>\n",
       "</table>\n",
       "</div>"
      ],
      "text/plain": [
       "                           Model Dataset  Contamination  Train Size  \\\n",
       "2024-02-20 17:57:14.551894   EIF    wine            0.1         0.8   \n",
       "\n",
       "                            Precision  Recall  f1 score  Accuracy  \\\n",
       "2024-02-20 17:57:14.551894   0.166667     0.2  0.181818  0.860465   \n",
       "\n",
       "                            Balanced Accuracy  Average Precision  \\\n",
       "2024-02-20 17:57:14.551894           0.557983           0.095349   \n",
       "\n",
       "                            ROC AUC Score  \n",
       "2024-02-20 17:57:14.551894       0.557983  "
      ]
     },
     "execution_count": 8,
     "metadata": {},
     "output_type": "execute_result"
    }
   ],
   "source": [
    "perf_df"
   ]
  },
  {
   "cell_type": "markdown",
   "metadata": {},
   "source": [
    "### `IF`"
   ]
  },
  {
   "cell_type": "code",
   "execution_count": 5,
   "metadata": {},
   "outputs": [],
   "source": [
    "I=IsolationForest(n_estimators=100)\n",
    "I.fit(dataset.X_train)"
   ]
  },
  {
   "cell_type": "code",
   "execution_count": 6,
   "metadata": {},
   "outputs": [
    {
     "data": {
      "text/plain": [
       "'IF'"
      ]
     },
     "execution_count": 6,
     "metadata": {},
     "output_type": "execute_result"
    }
   ],
   "source": [
    "I.name"
   ]
  },
  {
   "cell_type": "code",
   "execution_count": 7,
   "metadata": {},
   "outputs": [],
   "source": [
    "y_pred=np.array(I._predict(dataset.X_test,p=0.1),dtype=int)\n",
    "perf_df=performance(y_pred,dataset.y,model_name=I.name,dataset_name=dataset.name,filename=\"perf\")"
   ]
  },
  {
   "cell_type": "code",
   "execution_count": 8,
   "metadata": {},
   "outputs": [
    {
     "data": {
      "text/html": [
       "<div>\n",
       "<style scoped>\n",
       "    .dataframe tbody tr th:only-of-type {\n",
       "        vertical-align: middle;\n",
       "    }\n",
       "\n",
       "    .dataframe tbody tr th {\n",
       "        vertical-align: top;\n",
       "    }\n",
       "\n",
       "    .dataframe thead th {\n",
       "        text-align: right;\n",
       "    }\n",
       "</style>\n",
       "<table border=\"1\" class=\"dataframe\">\n",
       "  <thead>\n",
       "    <tr style=\"text-align: right;\">\n",
       "      <th></th>\n",
       "      <th>Model</th>\n",
       "      <th>Dataset</th>\n",
       "      <th>Contamination</th>\n",
       "      <th>Train Size</th>\n",
       "      <th>Precision</th>\n",
       "      <th>Recall</th>\n",
       "      <th>f1 score</th>\n",
       "      <th>Accuracy</th>\n",
       "      <th>Balanced Accuracy</th>\n",
       "      <th>Average Precision</th>\n",
       "      <th>ROC AUC Score</th>\n",
       "    </tr>\n",
       "  </thead>\n",
       "  <tbody>\n",
       "    <tr>\n",
       "      <th>2024-02-20 18:00:23.458732</th>\n",
       "      <td>IF</td>\n",
       "      <td>wine</td>\n",
       "      <td>0.1</td>\n",
       "      <td>0.8</td>\n",
       "      <td>0.083333</td>\n",
       "      <td>0.1</td>\n",
       "      <td>0.090909</td>\n",
       "      <td>0.844961</td>\n",
       "      <td>0.503782</td>\n",
       "      <td>0.078101</td>\n",
       "      <td>0.503782</td>\n",
       "    </tr>\n",
       "  </tbody>\n",
       "</table>\n",
       "</div>"
      ],
      "text/plain": [
       "                           Model Dataset  Contamination  Train Size  \\\n",
       "2024-02-20 18:00:23.458732    IF    wine            0.1         0.8   \n",
       "\n",
       "                            Precision  Recall  f1 score  Accuracy  \\\n",
       "2024-02-20 18:00:23.458732   0.083333     0.1  0.090909  0.844961   \n",
       "\n",
       "                            Balanced Accuracy  Average Precision  \\\n",
       "2024-02-20 18:00:23.458732           0.503782           0.078101   \n",
       "\n",
       "                            ROC AUC Score  \n",
       "2024-02-20 18:00:23.458732       0.503782  "
      ]
     },
     "execution_count": 8,
     "metadata": {},
     "output_type": "execute_result"
    }
   ],
   "source": [
    "perf_df"
   ]
  },
  {
   "cell_type": "markdown",
   "metadata": {},
   "source": [
    "## `syn` data"
   ]
  },
  {
   "cell_type": "code",
   "execution_count": 16,
   "metadata": {},
   "outputs": [],
   "source": [
    "import os\n",
    "import pickle\n",
    "import matplotlib.pyplot as plt"
   ]
  },
  {
   "cell_type": "code",
   "execution_count": 4,
   "metadata": {},
   "outputs": [
    {
     "data": {
      "text/plain": [
       "'/home/davidefrizzo/Desktop/PHD/ExIFFI/data/syn'"
      ]
     },
     "execution_count": 4,
     "metadata": {},
     "output_type": "execute_result"
    }
   ],
   "source": [
    "os.chdir('../data/syn')\n",
    "os.getcwd()"
   ]
  },
  {
   "cell_type": "markdown",
   "metadata": {},
   "source": [
    "Training Set"
   ]
  },
  {
   "cell_type": "code",
   "execution_count": 7,
   "metadata": {},
   "outputs": [],
   "source": [
    "file_to_read = open(os.getcwd()+'/ball_6_dim.pkl', \"rb\")\n",
    "loaded_dictionary = pickle.load(file_to_read)\n",
    "X_train=loaded_dictionary['X_train']"
   ]
  },
  {
   "cell_type": "code",
   "execution_count": 8,
   "metadata": {},
   "outputs": [
    {
     "data": {
      "text/plain": [
       "(1000, 6)"
      ]
     },
     "execution_count": 8,
     "metadata": {},
     "output_type": "execute_result"
    }
   ],
   "source": [
    "X_train.shape"
   ]
  },
  {
   "cell_type": "markdown",
   "metadata": {},
   "source": [
    "Test Sets"
   ]
  },
  {
   "cell_type": "code",
   "execution_count": 9,
   "metadata": {},
   "outputs": [],
   "source": [
    "file_to_read = open(os.getcwd()+'/anomalies.pkl', \"rb\")\n",
    "loaded_dictionary = pickle.load(file_to_read)\n",
    "X_xaxis,X_yaxis,X_bisect,X_bisect_3d,X_bisect_6d=loaded_dictionary['X_xaxis'],loaded_dictionary['X_yaxis'],loaded_dictionary['X_bisec'],loaded_dictionary['X_bisec_3d'],loaded_dictionary['X_bisec_6d']"
   ]
  },
  {
   "cell_type": "code",
   "execution_count": 13,
   "metadata": {},
   "outputs": [
    {
     "data": {
      "text/plain": [
       "(100, 6)"
      ]
     },
     "execution_count": 13,
     "metadata": {},
     "output_type": "execute_result"
    }
   ],
   "source": [
    "X_bisect_6d.shape"
   ]
  },
  {
   "cell_type": "markdown",
   "metadata": {},
   "source": [
    "Merge Train Set with Test Set and save them into a csv file "
   ]
  },
  {
   "cell_type": "markdown",
   "metadata": {},
   "source": [
    "### `Xaxis`"
   ]
  },
  {
   "cell_type": "code",
   "execution_count": 14,
   "metadata": {},
   "outputs": [
    {
     "data": {
      "text/plain": [
       "(1100, 6)"
      ]
     },
     "execution_count": 14,
     "metadata": {},
     "output_type": "execute_result"
    }
   ],
   "source": [
    "Xaxis=np.r_[X_train,X_xaxis]\n",
    "Xaxis.shape"
   ]
  },
  {
   "cell_type": "code",
   "execution_count": 17,
   "metadata": {},
   "outputs": [
    {
     "data": {
      "text/plain": [
       "[<matplotlib.lines.Line2D at 0x7fa30bd71d50>]"
      ]
     },
     "execution_count": 17,
     "metadata": {},
     "output_type": "execute_result"
    },
    {
     "data": {
      "image/png": "[encoded data removed]",
      "text/plain": [
       "<Figure size 640x480 with 1 Axes>"
      ]
     },
     "metadata": {},
     "output_type": "display_data"
    }
   ],
   "source": [
    "plt.plot(Xaxis[:,0],Xaxis[:,1],'o')"
   ]
  },
  {
   "cell_type": "code",
   "execution_count": 20,
   "metadata": {},
   "outputs": [
    {
     "data": {
      "text/html": [
       "<div>\n",
       "<style scoped>\n",
       "    .dataframe tbody tr th:only-of-type {\n",
       "        vertical-align: middle;\n",
       "    }\n",
       "\n",
       "    .dataframe tbody tr th {\n",
       "        vertical-align: top;\n",
       "    }\n",
       "\n",
       "    .dataframe thead th {\n",
       "        text-align: right;\n",
       "    }\n",
       "</style>\n",
       "<table border=\"1\" class=\"dataframe\">\n",
       "  <thead>\n",
       "    <tr style=\"text-align: right;\">\n",
       "      <th></th>\n",
       "      <th>0</th>\n",
       "      <th>1</th>\n",
       "      <th>2</th>\n",
       "      <th>3</th>\n",
       "      <th>4</th>\n",
       "      <th>5</th>\n",
       "    </tr>\n",
       "  </thead>\n",
       "  <tbody>\n",
       "    <tr>\n",
       "      <th>0</th>\n",
       "      <td>2.248670</td>\n",
       "      <td>0.239891</td>\n",
       "      <td>-0.211590</td>\n",
       "      <td>0.158886</td>\n",
       "      <td>-1.202420</td>\n",
       "      <td>3.211823</td>\n",
       "    </tr>\n",
       "    <tr>\n",
       "      <th>1</th>\n",
       "      <td>0.868853</td>\n",
       "      <td>2.625278</td>\n",
       "      <td>-2.618327</td>\n",
       "      <td>2.574333</td>\n",
       "      <td>-0.622046</td>\n",
       "      <td>-1.367291</td>\n",
       "    </tr>\n",
       "    <tr>\n",
       "      <th>2</th>\n",
       "      <td>-0.764090</td>\n",
       "      <td>1.906910</td>\n",
       "      <td>2.565642</td>\n",
       "      <td>1.191976</td>\n",
       "      <td>-1.906817</td>\n",
       "      <td>2.895978</td>\n",
       "    </tr>\n",
       "    <tr>\n",
       "      <th>3</th>\n",
       "      <td>0.198646</td>\n",
       "      <td>3.847016</td>\n",
       "      <td>1.644304</td>\n",
       "      <td>0.362293</td>\n",
       "      <td>1.101001</td>\n",
       "      <td>-1.305508</td>\n",
       "    </tr>\n",
       "    <tr>\n",
       "      <th>4</th>\n",
       "      <td>-0.359897</td>\n",
       "      <td>0.428938</td>\n",
       "      <td>-1.657683</td>\n",
       "      <td>2.181245</td>\n",
       "      <td>2.810369</td>\n",
       "      <td>2.503783</td>\n",
       "    </tr>\n",
       "  </tbody>\n",
       "</table>\n",
       "</div>"
      ],
      "text/plain": [
       "          0         1         2         3         4         5\n",
       "0  2.248670  0.239891 -0.211590  0.158886 -1.202420  3.211823\n",
       "1  0.868853  2.625278 -2.618327  2.574333 -0.622046 -1.367291\n",
       "2 -0.764090  1.906910  2.565642  1.191976 -1.906817  2.895978\n",
       "3  0.198646  3.847016  1.644304  0.362293  1.101001 -1.305508\n",
       "4 -0.359897  0.428938 -1.657683  2.181245  2.810369  2.503783"
      ]
     },
     "execution_count": 20,
     "metadata": {},
     "output_type": "execute_result"
    }
   ],
   "source": [
    "Xaxis_df=pd.DataFrame(Xaxis)\n",
    "Xaxis_df.head()"
   ]
  },
  {
   "cell_type": "code",
   "execution_count": 21,
   "metadata": {},
   "outputs": [],
   "source": [
    "Xaxis_df.to_csv('Xaxis.csv')"
   ]
  },
  {
   "cell_type": "code",
   "execution_count": 25,
   "metadata": {},
   "outputs": [
    {
     "data": {
      "text/html": [
       "<div>\n",
       "<style scoped>\n",
       "    .dataframe tbody tr th:only-of-type {\n",
       "        vertical-align: middle;\n",
       "    }\n",
       "\n",
       "    .dataframe tbody tr th {\n",
       "        vertical-align: top;\n",
       "    }\n",
       "\n",
       "    .dataframe thead th {\n",
       "        text-align: right;\n",
       "    }\n",
       "</style>\n",
       "<table border=\"1\" class=\"dataframe\">\n",
       "  <thead>\n",
       "    <tr style=\"text-align: right;\">\n",
       "      <th></th>\n",
       "      <th>0</th>\n",
       "      <th>1</th>\n",
       "      <th>2</th>\n",
       "      <th>3</th>\n",
       "      <th>4</th>\n",
       "      <th>5</th>\n",
       "    </tr>\n",
       "  </thead>\n",
       "  <tbody>\n",
       "    <tr>\n",
       "      <th>0</th>\n",
       "      <td>2.248670</td>\n",
       "      <td>0.239891</td>\n",
       "      <td>-0.211590</td>\n",
       "      <td>0.158886</td>\n",
       "      <td>-1.202420</td>\n",
       "      <td>3.211823</td>\n",
       "    </tr>\n",
       "    <tr>\n",
       "      <th>1</th>\n",
       "      <td>0.868853</td>\n",
       "      <td>2.625278</td>\n",
       "      <td>-2.618327</td>\n",
       "      <td>2.574333</td>\n",
       "      <td>-0.622046</td>\n",
       "      <td>-1.367291</td>\n",
       "    </tr>\n",
       "    <tr>\n",
       "      <th>2</th>\n",
       "      <td>-0.764090</td>\n",
       "      <td>1.906910</td>\n",
       "      <td>2.565642</td>\n",
       "      <td>1.191976</td>\n",
       "      <td>-1.906817</td>\n",
       "      <td>2.895978</td>\n",
       "    </tr>\n",
       "    <tr>\n",
       "      <th>3</th>\n",
       "      <td>0.198646</td>\n",
       "      <td>3.847016</td>\n",
       "      <td>1.644304</td>\n",
       "      <td>0.362293</td>\n",
       "      <td>1.101001</td>\n",
       "      <td>-1.305508</td>\n",
       "    </tr>\n",
       "    <tr>\n",
       "      <th>4</th>\n",
       "      <td>-0.359897</td>\n",
       "      <td>0.428938</td>\n",
       "      <td>-1.657683</td>\n",
       "      <td>2.181245</td>\n",
       "      <td>2.810369</td>\n",
       "      <td>2.503783</td>\n",
       "    </tr>\n",
       "  </tbody>\n",
       "</table>\n",
       "</div>"
      ],
      "text/plain": [
       "          0         1         2         3         4         5\n",
       "0  2.248670  0.239891 -0.211590  0.158886 -1.202420  3.211823\n",
       "1  0.868853  2.625278 -2.618327  2.574333 -0.622046 -1.367291\n",
       "2 -0.764090  1.906910  2.565642  1.191976 -1.906817  2.895978\n",
       "3  0.198646  3.847016  1.644304  0.362293  1.101001 -1.305508\n",
       "4 -0.359897  0.428938 -1.657683  2.181245  2.810369  2.503783"
      ]
     },
     "execution_count": 25,
     "metadata": {},
     "output_type": "execute_result"
    }
   ],
   "source": [
    "data=pd.read_csv('Xaxis.csv') \n",
    "data.drop('Unnamed: 0',axis=1,inplace=True)\n",
    "data.head()"
   ]
  },
  {
   "cell_type": "markdown",
   "metadata": {},
   "source": [
    "### `Yaxis`"
   ]
  },
  {
   "cell_type": "code",
   "execution_count": 27,
   "metadata": {},
   "outputs": [
    {
     "data": {
      "text/plain": [
       "(1100, 6)"
      ]
     },
     "execution_count": 27,
     "metadata": {},
     "output_type": "execute_result"
    }
   ],
   "source": [
    "Yaxis=np.r_[X_train,X_yaxis]\n",
    "Yaxis.shape"
   ]
  },
  {
   "cell_type": "code",
   "execution_count": 28,
   "metadata": {},
   "outputs": [
    {
     "data": {
      "text/plain": [
       "[<matplotlib.lines.Line2D at 0x7fa3070420d0>]"
      ]
     },
     "execution_count": 28,
     "metadata": {},
     "output_type": "execute_result"
    },
    {
     "data": {
      "image/png": "[encoded data removed]",
      "text/plain": [
       "<Figure size 640x480 with 1 Axes>"
      ]
     },
     "metadata": {},
     "output_type": "display_data"
    }
   ],
   "source": [
    "plt.plot(Yaxis[:,0],Yaxis[:,1],'o')"
   ]
  },
  {
   "cell_type": "code",
   "execution_count": 30,
   "metadata": {},
   "outputs": [
    {
     "data": {
      "text/html": [
       "<div>\n",
       "<style scoped>\n",
       "    .dataframe tbody tr th:only-of-type {\n",
       "        vertical-align: middle;\n",
       "    }\n",
       "\n",
       "    .dataframe tbody tr th {\n",
       "        vertical-align: top;\n",
       "    }\n",
       "\n",
       "    .dataframe thead th {\n",
       "        text-align: right;\n",
       "    }\n",
       "</style>\n",
       "<table border=\"1\" class=\"dataframe\">\n",
       "  <thead>\n",
       "    <tr style=\"text-align: right;\">\n",
       "      <th></th>\n",
       "      <th>0</th>\n",
       "      <th>1</th>\n",
       "      <th>2</th>\n",
       "      <th>3</th>\n",
       "      <th>4</th>\n",
       "      <th>5</th>\n",
       "    </tr>\n",
       "  </thead>\n",
       "  <tbody>\n",
       "    <tr>\n",
       "      <th>1095</th>\n",
       "      <td>-0.556441</td>\n",
       "      <td>11.636229</td>\n",
       "      <td>-0.752279</td>\n",
       "      <td>-0.067419</td>\n",
       "      <td>0.492850</td>\n",
       "      <td>0.660079</td>\n",
       "    </tr>\n",
       "    <tr>\n",
       "      <th>1096</th>\n",
       "      <td>0.372493</td>\n",
       "      <td>8.354086</td>\n",
       "      <td>-0.424221</td>\n",
       "      <td>-0.120650</td>\n",
       "      <td>0.031996</td>\n",
       "      <td>-0.225076</td>\n",
       "    </tr>\n",
       "    <tr>\n",
       "      <th>1097</th>\n",
       "      <td>-0.112649</td>\n",
       "      <td>-7.807477</td>\n",
       "      <td>0.404249</td>\n",
       "      <td>-0.328046</td>\n",
       "      <td>-0.622331</td>\n",
       "      <td>0.696148</td>\n",
       "    </tr>\n",
       "    <tr>\n",
       "      <th>1098</th>\n",
       "      <td>-0.670560</td>\n",
       "      <td>8.130342</td>\n",
       "      <td>-0.184914</td>\n",
       "      <td>-0.375024</td>\n",
       "      <td>-1.222163</td>\n",
       "      <td>0.182739</td>\n",
       "    </tr>\n",
       "    <tr>\n",
       "      <th>1099</th>\n",
       "      <td>0.624264</td>\n",
       "      <td>-9.817021</td>\n",
       "      <td>0.454289</td>\n",
       "      <td>-0.412503</td>\n",
       "      <td>-0.051223</td>\n",
       "      <td>0.348095</td>\n",
       "    </tr>\n",
       "  </tbody>\n",
       "</table>\n",
       "</div>"
      ],
      "text/plain": [
       "             0          1         2         3         4         5\n",
       "1095 -0.556441  11.636229 -0.752279 -0.067419  0.492850  0.660079\n",
       "1096  0.372493   8.354086 -0.424221 -0.120650  0.031996 -0.225076\n",
       "1097 -0.112649  -7.807477  0.404249 -0.328046 -0.622331  0.696148\n",
       "1098 -0.670560   8.130342 -0.184914 -0.375024 -1.222163  0.182739\n",
       "1099  0.624264  -9.817021  0.454289 -0.412503 -0.051223  0.348095"
      ]
     },
     "execution_count": 30,
     "metadata": {},
     "output_type": "execute_result"
    }
   ],
   "source": [
    "Yaxis_df=pd.DataFrame(Yaxis)\n",
    "Yaxis_df.tail()"
   ]
  },
  {
   "cell_type": "code",
   "execution_count": 32,
   "metadata": {},
   "outputs": [],
   "source": [
    "Yaxis_df.to_csv('Yaxis.csv')"
   ]
  },
  {
   "cell_type": "code",
   "execution_count": 33,
   "metadata": {},
   "outputs": [
    {
     "data": {
      "text/html": [
       "<div>\n",
       "<style scoped>\n",
       "    .dataframe tbody tr th:only-of-type {\n",
       "        vertical-align: middle;\n",
       "    }\n",
       "\n",
       "    .dataframe tbody tr th {\n",
       "        vertical-align: top;\n",
       "    }\n",
       "\n",
       "    .dataframe thead th {\n",
       "        text-align: right;\n",
       "    }\n",
       "</style>\n",
       "<table border=\"1\" class=\"dataframe\">\n",
       "  <thead>\n",
       "    <tr style=\"text-align: right;\">\n",
       "      <th></th>\n",
       "      <th>0</th>\n",
       "      <th>1</th>\n",
       "      <th>2</th>\n",
       "      <th>3</th>\n",
       "      <th>4</th>\n",
       "      <th>5</th>\n",
       "    </tr>\n",
       "  </thead>\n",
       "  <tbody>\n",
       "    <tr>\n",
       "      <th>0</th>\n",
       "      <td>2.248670</td>\n",
       "      <td>0.239891</td>\n",
       "      <td>-0.211590</td>\n",
       "      <td>0.158886</td>\n",
       "      <td>-1.202420</td>\n",
       "      <td>3.211823</td>\n",
       "    </tr>\n",
       "    <tr>\n",
       "      <th>1</th>\n",
       "      <td>0.868853</td>\n",
       "      <td>2.625278</td>\n",
       "      <td>-2.618327</td>\n",
       "      <td>2.574333</td>\n",
       "      <td>-0.622046</td>\n",
       "      <td>-1.367291</td>\n",
       "    </tr>\n",
       "    <tr>\n",
       "      <th>2</th>\n",
       "      <td>-0.764090</td>\n",
       "      <td>1.906910</td>\n",
       "      <td>2.565642</td>\n",
       "      <td>1.191976</td>\n",
       "      <td>-1.906817</td>\n",
       "      <td>2.895978</td>\n",
       "    </tr>\n",
       "    <tr>\n",
       "      <th>3</th>\n",
       "      <td>0.198646</td>\n",
       "      <td>3.847016</td>\n",
       "      <td>1.644304</td>\n",
       "      <td>0.362293</td>\n",
       "      <td>1.101001</td>\n",
       "      <td>-1.305508</td>\n",
       "    </tr>\n",
       "    <tr>\n",
       "      <th>4</th>\n",
       "      <td>-0.359897</td>\n",
       "      <td>0.428938</td>\n",
       "      <td>-1.657683</td>\n",
       "      <td>2.181245</td>\n",
       "      <td>2.810369</td>\n",
       "      <td>2.503783</td>\n",
       "    </tr>\n",
       "  </tbody>\n",
       "</table>\n",
       "</div>"
      ],
      "text/plain": [
       "          0         1         2         3         4         5\n",
       "0  2.248670  0.239891 -0.211590  0.158886 -1.202420  3.211823\n",
       "1  0.868853  2.625278 -2.618327  2.574333 -0.622046 -1.367291\n",
       "2 -0.764090  1.906910  2.565642  1.191976 -1.906817  2.895978\n",
       "3  0.198646  3.847016  1.644304  0.362293  1.101001 -1.305508\n",
       "4 -0.359897  0.428938 -1.657683  2.181245  2.810369  2.503783"
      ]
     },
     "execution_count": 33,
     "metadata": {},
     "output_type": "execute_result"
    }
   ],
   "source": [
    "data=pd.read_csv('Yaxis.csv') \n",
    "data.drop('Unnamed: 0',axis=1,inplace=True)\n",
    "data.head()"
   ]
  },
  {
   "cell_type": "markdown",
   "metadata": {},
   "source": [
    "### `Bisect`"
   ]
  },
  {
   "cell_type": "code",
   "execution_count": 34,
   "metadata": {},
   "outputs": [
    {
     "data": {
      "text/plain": [
       "(1100, 6)"
      ]
     },
     "execution_count": 34,
     "metadata": {},
     "output_type": "execute_result"
    }
   ],
   "source": [
    "bisect=np.r_[X_train,X_bisect]\n",
    "bisect.shape"
   ]
  },
  {
   "cell_type": "code",
   "execution_count": 35,
   "metadata": {},
   "outputs": [
    {
     "data": {
      "text/plain": [
       "[<matplotlib.lines.Line2D at 0x7fa306f65690>]"
      ]
     },
     "execution_count": 35,
     "metadata": {},
     "output_type": "execute_result"
    },
    {
     "data": {
      "image/png": "[encoded data removed]",
      "text/plain": [
       "<Figure size 640x480 with 1 Axes>"
      ]
     },
     "metadata": {},
     "output_type": "display_data"
    }
   ],
   "source": [
    "plt.plot(bisect[:,0],bisect[:,1],'o')"
   ]
  },
  {
   "cell_type": "code",
   "execution_count": 36,
   "metadata": {},
   "outputs": [
    {
     "data": {
      "text/html": [
       "<div>\n",
       "<style scoped>\n",
       "    .dataframe tbody tr th:only-of-type {\n",
       "        vertical-align: middle;\n",
       "    }\n",
       "\n",
       "    .dataframe tbody tr th {\n",
       "        vertical-align: top;\n",
       "    }\n",
       "\n",
       "    .dataframe thead th {\n",
       "        text-align: right;\n",
       "    }\n",
       "</style>\n",
       "<table border=\"1\" class=\"dataframe\">\n",
       "  <thead>\n",
       "    <tr style=\"text-align: right;\">\n",
       "      <th></th>\n",
       "      <th>0</th>\n",
       "      <th>1</th>\n",
       "      <th>2</th>\n",
       "      <th>3</th>\n",
       "      <th>4</th>\n",
       "      <th>5</th>\n",
       "    </tr>\n",
       "  </thead>\n",
       "  <tbody>\n",
       "    <tr>\n",
       "      <th>1095</th>\n",
       "      <td>4.559584</td>\n",
       "      <td>5.898685</td>\n",
       "      <td>-0.038913</td>\n",
       "      <td>-0.165807</td>\n",
       "      <td>-0.024745</td>\n",
       "      <td>-0.669735</td>\n",
       "    </tr>\n",
       "    <tr>\n",
       "      <th>1096</th>\n",
       "      <td>-7.427031</td>\n",
       "      <td>-7.692899</td>\n",
       "      <td>-0.553767</td>\n",
       "      <td>-0.217572</td>\n",
       "      <td>0.838377</td>\n",
       "      <td>-0.137756</td>\n",
       "    </tr>\n",
       "    <tr>\n",
       "      <th>1097</th>\n",
       "      <td>8.247202</td>\n",
       "      <td>8.589750</td>\n",
       "      <td>-0.118215</td>\n",
       "      <td>0.832420</td>\n",
       "      <td>0.180314</td>\n",
       "      <td>0.360806</td>\n",
       "    </tr>\n",
       "    <tr>\n",
       "      <th>1098</th>\n",
       "      <td>6.487272</td>\n",
       "      <td>6.998935</td>\n",
       "      <td>0.124564</td>\n",
       "      <td>0.717201</td>\n",
       "      <td>-1.108774</td>\n",
       "      <td>-0.278491</td>\n",
       "    </tr>\n",
       "    <tr>\n",
       "      <th>1099</th>\n",
       "      <td>6.801003</td>\n",
       "      <td>7.771761</td>\n",
       "      <td>0.272454</td>\n",
       "      <td>0.589183</td>\n",
       "      <td>-0.170625</td>\n",
       "      <td>0.109667</td>\n",
       "    </tr>\n",
       "  </tbody>\n",
       "</table>\n",
       "</div>"
      ],
      "text/plain": [
       "             0         1         2         3         4         5\n",
       "1095  4.559584  5.898685 -0.038913 -0.165807 -0.024745 -0.669735\n",
       "1096 -7.427031 -7.692899 -0.553767 -0.217572  0.838377 -0.137756\n",
       "1097  8.247202  8.589750 -0.118215  0.832420  0.180314  0.360806\n",
       "1098  6.487272  6.998935  0.124564  0.717201 -1.108774 -0.278491\n",
       "1099  6.801003  7.771761  0.272454  0.589183 -0.170625  0.109667"
      ]
     },
     "execution_count": 36,
     "metadata": {},
     "output_type": "execute_result"
    }
   ],
   "source": [
    "bisect_df=pd.DataFrame(bisect)\n",
    "bisect_df.tail()"
   ]
  },
  {
   "cell_type": "code",
   "execution_count": 37,
   "metadata": {},
   "outputs": [],
   "source": [
    "bisect_df.to_csv('bisect.csv')"
   ]
  },
  {
   "cell_type": "code",
   "execution_count": 38,
   "metadata": {},
   "outputs": [
    {
     "data": {
      "text/html": [
       "<div>\n",
       "<style scoped>\n",
       "    .dataframe tbody tr th:only-of-type {\n",
       "        vertical-align: middle;\n",
       "    }\n",
       "\n",
       "    .dataframe tbody tr th {\n",
       "        vertical-align: top;\n",
       "    }\n",
       "\n",
       "    .dataframe thead th {\n",
       "        text-align: right;\n",
       "    }\n",
       "</style>\n",
       "<table border=\"1\" class=\"dataframe\">\n",
       "  <thead>\n",
       "    <tr style=\"text-align: right;\">\n",
       "      <th></th>\n",
       "      <th>0</th>\n",
       "      <th>1</th>\n",
       "      <th>2</th>\n",
       "      <th>3</th>\n",
       "      <th>4</th>\n",
       "      <th>5</th>\n",
       "    </tr>\n",
       "  </thead>\n",
       "  <tbody>\n",
       "    <tr>\n",
       "      <th>0</th>\n",
       "      <td>2.248670</td>\n",
       "      <td>0.239891</td>\n",
       "      <td>-0.211590</td>\n",
       "      <td>0.158886</td>\n",
       "      <td>-1.202420</td>\n",
       "      <td>3.211823</td>\n",
       "    </tr>\n",
       "    <tr>\n",
       "      <th>1</th>\n",
       "      <td>0.868853</td>\n",
       "      <td>2.625278</td>\n",
       "      <td>-2.618327</td>\n",
       "      <td>2.574333</td>\n",
       "      <td>-0.622046</td>\n",
       "      <td>-1.367291</td>\n",
       "    </tr>\n",
       "    <tr>\n",
       "      <th>2</th>\n",
       "      <td>-0.764090</td>\n",
       "      <td>1.906910</td>\n",
       "      <td>2.565642</td>\n",
       "      <td>1.191976</td>\n",
       "      <td>-1.906817</td>\n",
       "      <td>2.895978</td>\n",
       "    </tr>\n",
       "    <tr>\n",
       "      <th>3</th>\n",
       "      <td>0.198646</td>\n",
       "      <td>3.847016</td>\n",
       "      <td>1.644304</td>\n",
       "      <td>0.362293</td>\n",
       "      <td>1.101001</td>\n",
       "      <td>-1.305508</td>\n",
       "    </tr>\n",
       "    <tr>\n",
       "      <th>4</th>\n",
       "      <td>-0.359897</td>\n",
       "      <td>0.428938</td>\n",
       "      <td>-1.657683</td>\n",
       "      <td>2.181245</td>\n",
       "      <td>2.810369</td>\n",
       "      <td>2.503783</td>\n",
       "    </tr>\n",
       "  </tbody>\n",
       "</table>\n",
       "</div>"
      ],
      "text/plain": [
       "          0         1         2         3         4         5\n",
       "0  2.248670  0.239891 -0.211590  0.158886 -1.202420  3.211823\n",
       "1  0.868853  2.625278 -2.618327  2.574333 -0.622046 -1.367291\n",
       "2 -0.764090  1.906910  2.565642  1.191976 -1.906817  2.895978\n",
       "3  0.198646  3.847016  1.644304  0.362293  1.101001 -1.305508\n",
       "4 -0.359897  0.428938 -1.657683  2.181245  2.810369  2.503783"
      ]
     },
     "execution_count": 38,
     "metadata": {},
     "output_type": "execute_result"
    }
   ],
   "source": [
    "data=pd.read_csv('bisect.csv') \n",
    "data.drop('Unnamed: 0',axis=1,inplace=True)\n",
    "data.head()"
   ]
  },
  {
   "cell_type": "markdown",
   "metadata": {},
   "source": [
    "### `bisect_3d`"
   ]
  },
  {
   "cell_type": "code",
   "execution_count": 39,
   "metadata": {},
   "outputs": [
    {
     "data": {
      "text/plain": [
       "(1100, 6)"
      ]
     },
     "execution_count": 39,
     "metadata": {},
     "output_type": "execute_result"
    }
   ],
   "source": [
    "bisect_3d=np.r_[X_train,X_bisect_3d]\n",
    "bisect_3d.shape"
   ]
  },
  {
   "cell_type": "code",
   "execution_count": 40,
   "metadata": {},
   "outputs": [
    {
     "data": {
      "text/plain": [
       "[<matplotlib.lines.Line2D at 0x7fa306f7dd10>]"
      ]
     },
     "execution_count": 40,
     "metadata": {},
     "output_type": "execute_result"
    },
    {
     "data": {
      "image/png": "[encoded data removed]",
      "text/plain": [
       "<Figure size 640x480 with 1 Axes>"
      ]
     },
     "metadata": {},
     "output_type": "display_data"
    }
   ],
   "source": [
    "plt.plot(bisect_3d[:,0],bisect_3d[:,1],'o')"
   ]
  },
  {
   "cell_type": "code",
   "execution_count": 41,
   "metadata": {},
   "outputs": [
    {
     "data": {
      "text/html": [
       "<div>\n",
       "<style scoped>\n",
       "    .dataframe tbody tr th:only-of-type {\n",
       "        vertical-align: middle;\n",
       "    }\n",
       "\n",
       "    .dataframe tbody tr th {\n",
       "        vertical-align: top;\n",
       "    }\n",
       "\n",
       "    .dataframe thead th {\n",
       "        text-align: right;\n",
       "    }\n",
       "</style>\n",
       "<table border=\"1\" class=\"dataframe\">\n",
       "  <thead>\n",
       "    <tr style=\"text-align: right;\">\n",
       "      <th></th>\n",
       "      <th>0</th>\n",
       "      <th>1</th>\n",
       "      <th>2</th>\n",
       "      <th>3</th>\n",
       "      <th>4</th>\n",
       "      <th>5</th>\n",
       "    </tr>\n",
       "  </thead>\n",
       "  <tbody>\n",
       "    <tr>\n",
       "      <th>1095</th>\n",
       "      <td>7.215609</td>\n",
       "      <td>6.886593</td>\n",
       "      <td>6.963206</td>\n",
       "      <td>0.208843</td>\n",
       "      <td>-0.647239</td>\n",
       "      <td>-0.480668</td>\n",
       "    </tr>\n",
       "    <tr>\n",
       "      <th>1096</th>\n",
       "      <td>7.331378</td>\n",
       "      <td>6.563659</td>\n",
       "      <td>5.799002</td>\n",
       "      <td>-0.081246</td>\n",
       "      <td>0.374472</td>\n",
       "      <td>-0.616076</td>\n",
       "    </tr>\n",
       "    <tr>\n",
       "      <th>1097</th>\n",
       "      <td>5.047629</td>\n",
       "      <td>5.094055</td>\n",
       "      <td>4.076400</td>\n",
       "      <td>-1.088806</td>\n",
       "      <td>0.596552</td>\n",
       "      <td>-0.593956</td>\n",
       "    </tr>\n",
       "    <tr>\n",
       "      <th>1098</th>\n",
       "      <td>-4.257130</td>\n",
       "      <td>-4.642138</td>\n",
       "      <td>-4.360043</td>\n",
       "      <td>-0.446038</td>\n",
       "      <td>-0.811061</td>\n",
       "      <td>-0.047748</td>\n",
       "    </tr>\n",
       "    <tr>\n",
       "      <th>1099</th>\n",
       "      <td>6.298271</td>\n",
       "      <td>7.053956</td>\n",
       "      <td>6.447979</td>\n",
       "      <td>0.177028</td>\n",
       "      <td>0.518237</td>\n",
       "      <td>-0.108949</td>\n",
       "    </tr>\n",
       "  </tbody>\n",
       "</table>\n",
       "</div>"
      ],
      "text/plain": [
       "             0         1         2         3         4         5\n",
       "1095  7.215609  6.886593  6.963206  0.208843 -0.647239 -0.480668\n",
       "1096  7.331378  6.563659  5.799002 -0.081246  0.374472 -0.616076\n",
       "1097  5.047629  5.094055  4.076400 -1.088806  0.596552 -0.593956\n",
       "1098 -4.257130 -4.642138 -4.360043 -0.446038 -0.811061 -0.047748\n",
       "1099  6.298271  7.053956  6.447979  0.177028  0.518237 -0.108949"
      ]
     },
     "execution_count": 41,
     "metadata": {},
     "output_type": "execute_result"
    }
   ],
   "source": [
    "bisect_3d_df=pd.DataFrame(bisect_3d)\n",
    "bisect_3d_df.tail()"
   ]
  },
  {
   "cell_type": "code",
   "execution_count": 42,
   "metadata": {},
   "outputs": [],
   "source": [
    "bisect_df.to_csv('bisect_3d.csv')"
   ]
  },
  {
   "cell_type": "code",
   "execution_count": 43,
   "metadata": {},
   "outputs": [
    {
     "data": {
      "text/html": [
       "<div>\n",
       "<style scoped>\n",
       "    .dataframe tbody tr th:only-of-type {\n",
       "        vertical-align: middle;\n",
       "    }\n",
       "\n",
       "    .dataframe tbody tr th {\n",
       "        vertical-align: top;\n",
       "    }\n",
       "\n",
       "    .dataframe thead th {\n",
       "        text-align: right;\n",
       "    }\n",
       "</style>\n",
       "<table border=\"1\" class=\"dataframe\">\n",
       "  <thead>\n",
       "    <tr style=\"text-align: right;\">\n",
       "      <th></th>\n",
       "      <th>0</th>\n",
       "      <th>1</th>\n",
       "      <th>2</th>\n",
       "      <th>3</th>\n",
       "      <th>4</th>\n",
       "      <th>5</th>\n",
       "    </tr>\n",
       "  </thead>\n",
       "  <tbody>\n",
       "    <tr>\n",
       "      <th>0</th>\n",
       "      <td>2.248670</td>\n",
       "      <td>0.239891</td>\n",
       "      <td>-0.211590</td>\n",
       "      <td>0.158886</td>\n",
       "      <td>-1.202420</td>\n",
       "      <td>3.211823</td>\n",
       "    </tr>\n",
       "    <tr>\n",
       "      <th>1</th>\n",
       "      <td>0.868853</td>\n",
       "      <td>2.625278</td>\n",
       "      <td>-2.618327</td>\n",
       "      <td>2.574333</td>\n",
       "      <td>-0.622046</td>\n",
       "      <td>-1.367291</td>\n",
       "    </tr>\n",
       "    <tr>\n",
       "      <th>2</th>\n",
       "      <td>-0.764090</td>\n",
       "      <td>1.906910</td>\n",
       "      <td>2.565642</td>\n",
       "      <td>1.191976</td>\n",
       "      <td>-1.906817</td>\n",
       "      <td>2.895978</td>\n",
       "    </tr>\n",
       "    <tr>\n",
       "      <th>3</th>\n",
       "      <td>0.198646</td>\n",
       "      <td>3.847016</td>\n",
       "      <td>1.644304</td>\n",
       "      <td>0.362293</td>\n",
       "      <td>1.101001</td>\n",
       "      <td>-1.305508</td>\n",
       "    </tr>\n",
       "    <tr>\n",
       "      <th>4</th>\n",
       "      <td>-0.359897</td>\n",
       "      <td>0.428938</td>\n",
       "      <td>-1.657683</td>\n",
       "      <td>2.181245</td>\n",
       "      <td>2.810369</td>\n",
       "      <td>2.503783</td>\n",
       "    </tr>\n",
       "  </tbody>\n",
       "</table>\n",
       "</div>"
      ],
      "text/plain": [
       "          0         1         2         3         4         5\n",
       "0  2.248670  0.239891 -0.211590  0.158886 -1.202420  3.211823\n",
       "1  0.868853  2.625278 -2.618327  2.574333 -0.622046 -1.367291\n",
       "2 -0.764090  1.906910  2.565642  1.191976 -1.906817  2.895978\n",
       "3  0.198646  3.847016  1.644304  0.362293  1.101001 -1.305508\n",
       "4 -0.359897  0.428938 -1.657683  2.181245  2.810369  2.503783"
      ]
     },
     "execution_count": 43,
     "metadata": {},
     "output_type": "execute_result"
    }
   ],
   "source": [
    "data=pd.read_csv('bisect_3d.csv') \n",
    "data.drop('Unnamed: 0',axis=1,inplace=True)\n",
    "data.head()"
   ]
  },
  {
   "cell_type": "markdown",
   "metadata": {},
   "source": [
    "### `bisect_6d`"
   ]
  },
  {
   "cell_type": "code",
   "execution_count": 44,
   "metadata": {},
   "outputs": [
    {
     "data": {
      "text/plain": [
       "(1100, 6)"
      ]
     },
     "execution_count": 44,
     "metadata": {},
     "output_type": "execute_result"
    }
   ],
   "source": [
    "bisect_6d=np.r_[X_train,X_bisect_6d]\n",
    "bisect_6d.shape"
   ]
  },
  {
   "cell_type": "code",
   "execution_count": 45,
   "metadata": {},
   "outputs": [
    {
     "data": {
      "text/plain": [
       "[<matplotlib.lines.Line2D at 0x7fa306e0a0d0>]"
      ]
     },
     "execution_count": 45,
     "metadata": {},
     "output_type": "execute_result"
    },
    {
     "data": {
      "image/png": "[encoded data removed]",
      "text/plain": [
       "<Figure size 640x480 with 1 Axes>"
      ]
     },
     "metadata": {},
     "output_type": "display_data"
    }
   ],
   "source": [
    "plt.plot(bisect_6d[:,0],bisect_6d[:,1],'o')"
   ]
  },
  {
   "cell_type": "code",
   "execution_count": 46,
   "metadata": {},
   "outputs": [
    {
     "data": {
      "text/html": [
       "<div>\n",
       "<style scoped>\n",
       "    .dataframe tbody tr th:only-of-type {\n",
       "        vertical-align: middle;\n",
       "    }\n",
       "\n",
       "    .dataframe tbody tr th {\n",
       "        vertical-align: top;\n",
       "    }\n",
       "\n",
       "    .dataframe thead th {\n",
       "        text-align: right;\n",
       "    }\n",
       "</style>\n",
       "<table border=\"1\" class=\"dataframe\">\n",
       "  <thead>\n",
       "    <tr style=\"text-align: right;\">\n",
       "      <th></th>\n",
       "      <th>0</th>\n",
       "      <th>1</th>\n",
       "      <th>2</th>\n",
       "      <th>3</th>\n",
       "      <th>4</th>\n",
       "      <th>5</th>\n",
       "    </tr>\n",
       "  </thead>\n",
       "  <tbody>\n",
       "    <tr>\n",
       "      <th>1095</th>\n",
       "      <td>4.140729</td>\n",
       "      <td>4.752194</td>\n",
       "      <td>4.520028</td>\n",
       "      <td>4.864238</td>\n",
       "      <td>3.993451</td>\n",
       "      <td>4.437378</td>\n",
       "    </tr>\n",
       "    <tr>\n",
       "      <th>1096</th>\n",
       "      <td>3.959000</td>\n",
       "      <td>3.236401</td>\n",
       "      <td>3.662869</td>\n",
       "      <td>4.619158</td>\n",
       "      <td>3.348121</td>\n",
       "      <td>3.016729</td>\n",
       "    </tr>\n",
       "    <tr>\n",
       "      <th>1097</th>\n",
       "      <td>3.612413</td>\n",
       "      <td>3.566588</td>\n",
       "      <td>3.318392</td>\n",
       "      <td>3.526297</td>\n",
       "      <td>2.998522</td>\n",
       "      <td>3.715005</td>\n",
       "    </tr>\n",
       "    <tr>\n",
       "      <th>1098</th>\n",
       "      <td>-3.162273</td>\n",
       "      <td>-2.908671</td>\n",
       "      <td>-2.639555</td>\n",
       "      <td>-2.873704</td>\n",
       "      <td>-3.590031</td>\n",
       "      <td>-2.423722</td>\n",
       "    </tr>\n",
       "    <tr>\n",
       "      <th>1099</th>\n",
       "      <td>-4.443792</td>\n",
       "      <td>-3.724579</td>\n",
       "      <td>-4.169184</td>\n",
       "      <td>-5.051567</td>\n",
       "      <td>-5.114577</td>\n",
       "      <td>-4.936394</td>\n",
       "    </tr>\n",
       "  </tbody>\n",
       "</table>\n",
       "</div>"
      ],
      "text/plain": [
       "             0         1         2         3         4         5\n",
       "1095  4.140729  4.752194  4.520028  4.864238  3.993451  4.437378\n",
       "1096  3.959000  3.236401  3.662869  4.619158  3.348121  3.016729\n",
       "1097  3.612413  3.566588  3.318392  3.526297  2.998522  3.715005\n",
       "1098 -3.162273 -2.908671 -2.639555 -2.873704 -3.590031 -2.423722\n",
       "1099 -4.443792 -3.724579 -4.169184 -5.051567 -5.114577 -4.936394"
      ]
     },
     "execution_count": 46,
     "metadata": {},
     "output_type": "execute_result"
    }
   ],
   "source": [
    "bisect_6d_df=pd.DataFrame(bisect_6d)\n",
    "bisect_6d_df.tail()"
   ]
  },
  {
   "cell_type": "code",
   "execution_count": 47,
   "metadata": {},
   "outputs": [],
   "source": [
    "bisect_df.to_csv('bisect_6d.csv')"
   ]
  },
  {
   "cell_type": "code",
   "execution_count": 48,
   "metadata": {},
   "outputs": [
    {
     "data": {
      "text/html": [
       "<div>\n",
       "<style scoped>\n",
       "    .dataframe tbody tr th:only-of-type {\n",
       "        vertical-align: middle;\n",
       "    }\n",
       "\n",
       "    .dataframe tbody tr th {\n",
       "        vertical-align: top;\n",
       "    }\n",
       "\n",
       "    .dataframe thead th {\n",
       "        text-align: right;\n",
       "    }\n",
       "</style>\n",
       "<table border=\"1\" class=\"dataframe\">\n",
       "  <thead>\n",
       "    <tr style=\"text-align: right;\">\n",
       "      <th></th>\n",
       "      <th>0</th>\n",
       "      <th>1</th>\n",
       "      <th>2</th>\n",
       "      <th>3</th>\n",
       "      <th>4</th>\n",
       "      <th>5</th>\n",
       "    </tr>\n",
       "  </thead>\n",
       "  <tbody>\n",
       "    <tr>\n",
       "      <th>0</th>\n",
       "      <td>2.248670</td>\n",
       "      <td>0.239891</td>\n",
       "      <td>-0.211590</td>\n",
       "      <td>0.158886</td>\n",
       "      <td>-1.202420</td>\n",
       "      <td>3.211823</td>\n",
       "    </tr>\n",
       "    <tr>\n",
       "      <th>1</th>\n",
       "      <td>0.868853</td>\n",
       "      <td>2.625278</td>\n",
       "      <td>-2.618327</td>\n",
       "      <td>2.574333</td>\n",
       "      <td>-0.622046</td>\n",
       "      <td>-1.367291</td>\n",
       "    </tr>\n",
       "    <tr>\n",
       "      <th>2</th>\n",
       "      <td>-0.764090</td>\n",
       "      <td>1.906910</td>\n",
       "      <td>2.565642</td>\n",
       "      <td>1.191976</td>\n",
       "      <td>-1.906817</td>\n",
       "      <td>2.895978</td>\n",
       "    </tr>\n",
       "    <tr>\n",
       "      <th>3</th>\n",
       "      <td>0.198646</td>\n",
       "      <td>3.847016</td>\n",
       "      <td>1.644304</td>\n",
       "      <td>0.362293</td>\n",
       "      <td>1.101001</td>\n",
       "      <td>-1.305508</td>\n",
       "    </tr>\n",
       "    <tr>\n",
       "      <th>4</th>\n",
       "      <td>-0.359897</td>\n",
       "      <td>0.428938</td>\n",
       "      <td>-1.657683</td>\n",
       "      <td>2.181245</td>\n",
       "      <td>2.810369</td>\n",
       "      <td>2.503783</td>\n",
       "    </tr>\n",
       "  </tbody>\n",
       "</table>\n",
       "</div>"
      ],
      "text/plain": [
       "          0         1         2         3         4         5\n",
       "0  2.248670  0.239891 -0.211590  0.158886 -1.202420  3.211823\n",
       "1  0.868853  2.625278 -2.618327  2.574333 -0.622046 -1.367291\n",
       "2 -0.764090  1.906910  2.565642  1.191976 -1.906817  2.895978\n",
       "3  0.198646  3.847016  1.644304  0.362293  1.101001 -1.305508\n",
       "4 -0.359897  0.428938 -1.657683  2.181245  2.810369  2.503783"
      ]
     },
     "execution_count": 48,
     "metadata": {},
     "output_type": "execute_result"
    }
   ],
   "source": [
    "data=pd.read_csv('bisect_6d.csv') \n",
    "data.drop('Unnamed: 0',axis=1,inplace=True)\n",
    "data.head()"
   ]
  },
  {
   "cell_type": "markdown",
   "metadata": {},
   "source": [
    "## `test_feature_selection`"
   ]
  },
  {
   "cell_type": "code",
   "execution_count": 2,
   "metadata": {},
   "outputs": [
    {
     "data": {
      "text/plain": [
       "'/home/davidefrizzo/Desktop/PHD/ExIFFI/notebooks'"
      ]
     },
     "execution_count": 2,
     "metadata": {},
     "output_type": "execute_result"
    }
   ],
   "source": [
    "import os\n",
    "os.getcwd()"
   ]
  },
  {
   "cell_type": "code",
   "execution_count": 3,
   "metadata": {},
   "outputs": [],
   "source": [
    "os.chdir('../experiments/results')"
   ]
  },
  {
   "cell_type": "code",
   "execution_count": 4,
   "metadata": {},
   "outputs": [],
   "source": [
    "from utils_reboot.utils import *\n",
    "path=os.path.join(os.getcwd(),'wine','experiments','feature_selection','EIF+','EXIFFI')\n",
    "file_path=get_most_recent_file(path)\n",
    "feat_sel_results=pickle.load(open(file_path,'rb'))"
   ]
  },
  {
   "cell_type": "code",
   "execution_count": 5,
   "metadata": {},
   "outputs": [
    {
     "data": {
      "text/plain": [
       "[Precisions(direct=array([[0.76415751, 0.7530464 , 0.72184861, 0.83653846, 0.76625541,\n",
       "         0.7542957 , 0.72323954, 0.83399835, 0.81593712, 0.74960784],\n",
       "        [0.11637011, 0.13434681, 0.12182495, 0.10678182, 0.10762558,\n",
       "         0.10504888, 0.11308167, 0.10027026, 0.12055582, 0.11569538],\n",
       "        [0.11313663, 0.11317197, 0.08869077, 0.12059059, 0.11222733,\n",
       "         0.10360544, 0.11324325, 0.11019644, 0.10167287, 0.11335457],\n",
       "        [0.09606415, 0.10284295, 0.11560788, 0.14709619, 0.11101186,\n",
       "         0.12025349, 0.09627291, 0.11328528, 0.10322563, 0.10617522],\n",
       "        [0.11148043, 0.0977555 , 0.11449916, 0.1067221 , 0.10529973,\n",
       "         0.11212193, 0.11298987, 0.11089343, 0.10373015, 0.1069518 ],\n",
       "        [0.10706369, 0.11064291, 0.10520711, 0.12442819, 0.12602652,\n",
       "         0.13427481, 0.11410716, 0.14219883, 0.1178195 , 0.12776099],\n",
       "        [0.13731579, 0.12048466, 0.10288457, 0.11267303, 0.11190819,\n",
       "         0.11368209, 0.11126332, 0.12003519, 0.11290276, 0.1161357 ],\n",
       "        [0.12055272, 0.12763186, 0.10548421, 0.11694964, 0.10884193,\n",
       "         0.09482774, 0.10298509, 0.11173244, 0.09518053, 0.1128952 ],\n",
       "        [0.10867812, 0.11972976, 0.10493962, 0.11772551, 0.11223043,\n",
       "         0.11288369, 0.12029565, 0.13471387, 0.10165181, 0.13040074],\n",
       "        [0.1748585 , 0.14030882, 0.1698104 , 0.15267222, 0.12920425,\n",
       "         0.14781988, 0.16910987, 0.15631408, 0.16033553, 0.17445119],\n",
       "        [0.15117943, 0.15036069, 0.15263548, 0.16791756, 0.15318534,\n",
       "         0.16443179, 0.16758543, 0.1401921 , 0.15076638, 0.16569597],\n",
       "        [0.11831851, 0.13463627, 0.14438138, 0.14137251, 0.121845  ,\n",
       "         0.10688268, 0.16023448, 0.13481864, 0.14401911, 0.10981366],\n",
       "        [0.12917355, 0.12121804, 0.12889904, 0.11675352, 0.11644354,\n",
       "         0.1265188 , 0.11929254, 0.12805729, 0.10971514, 0.11831703]]), inverse=array([[0.81524809, 0.71428571, 0.78908091, 0.77596639, 0.76469655,\n",
       "         0.68159197, 0.73603175, 0.62657838, 0.79671995, 0.76748918],\n",
       "        [0.7747619 , 0.72323954, 0.79032213, 0.73887681, 0.7521331 ,\n",
       "         0.79510379, 0.68309524, 0.71672244, 0.78666667, 0.72572428],\n",
       "        [0.79270308, 0.73145257, 0.76469655, 0.74248501, 0.72345723,\n",
       "         0.71309524, 0.69927988, 0.71054348, 0.77449772, 0.75819902],\n",
       "        [0.80022283, 0.78279609, 0.79455267, 0.73983543, 0.80248918,\n",
       "         0.62343346, 0.73137807, 0.6899062 , 0.82825397, 0.80493464],\n",
       "        [0.73890609, 0.77172244, 0.72088974, 0.73644577, 0.72650751,\n",
       "         0.65550949, 0.81772283, 0.69485126, 0.70820513, 0.83797619],\n",
       "        [0.72964604, 0.68317927, 0.64485126, 0.70627706, 0.74620047,\n",
       "         0.73093712, 0.79751984, 0.7895652 , 0.78849206, 0.71165584],\n",
       "        [0.75040584, 0.8293254 , 0.77511016, 0.70582251, 0.64626984,\n",
       "         0.76637807, 0.73919719, 0.86605617, 0.7751912 , 0.69440961],\n",
       "        [0.75850459, 0.76814587, 0.74464604, 0.78420635, 0.76094655,\n",
       "         0.78232601, 0.77849206, 0.72818459, 0.76469655, 0.68562049],\n",
       "        [0.6242402 , 0.7627381 , 0.71858776, 0.7751912 , 0.76202381,\n",
       "         0.73970085, 0.765386  , 0.72121934, 0.6357197 , 0.78873016],\n",
       "        [0.77671995, 0.68906162, 0.77969655, 0.7343895 , 0.90420635,\n",
       "         0.85808168, 0.66191198, 0.70376942, 0.67386193, 0.68027473],\n",
       "        [0.76642126, 0.65157814, 0.73428571, 0.7227381 , 0.72650751,\n",
       "         0.69809991, 0.67470409, 0.67247752, 0.80469655, 0.80684842],\n",
       "        [0.61643926, 0.72345723, 0.75744949, 0.77310924, 0.73315934,\n",
       "         0.68001026, 0.78177045, 0.67977863, 0.68267857, 0.80563492],\n",
       "        [0.79611111, 0.66031025, 0.75337302, 0.71946766, 0.69906015,\n",
       "         0.86034188, 0.69964604, 0.73566378, 0.7537518 , 0.81112943]]), dataset='wine', model='EIF+', values=7.4096366345113545)]"
      ]
     },
     "execution_count": 5,
     "metadata": {},
     "output_type": "execute_result"
    }
   ],
   "source": [
    "feat_sel_results"
   ]
  },
  {
   "cell_type": "markdown",
   "metadata": {},
   "source": [
    "## Test `feature_importances` IForest PyOD"
   ]
  },
  {
   "cell_type": "code",
   "execution_count": 7,
   "metadata": {},
   "outputs": [],
   "source": [
    "from pyod.models.iforest import IForest"
   ]
  },
  {
   "cell_type": "code",
   "execution_count": null,
   "metadata": {},
   "outputs": [],
   "source": []
  },
  {
   "cell_type": "code",
   "execution_count": null,
   "metadata": {},
   "outputs": [],
   "source": []
  },
  {
   "cell_type": "code",
   "execution_count": null,
   "metadata": {},
   "outputs": [],
   "source": []
  },
  {
   "cell_type": "code",
   "execution_count": null,
   "metadata": {},
   "outputs": [],
   "source": []
  }
 ],
 "metadata": {
  "kernelspec": {
   "display_name": "venv",
   "language": "python",
   "name": "python3"
  },
  "language_info": {
   "codemirror_mode": {
    "name": "ipython",
    "version": 3
   },
   "file_extension": ".py",
   "mimetype": "text/x-python",
   "name": "python",
   "nbconvert_exporter": "python",
   "pygments_lexer": "ipython3",
   "version": "3.11.5"
  }
 },
 "nbformat": 4,
 "nbformat_minor": 2
}
