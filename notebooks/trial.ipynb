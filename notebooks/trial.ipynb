{
 "cells": [
  {
   "cell_type": "code",
   "execution_count": 1,
   "metadata": {},
   "outputs": [],
   "source": [
    "import sys\n",
    "sys.path.append('..')"
   ]
  },
  {
   "cell_type": "code",
   "execution_count": 2,
   "metadata": {},
   "outputs": [],
   "source": [
    "\n",
    "%load_ext snakeviz"
   ]
  },
  {
   "cell_type": "code",
   "execution_count": 3,
   "metadata": {},
   "outputs": [],
   "source": [
    "from utils_reboot.datasets import Dataset\n",
    "\n",
    "dataset = Dataset(\"wine\", path = \"../data/real/\")\n",
    "dataset.drop_duplicates()"
   ]
  },
  {
   "cell_type": "code",
   "execution_count": 4,
   "metadata": {},
   "outputs": [],
   "source": [
    "from model_reboot.EIF_reboot import ExtendedTree, ExtendedIsolationForest\n",
    "import numpy as np"
   ]
  },
  {
   "cell_type": "code",
   "execution_count": 5,
   "metadata": {},
   "outputs": [],
   "source": [
    "I=ExtendedIsolationForest(True)"
   ]
  },
  {
   "cell_type": "code",
   "execution_count": 6,
   "metadata": {},
   "outputs": [],
   "source": [
    "I.fit(dataset.X)"
   ]
  },
  {
   "cell_type": "code",
   "execution_count": 7,
   "metadata": {},
   "outputs": [],
   "source": [
    "# from pyinstrument import Profiler\n",
    "# profiler = Profiler()\n",
    "# profiler.start()\n",
    "# I.fit(dataset.X)\n",
    "# profiler.stop()\n",
    "# profiler.print()"
   ]
  },
  {
   "cell_type": "code",
   "execution_count": 8,
   "metadata": {},
   "outputs": [
    {
     "data": {
      "text/plain": [
       "array([1., 1., 1., 1., 1., 1., 1., 1., 1., 1., 0., 0., 0., 0., 0., 0., 0.,\n",
       "       0., 0., 0., 0., 0., 0., 0., 0., 0., 0., 0., 0., 0., 0., 0., 0., 0.,\n",
       "       0., 0., 0., 0., 0., 0., 0., 0., 0., 0., 0., 0., 0., 0., 0., 0., 0.,\n",
       "       0., 0., 0., 0., 0., 0., 0., 0., 0., 0., 0., 0., 0., 0., 0., 0., 0.,\n",
       "       0., 0., 0., 0., 0., 0., 0., 0., 0., 0., 0., 0., 0., 0., 0., 0., 0.,\n",
       "       0., 0., 0., 0., 0., 0., 0., 0., 0., 0., 0., 0., 0., 0., 0., 0., 0.,\n",
       "       0., 0., 0., 0., 0., 0., 0., 0., 0., 0., 0., 0., 0., 0., 0., 0., 0.,\n",
       "       0., 0., 0., 0., 0., 0., 0., 0., 0., 0.])"
      ]
     },
     "execution_count": 8,
     "metadata": {},
     "output_type": "execute_result"
    }
   ],
   "source": [
    "dataset.y"
   ]
  },
  {
   "cell_type": "code",
   "execution_count": 9,
   "metadata": {},
   "outputs": [
    {
     "name": "stderr",
     "output_type": "stream",
     "text": [
      "<string>:3: NumbaPerformanceWarning: np.dot() is faster on contiguous arrays, called on (array(float64, 1d, A), array(float64, 1d, A))\n"
     ]
    },
    {
     "data": {
      "text/plain": [
       "array([[0.56862193, 1.        ],\n",
       "       [0.56166942, 1.        ],\n",
       "       [0.56112128, 0.        ],\n",
       "       [0.55545233, 1.        ],\n",
       "       [0.55534387, 0.        ],\n",
       "       [0.55512702, 0.        ],\n",
       "       [0.54994802, 0.        ],\n",
       "       [0.54951863, 1.        ],\n",
       "       [0.54855371, 1.        ],\n",
       "       [0.54833951, 0.        ],\n",
       "       [0.54759049, 1.        ],\n",
       "       [0.54598888, 0.        ],\n",
       "       [0.54598888, 1.        ],\n",
       "       [0.54545605, 0.        ],\n",
       "       [0.54534954, 0.        ],\n",
       "       [0.54524306, 0.        ],\n",
       "       [0.54471096, 0.        ],\n",
       "       [0.54332992, 0.        ],\n",
       "       [0.54290569, 0.        ],\n",
       "       [0.54279969, 0.        ],\n",
       "       [0.5426937 , 0.        ],\n",
       "       [0.54258774, 1.        ],\n",
       "       [0.54195239, 0.        ],\n",
       "       [0.54184657, 0.        ],\n",
       "       [0.5414235 , 0.        ],\n",
       "       [0.54110641, 0.        ],\n",
       "       [0.54100076, 0.        ],\n",
       "       [0.54057835, 0.        ],\n",
       "       [0.54057835, 1.        ],\n",
       "       [0.54036727, 0.        ],\n",
       "       [0.54015627, 0.        ],\n",
       "       [0.5400508 , 1.        ],\n",
       "       [0.53983993, 0.        ],\n",
       "       [0.53952377, 0.        ],\n",
       "       [0.53920779, 0.        ],\n",
       "       [0.53920779, 0.        ],\n",
       "       [0.53910251, 0.        ],\n",
       "       [0.53847124, 0.        ],\n",
       "       [0.53847124, 0.        ],\n",
       "       [0.5383661 , 0.        ],\n",
       "       [0.53826098, 0.        ],\n",
       "       [0.53826098, 0.        ],\n",
       "       [0.53826098, 0.        ],\n",
       "       [0.53815588, 0.        ],\n",
       "       [0.53805081, 0.        ],\n",
       "       [0.53805081, 0.        ],\n",
       "       [0.53805081, 0.        ],\n",
       "       [0.53805081, 0.        ],\n",
       "       [0.53794575, 0.        ],\n",
       "       [0.53794575, 0.        ],\n",
       "       [0.53784071, 0.        ],\n",
       "       [0.53784071, 0.        ],\n",
       "       [0.53773569, 0.        ],\n",
       "       [0.53773569, 0.        ],\n",
       "       [0.53773569, 0.        ],\n",
       "       [0.53773569, 0.        ],\n",
       "       [0.53752572, 0.        ],\n",
       "       [0.53752572, 0.        ],\n",
       "       [0.53742077, 0.        ],\n",
       "       [0.53731583, 0.        ],\n",
       "       [0.53731583, 0.        ],\n",
       "       [0.53731583, 0.        ],\n",
       "       [0.53721092, 0.        ],\n",
       "       [0.53721092, 0.        ],\n",
       "       [0.53710603, 0.        ],\n",
       "       [0.53710603, 0.        ],\n",
       "       [0.53700115, 0.        ],\n",
       "       [0.53700115, 0.        ],\n",
       "       [0.53700115, 0.        ],\n",
       "       [0.53700115, 0.        ],\n",
       "       [0.53700115, 0.        ],\n",
       "       [0.53700115, 0.        ],\n",
       "       [0.53700115, 0.        ],\n",
       "       [0.53700115, 0.        ],\n",
       "       [0.5368963 , 0.        ],\n",
       "       [0.53679147, 0.        ],\n",
       "       [0.53679147, 0.        ],\n",
       "       [0.53679147, 0.        ],\n",
       "       [0.53679147, 0.        ],\n",
       "       [0.53668666, 0.        ],\n",
       "       [0.53668666, 0.        ],\n",
       "       [0.53668666, 0.        ],\n",
       "       [0.53658187, 0.        ],\n",
       "       [0.53658187, 0.        ],\n",
       "       [0.53658187, 0.        ],\n",
       "       [0.53658187, 0.        ],\n",
       "       [0.53647709, 0.        ],\n",
       "       [0.53647709, 0.        ],\n",
       "       [0.53637234, 0.        ],\n",
       "       [0.53637234, 0.        ],\n",
       "       [0.53637234, 0.        ],\n",
       "       [0.53626761, 0.        ],\n",
       "       [0.53626761, 0.        ],\n",
       "       [0.53626761, 0.        ],\n",
       "       [0.53626761, 0.        ],\n",
       "       [0.53626761, 0.        ],\n",
       "       [0.53626761, 0.        ],\n",
       "       [0.53626761, 0.        ],\n",
       "       [0.53626761, 0.        ],\n",
       "       [0.53626761, 0.        ],\n",
       "       [0.5361629 , 0.        ],\n",
       "       [0.5361629 , 0.        ],\n",
       "       [0.5361629 , 0.        ],\n",
       "       [0.5361629 , 0.        ],\n",
       "       [0.53605822, 0.        ],\n",
       "       [0.53605822, 0.        ],\n",
       "       [0.53605822, 0.        ],\n",
       "       [0.53605822, 0.        ],\n",
       "       [0.53605822, 0.        ],\n",
       "       [0.53595355, 0.        ],\n",
       "       [0.53595355, 0.        ],\n",
       "       [0.53595355, 0.        ],\n",
       "       [0.53595355, 0.        ],\n",
       "       [0.53595355, 0.        ],\n",
       "       [0.53595355, 0.        ],\n",
       "       [0.5358489 , 0.        ],\n",
       "       [0.5358489 , 0.        ],\n",
       "       [0.5358489 , 0.        ],\n",
       "       [0.5358489 , 0.        ],\n",
       "       [0.53574427, 0.        ],\n",
       "       [0.53574427, 0.        ],\n",
       "       [0.53574427, 0.        ],\n",
       "       [0.53574427, 0.        ],\n",
       "       [0.53574427, 0.        ],\n",
       "       [0.53563966, 0.        ],\n",
       "       [0.53553508, 0.        ],\n",
       "       [0.53553508, 0.        ],\n",
       "       [0.53553508, 0.        ],\n",
       "       [0.53543051, 0.        ]])"
      ]
     },
     "execution_count": 9,
     "metadata": {},
     "output_type": "execute_result"
    }
   ],
   "source": [
    "m = np.c_[I.predict(dataset.X),dataset.y]\n",
    "m[np.argsort(m[:,0,])][::-1]"
   ]
  },
  {
   "cell_type": "markdown",
   "metadata": {},
   "source": [
    "# Test time"
   ]
  },
  {
   "cell_type": "code",
   "execution_count": 10,
   "metadata": {},
   "outputs": [
    {
     "name": "stdout",
     "output_type": "stream",
     "text": [
      " \n",
      "*** Profile stats marshalled to file '/var/folders/m5/gwy76h051b78cmrncgncqv880000gn/T/tmpilo3d7f5'.\n",
      "Opening SnakeViz in a new tab...\n",
      "snakeviz web server started on 127.0.0.1:8080; enter Ctrl-C to exit\n",
      "http://127.0.0.1:8080/snakeviz/%2Fvar%2Ffolders%2Fm5%2Fgwy76h051b78cmrncgncqv880000gn%2FT%2Ftmpilo3d7f5\n"
     ]
    }
   ],
   "source": [
    "\n",
    "%snakeviz --new-tab I.fit(dataset.X)"
   ]
  },
  {
   "cell_type": "code",
   "execution_count": 12,
   "metadata": {},
   "outputs": [
    {
     "name": "stderr",
     "output_type": "stream",
     "text": [
      " 10%|█         | 1/10 [00:15<02:22, 15.85s/it]\n"
     ]
    },
    {
     "ename": "KeyboardInterrupt",
     "evalue": "",
     "output_type": "error",
     "traceback": [
      "\u001b[0;31m---------------------------------------------------------------------------\u001b[0m",
      "\u001b[0;31mKeyboardInterrupt\u001b[0m                         Traceback (most recent call last)",
      "Cell \u001b[0;32mIn [12], line 6\u001b[0m\n\u001b[1;32m      4\u001b[0m I\u001b[38;5;241m=\u001b[39mExtendedIsolationForest(\u001b[38;5;28;01mTrue\u001b[39;00m,n_estimators\u001b[38;5;241m=\u001b[39m\u001b[38;5;241m400\u001b[39m)\n\u001b[1;32m      5\u001b[0m \u001b[38;5;28;01mfor\u001b[39;00m _ \u001b[38;5;129;01min\u001b[39;00m tqdm\u001b[38;5;241m.\u001b[39mtqdm(\u001b[38;5;28mrange\u001b[39m(\u001b[38;5;241m10\u001b[39m)):\n\u001b[0;32m----> 6\u001b[0m     \u001b[43mI\u001b[49m\u001b[38;5;241;43m.\u001b[39;49m\u001b[43mfit\u001b[49m\u001b[43m(\u001b[49m\u001b[43mdataset\u001b[49m\u001b[38;5;241;43m.\u001b[39;49m\u001b[43mX\u001b[49m\u001b[43m)\u001b[49m\n\u001b[1;32m      7\u001b[0m     I\u001b[38;5;241m.\u001b[39mpredict(dataset\u001b[38;5;241m.\u001b[39mX)\n",
      "File \u001b[0;32m~/Documents/ExIFFI/notebooks/../model_reboot/EIF_reboot.py:189\u001b[0m, in \u001b[0;36mfit\u001b[0;34m(self, X, locked_dims)\u001b[0m\n\u001b[1;32m    186\u001b[0m     locked_dims \u001b[38;5;241m=\u001b[39m \u001b[38;5;241m0\u001b[39m\n\u001b[1;32m    187\u001b[0m subsample_size \u001b[38;5;241m=\u001b[39m np\u001b[38;5;241m.\u001b[39mmin((\u001b[38;5;28mself\u001b[39m\u001b[38;5;241m.\u001b[39mmax_samples, \u001b[38;5;28mlen\u001b[39m(X)))\n\u001b[1;32m    188\u001b[0m \u001b[38;5;28mself\u001b[39m\u001b[38;5;241m.\u001b[39mtrees \u001b[38;5;241m=\u001b[39m [ExtendedTree(subsample_size, X\u001b[38;5;241m.\u001b[39mshape[\u001b[38;5;241m1\u001b[39m], \u001b[38;5;28mint\u001b[39m(np\u001b[38;5;241m.\u001b[39mlog2(X\u001b[38;5;241m.\u001b[39mshape[\u001b[38;5;241m0\u001b[39m]))\u001b[38;5;241m+\u001b[39m\u001b[38;5;241m1\u001b[39m, \u001b[38;5;28mself\u001b[39m\u001b[38;5;241m.\u001b[39mplus, locked_dims)\n\u001b[0;32m--> 189\u001b[0m               \u001b[38;5;28;01mfor\u001b[39;00m _ \u001b[38;5;129;01min\u001b[39;00m \u001b[38;5;28mrange\u001b[39m(\u001b[38;5;28mself\u001b[39m\u001b[38;5;241m.\u001b[39mn_estimators)]\n\u001b[1;32m    190\u001b[0m \u001b[38;5;28;01mfor\u001b[39;00m T \u001b[38;5;129;01min\u001b[39;00m \u001b[38;5;28mself\u001b[39m\u001b[38;5;241m.\u001b[39mtrees:\n\u001b[1;32m    191\u001b[0m     T\u001b[38;5;241m.\u001b[39mfit(X[np\u001b[38;5;241m.\u001b[39mrandom\u001b[38;5;241m.\u001b[39mrandint(\u001b[38;5;28mlen\u001b[39m(X), size\u001b[38;5;241m=\u001b[39msubsample_size)])\n",
      "File \u001b[0;32m~/Documents/ExIFFI/notebooks/../model_reboot/EIF_reboot.py:189\u001b[0m, in \u001b[0;36m<listcomp>\u001b[0;34m(.0)\u001b[0m\n\u001b[1;32m    186\u001b[0m     locked_dims \u001b[38;5;241m=\u001b[39m \u001b[38;5;241m0\u001b[39m\n\u001b[1;32m    187\u001b[0m subsample_size \u001b[38;5;241m=\u001b[39m np\u001b[38;5;241m.\u001b[39mmin((\u001b[38;5;28mself\u001b[39m\u001b[38;5;241m.\u001b[39mmax_samples, \u001b[38;5;28mlen\u001b[39m(X)))\n\u001b[1;32m    188\u001b[0m \u001b[38;5;28mself\u001b[39m\u001b[38;5;241m.\u001b[39mtrees \u001b[38;5;241m=\u001b[39m [ExtendedTree(subsample_size, X\u001b[38;5;241m.\u001b[39mshape[\u001b[38;5;241m1\u001b[39m], \u001b[38;5;28mint\u001b[39m(np\u001b[38;5;241m.\u001b[39mlog2(X\u001b[38;5;241m.\u001b[39mshape[\u001b[38;5;241m0\u001b[39m]))\u001b[38;5;241m+\u001b[39m\u001b[38;5;241m1\u001b[39m, \u001b[38;5;28mself\u001b[39m\u001b[38;5;241m.\u001b[39mplus, locked_dims)\n\u001b[0;32m--> 189\u001b[0m               \u001b[38;5;28;01mfor\u001b[39;00m _ \u001b[38;5;129;01min\u001b[39;00m \u001b[38;5;28mrange\u001b[39m(\u001b[38;5;28mself\u001b[39m\u001b[38;5;241m.\u001b[39mn_estimators)]\n\u001b[1;32m    190\u001b[0m \u001b[38;5;28;01mfor\u001b[39;00m T \u001b[38;5;129;01min\u001b[39;00m \u001b[38;5;28mself\u001b[39m\u001b[38;5;241m.\u001b[39mtrees:\n\u001b[1;32m    191\u001b[0m     T\u001b[38;5;241m.\u001b[39mfit(X[np\u001b[38;5;241m.\u001b[39mrandom\u001b[38;5;241m.\u001b[39mrandint(\u001b[38;5;28mlen\u001b[39m(X), size\u001b[38;5;241m=\u001b[39msubsample_size)])\n",
      "File \u001b[0;32m~/.virtualenvs/venv/lib/python3.9/site-packages/numba/experimental/jitclass/base.py:124\u001b[0m, in \u001b[0;36mJitClassType.__call__\u001b[0;34m(cls, *args, **kwargs)\u001b[0m\n\u001b[1;32m    122\u001b[0m bind \u001b[38;5;241m=\u001b[39m \u001b[38;5;28mcls\u001b[39m\u001b[38;5;241m.\u001b[39m_ctor_sig\u001b[38;5;241m.\u001b[39mbind(\u001b[38;5;28;01mNone\u001b[39;00m, \u001b[38;5;241m*\u001b[39margs, \u001b[38;5;241m*\u001b[39m\u001b[38;5;241m*\u001b[39mkwargs)\n\u001b[1;32m    123\u001b[0m bind\u001b[38;5;241m.\u001b[39mapply_defaults()\n\u001b[0;32m--> 124\u001b[0m \u001b[38;5;28;01mreturn\u001b[39;00m \u001b[38;5;28;43mcls\u001b[39;49m\u001b[38;5;241;43m.\u001b[39;49m\u001b[43m_ctor\u001b[49m\u001b[43m(\u001b[49m\u001b[38;5;241;43m*\u001b[39;49m\u001b[43mbind\u001b[49m\u001b[38;5;241;43m.\u001b[39;49m\u001b[43margs\u001b[49m\u001b[43m[\u001b[49m\u001b[38;5;241;43m1\u001b[39;49m\u001b[43m:\u001b[49m\u001b[43m]\u001b[49m\u001b[43m,\u001b[49m\u001b[43m \u001b[49m\u001b[38;5;241;43m*\u001b[39;49m\u001b[38;5;241;43m*\u001b[39;49m\u001b[43mbind\u001b[49m\u001b[38;5;241;43m.\u001b[39;49m\u001b[43mkwargs\u001b[49m\u001b[43m)\u001b[49m\n",
      "\u001b[0;31mKeyboardInterrupt\u001b[0m: "
     ]
    }
   ],
   "source": [
    "import tqdm\n",
    "dataset = Dataset(\"wine\", path = \"../data/real/\")\n",
    "dataset.drop_duplicates()\n",
    "I=ExtendedIsolationForest(True,n_estimators=400)\n",
    "for _ in tqdm.tqdm(range(10)):\n",
    "    I.fit(dataset.X)\n",
    "    I.predict(dataset.X)\n"
   ]
  }
 ],
 "metadata": {
  "kernelspec": {
   "display_name": "venv",
   "language": "python",
   "name": "python3"
  },
  "language_info": {
   "codemirror_mode": {
    "name": "ipython",
    "version": 3
   },
   "file_extension": ".py",
   "mimetype": "text/x-python",
   "name": "python",
   "nbconvert_exporter": "python",
   "pygments_lexer": "ipython3",
   "version": "3.9.15"
  }
 },
 "nbformat": 4,
 "nbformat_minor": 2
}
