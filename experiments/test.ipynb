{
 "cells": [
  {
   "cell_type": "code",
   "execution_count": 1,
   "metadata": {},
   "outputs": [],
   "source": [
    "import sys\n",
    "sys.path.append('..')\n",
    "\n",
    "from utils_reboot.datasets import Dataset"
   ]
  },
  {
   "cell_type": "code",
   "execution_count": 25,
   "metadata": {},
   "outputs": [
    {
     "name": "stdout",
     "output_type": "stream",
     "text": [
      "Train size is too large. Setting it at 1-dataset.perc_outliers.\n"
     ]
    }
   ],
   "source": [
    "dataset_path = '../data/real/'\n",
    "dataset= Dataset(\"annthyroid\",dataset_path)\n",
    "dataset.split_dataset(1,0.0)\n",
    "dataset.pre_process()"
   ]
  },
  {
   "cell_type": "code",
   "execution_count": 26,
   "metadata": {},
   "outputs": [
    {
     "name": "stdout",
     "output_type": "stream",
     "text": [
      "(6666, 6)\n",
      "(7200, 6)\n"
     ]
    }
   ],
   "source": [
    "print(dataset.X_train.shape)\n",
    "print(dataset.X.shape)"
   ]
  },
  {
   "cell_type": "code",
   "execution_count": 27,
   "metadata": {},
   "outputs": [],
   "source": [
    "from model_reboot.EIF_reboot import ExtendedIsolationForest\n",
    "import sklearn\n",
    "\n",
    "I = ExtendedIsolationForest(1)"
   ]
  },
  {
   "cell_type": "code",
   "execution_count": 28,
   "metadata": {},
   "outputs": [
    {
     "data": {
      "text/plain": [
       "0.4882307495077002"
      ]
     },
     "execution_count": 28,
     "metadata": {},
     "output_type": "execute_result"
    }
   ],
   "source": [
    "I.fit(dataset.X_train)\n",
    "y_pred  = I.predict(dataset.X)\n",
    "sklearn.metrics.average_precision_score(dataset.y,y_pred)"
   ]
  }
 ],
 "metadata": {
  "kernelspec": {
   "display_name": "venv",
   "language": "python",
   "name": "python3"
  },
  "language_info": {
   "codemirror_mode": {
    "name": "ipython",
    "version": 3
   },
   "file_extension": ".py",
   "mimetype": "text/x-python",
   "name": "python",
   "nbconvert_exporter": "python",
   "pygments_lexer": "ipython3",
   "version": "3.9.15"
  }
 },
 "nbformat": 4,
 "nbformat_minor": 2
}
