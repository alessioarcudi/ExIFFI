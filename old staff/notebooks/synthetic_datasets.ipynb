{
 "cells": [
  {
   "cell_type": "markdown",
   "metadata": {},
   "source": [
    "# SYNTHETIC DATASET GENERATION "
   ]
  },
  {
   "cell_type": "code",
   "execution_count": 1,
   "metadata": {},
   "outputs": [],
   "source": [
    "import sys\n",
    "import numpy as np\n",
    "import pandas as pd\n",
    "from tqdm import tqdm\n",
    "from sklearn.preprocessing import StandardScaler\n",
    "sys.path.append('../')\n",
    "from utils import *\n",
    "#from utils.feature_selection import *\n",
    "from plot import *\n",
    "from simulation_setup import *\n",
    "from models import *\n",
    "from models.Extended_IF import *\n",
    "from models.Extended_DIFFI import *\n",
    "from models.Extended_DIFFI_original import *\n",
    "import math\n",
    "import seaborn as sns\n",
    "sns.set()\n",
    "\n",
    "import os\n",
    "import pickle \n",
    "\n",
    "import warnings\n",
    "warnings.simplefilter(action='ignore', category=FutureWarning)\n",
    "warnings.simplefilter(action='ignore', category=RuntimeWarning)"
   ]
  },
  {
   "cell_type": "markdown",
   "metadata": {},
   "source": [
    "## Training Set "
   ]
  },
  {
   "cell_type": "code",
   "execution_count": 16,
   "metadata": {},
   "outputs": [],
   "source": [
    "def generate_random_points_in_ball(size, dimensions, radius):\n",
    "    if dimensions <= 0 or radius <= 0:\n",
    "        raise ValueError(\"Dimensions and radius must be positive values.\")\n",
    "    \n",
    "    points = []\n",
    "    \n",
    "    while len(points) < size:\n",
    "        point = np.random.uniform(low=-radius, high=radius, size=dimensions)\n",
    "        if np.linalg.norm(point) <= radius:\n",
    "            points.append(point)\n",
    "            \n",
    "    return points"
   ]
  },
  {
   "cell_type": "code",
   "execution_count": 17,
   "metadata": {},
   "outputs": [],
   "source": [
    "# Example usage\n",
    "size = 1000\n",
    "dimensions = 6\n",
    "radius = 5.0\n",
    "\n",
    "X_train = np.array(generate_random_points_in_ball(size, dimensions, radius))"
   ]
  },
  {
   "cell_type": "code",
   "execution_count": 32,
   "metadata": {},
   "outputs": [],
   "source": [
    "d={\n",
    "    'X_train':X_train\n",
    "}\n",
    "file_to_read = os.getcwd()+'\\\\ball_6_dim.pkl'\n",
    "with open(file_to_read, 'wb') as file:\n",
    "    pickle.dump(d,file)"
   ]
  },
  {
   "cell_type": "markdown",
   "metadata": {},
   "source": [
    "## Synthetic Anomaly Interval"
   ]
  },
  {
   "cell_type": "code",
   "execution_count": null,
   "metadata": {},
   "outputs": [],
   "source": [
    "anomaly_interval=[7,12]\n",
    "anomaly_interval_2=[np.sqrt(49/2),np.sqrt(144/2)]\n",
    "anomaly_interval_3=[np.sqrt(49/3),np.sqrt(144/3)]\n",
    "anomaly_interval_6=[np.sqrt(49/6),np.sqrt(144/6)]"
   ]
  },
  {
   "cell_type": "code",
   "execution_count": null,
   "metadata": {},
   "outputs": [],
   "source": [
    "anomaly_interval=[5,10]\n",
    "anomaly_interval_2=[np.sqrt(25/2),np.sqrt(100/2)]\n",
    "anomaly_interval_3=[np.sqrt(25/3),np.sqrt(100/3)]\n",
    "anomaly_interval_6=[np.sqrt(25/6),np.sqrt(100/6)]"
   ]
  },
  {
   "cell_type": "markdown",
   "metadata": {},
   "source": [
    "## Xaxis"
   ]
  },
  {
   "cell_type": "code",
   "execution_count": 2,
   "metadata": {},
   "outputs": [],
   "source": [
    "def generate_x_axis(size,min,max):\n",
    "    x=np.random.uniform(min,max,size=size)\n",
    "    y=np.random.normal(0,1,size=(x.shape[0],5))\n",
    "    xy=np.column_stack((x,y))\n",
    "    return xy"
   ]
  },
  {
   "cell_type": "code",
   "execution_count": 20,
   "metadata": {},
   "outputs": [
    {
     "data": {
      "text/plain": [
       "(100, 6)"
      ]
     },
     "execution_count": 20,
     "metadata": {},
     "output_type": "execute_result"
    }
   ],
   "source": [
    "xy1=generate_x_axis(50,anomaly_interval[0],anomaly_interval[1])\n",
    "xy2=generate_x_axis(50,-anomaly_interval[1],-anomaly_interval[0])\n",
    "X_xaxis=np.row_stack((xy1,xy2))\n",
    "X_xaxis.shape"
   ]
  },
  {
   "cell_type": "markdown",
   "metadata": {},
   "source": [
    "## Yaxis"
   ]
  },
  {
   "cell_type": "code",
   "execution_count": 3,
   "metadata": {},
   "outputs": [],
   "source": [
    "def generate_y_axis(size,min,max):\n",
    "    x=np.random.normal(0,1,size=size)\n",
    "    y=np.random.uniform(min,max,size=x.shape[0])\n",
    "    xy=np.column_stack((x,y))\n",
    "    z=np.random.normal(0,1,size=(x.shape[0],4))\n",
    "    xyz=np.column_stack((xy,z))\n",
    "    return xyz"
   ]
  },
  {
   "cell_type": "code",
   "execution_count": 22,
   "metadata": {},
   "outputs": [
    {
     "data": {
      "text/plain": [
       "(100, 6)"
      ]
     },
     "execution_count": 22,
     "metadata": {},
     "output_type": "execute_result"
    }
   ],
   "source": [
    "xy1=generate_y_axis(50,anomaly_interval[0],anomaly_interval[1])\n",
    "xy2=generate_y_axis(50,-anomaly_interval[1],-anomaly_interval[0])\n",
    "X_yaxis=np.row_stack((xy1,xy2))\n",
    "X_yaxis.shape"
   ]
  },
  {
   "cell_type": "markdown",
   "metadata": {},
   "source": [
    "## Bisect Anomalies\n",
    "\n",
    "Changing the input parameter d it's possible to choose the dimensionality of the bisect anomaly. The values of d used in the paper were d=2,3,6."
   ]
  },
  {
   "cell_type": "code",
   "execution_count": 4,
   "metadata": {},
   "outputs": [],
   "source": [
    "def bisect(size,min,max,d,dim=6):\n",
    "    data=np.zeros(shape=(size,dim))\n",
    "    data[:,0]=np.random.uniform(min,max,size=size)\n",
    "    for i in range(1,d):\n",
    "        data[:,i]=data[:,0]+np.random.normal(0,1,size=size)\n",
    "\n",
    "    for i in range(d,dim):\n",
    "        data[:,i]=np.random.normal(0,1,size=size)\n",
    "\n",
    "    return data"
   ]
  },
  {
   "cell_type": "code",
   "execution_count": 10,
   "metadata": {},
   "outputs": [],
   "source": [
    "X_bisect=np.row_stack((bisect(50,5,10,2),bisect(50,-10,-5,2)))\n",
    "X_bisect_3d=np.row_stack((bisect(50,5,10,3),bisect(50,-10,-5,3)))\n",
    "X_bisect_4d=np.row_stack((bisect(50,5,10,4),bisect(50,-10,-5,4)))\n",
    "X_bisect_6d=np.row_stack((bisect(50,5,10,6),bisect(50,-10,-5,6)))"
   ]
  },
  {
   "cell_type": "code",
   "execution_count": 25,
   "metadata": {},
   "outputs": [
    {
     "data": {
      "text/plain": [
       "'c:\\\\Users\\\\lemeda98\\\\Desktop\\\\PHD Information Engineering\\\\ExIFFI\\\\ExIFFI\\\\data\\\\diffi_data'"
      ]
     },
     "execution_count": 25,
     "metadata": {},
     "output_type": "execute_result"
    }
   ],
   "source": [
    "os.chdir('c:\\\\Users\\\\lemeda98\\\\Desktop\\\\PHD Information Engineering\\\\ExIFFI\\\\ExIFFI\\\\data\\\\diffi_data')\n",
    "os.getcwd()"
   ]
  },
  {
   "cell_type": "code",
   "execution_count": 11,
   "metadata": {},
   "outputs": [],
   "source": [
    "d={\n",
    "    'X_xaxis': X_xaxis,\n",
    "    'X_yaxis': X_yaxis,\n",
    "    'X_bisect': X_bisect,\n",
    "    'X_bisect_3d': X_bisect_3d,\n",
    "    'X_bisect_6d': X_bisect_6d\n",
    "}\n",
    "\n",
    "file_to_read = os.getcwd()+'\\\\syn_test_anomaly_interval_5_10.pkl'\n",
    "with open(file_to_read, 'wb') as file:\n",
    "    pickle.dump(d,file)"
   ]
  },
  {
   "cell_type": "code",
   "execution_count": null,
   "metadata": {},
   "outputs": [],
   "source": []
  },
  {
   "cell_type": "code",
   "execution_count": null,
   "metadata": {},
   "outputs": [],
   "source": []
  },
  {
   "cell_type": "code",
   "execution_count": null,
   "metadata": {},
   "outputs": [],
   "source": []
  }
 ],
 "metadata": {
  "kernelspec": {
   "display_name": "Python 3",
   "language": "python",
   "name": "python3"
  },
  "language_info": {
   "codemirror_mode": {
    "name": "ipython",
    "version": 3
   },
   "file_extension": ".py",
   "mimetype": "text/x-python",
   "name": "python",
   "nbconvert_exporter": "python",
   "pygments_lexer": "ipython3",
   "version": "3.10.11"
  },
  "orig_nbformat": 4
 },
 "nbformat": 4,
 "nbformat_minor": 2
}
